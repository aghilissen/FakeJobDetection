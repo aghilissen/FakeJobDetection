{
 "cells": [
  {
   "cell_type": "code",
   "execution_count": 47,
   "metadata": {},
   "outputs": [],
   "source": [
    "gmaps_key = open('/home/antoine/.apikeys/Google', 'r').read()"
   ]
  },
  {
   "cell_type": "code",
   "execution_count": 48,
   "metadata": {},
   "outputs": [],
   "source": [
    "def get_coords(address):\n",
    "    \"\"\"\n",
    "    \n",
    "    \"\"\"\n",
    "    import requests\n",
    "    url = ('https://maps.googleapis.com/maps/api/geocode/json?address={}&key={}'\n",
    "       .format(address.replace(' ','+'),gmaps_key))\n",
    "    try:\n",
    "        response = requests.get(url).json()\n",
    "        lat = response['results'][0]['geometry']['location']['lat']\n",
    "        lng = response['results'][0]['geometry']['location']['lng']\n",
    "    except:\n",
    "        lat = 0\n",
    "        lng = 0\n",
    "    return address, lat, lng"
   ]
  },
  {
   "cell_type": "code",
   "execution_count": 49,
   "metadata": {},
   "outputs": [],
   "source": [
    "address = \"London\""
   ]
  },
  {
   "cell_type": "code",
   "execution_count": 50,
   "metadata": {},
   "outputs": [],
   "source": [
    "address, lat, lng = get_coords(address)"
   ]
  }
 ],
 "metadata": {
  "kernelspec": {
   "display_name": "Python 3",
   "language": "python",
   "name": "python3"
  },
  "language_info": {
   "codemirror_mode": {
    "name": "ipython",
    "version": 3
   },
   "file_extension": ".py",
   "mimetype": "text/x-python",
   "name": "python",
   "nbconvert_exporter": "python",
   "pygments_lexer": "ipython3",
   "version": "3.8.2"
  }
 },
 "nbformat": 4,
 "nbformat_minor": 4
}
