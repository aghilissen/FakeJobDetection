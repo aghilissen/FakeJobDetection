{
 "cells": [
  {
   "cell_type": "code",
   "execution_count": 9,
   "metadata": {},
   "outputs": [],
   "source": [
    "from collections import Counter\n",
    "import matplotlib.pyplot as plt\n",
    "import numpy as np\n",
    "from numpy import where\n",
    "import pandas as pd\n",
    "import re\n",
    "import seaborn as sns\n",
    "\n",
    "from nltk.tokenize import RegexpTokenizer\n",
    "from sklearn.preprocessing import OneHotEncoder\n",
    "from sklearn.feature_extraction.text import TfidfVectorizer\n",
    "\n",
    "from sklearn.model_selection import train_test_split\n",
    "from sklearn.model_selection import KFold\n",
    "from imblearn.over_sampling import SMOTE\n",
    "\n",
    "from sklearn.tree import DecisionTreeClassifier\n",
    "from sklearn.naive_bayes import GaussianNB\n",
    "from sklearn.naive_bayes import MultinomialNB\n",
    "from sklearn.ensemble import RandomForestClassifier\n",
    "from xgboost import XGBClassifier\n",
    "\n",
    "import itertools\n",
    "from sklearn.metrics import confusion_matrix\n",
    "from sklearn.metrics import roc_curve\n",
    "from sklearn.metrics import auc\n",
    "from sklearn.metrics import roc_auc_score\n",
    "\n",
    "from sklearn.model_selection import GridSearchCV\n",
    "\n",
    "from sklearn.pipeline import Pipeline"
   ]
  },
  {
   "cell_type": "markdown",
   "metadata": {},
   "source": [
    "# Setup"
   ]
  },
  {
   "cell_type": "code",
   "execution_count": 10,
   "metadata": {},
   "outputs": [],
   "source": [
    "df = pd.read_csv(\"/home/jupyter/fake_job_postings.csv\",index_col='job_id')"
   ]
  },
  {
   "cell_type": "markdown",
   "metadata": {},
   "source": [
    "Because we've identified the False Negative to be the errors with the highest cost and because we'd rather use a ROC_AUC score (as well as the ROC curve which has the benefit to help us fine tune the most efficient model), we've decided to swap the values in the 'fraudulent' column. This means the model will now predict if a job post is legitimate and it will allow us to minimise the False positive (when an offer is flagged as legit by the model but actually is of fraudulent nature):"
   ]
  },
  {
   "cell_type": "code",
   "execution_count": 11,
   "metadata": {},
   "outputs": [],
   "source": [
    "df['fraudulent'].replace([0,1], [1,0], inplace=True)"
   ]
  },
  {
   "cell_type": "markdown",
   "metadata": {},
   "source": [
    "## Addressing the missing information"
   ]
  },
  {
   "cell_type": "markdown",
   "metadata": {},
   "source": [
    "We have decided to address the missing information in the different columns by replacing the lack of information by `NA`. Instead of using the 'Other' or 'Unspecified' values available in certain columns, this will allow us to quickly spot when the information was not provided:\n",
    "\n",
    "01. title:               No missing data\n",
    "02. location:            NA\n",
    "03. department:          NA\n",
    "04. salary_range:        NA\n",
    "05. company_profile:     NA\n",
    "06. description:         NA\n",
    "07. requirements:        NA\n",
    "08. benefits:            NA\n",
    "09. telecommuting:       No missing data\n",
    "10. has_company_logo:    No missing data\n",
    "11. has_questions:       No missing data\n",
    "12. employment_type:     NA\n",
    "13. required_experience: NA\n",
    "14. required_education:  NA\n",
    "15. industry:            NA\n",
    "16. function:            NA\n",
    "17. fraudulent:          No missing data"
   ]
  },
  {
   "cell_type": "code",
   "execution_count": 12,
   "metadata": {},
   "outputs": [],
   "source": [
    "for column in df.columns:\n",
    "    df[column].fillna('NA', inplace=True)"
   ]
  },
  {
   "cell_type": "markdown",
   "metadata": {},
   "source": [
    " Some job offers have contact details or external url. Could this be linked to fraudulent activity? Could this improve our model's performance?"
   ]
  },
  {
   "cell_type": "code",
   "execution_count": 13,
   "metadata": {
    "scrolled": true
   },
   "outputs": [
    {
     "name": "stderr",
     "output_type": "stream",
     "text": [
      "/opt/conda/lib/python3.7/site-packages/ipykernel_launcher.py:6: SettingWithCopyWarning: \n",
      "A value is trying to be set on a copy of a slice from a DataFrame\n",
      "\n",
      "See the caveats in the documentation: https://pandas.pydata.org/pandas-docs/stable/user_guide/indexing.html#returning-a-view-versus-a-copy\n",
      "  \n",
      "/opt/conda/lib/python3.7/site-packages/ipykernel_launcher.py:8: SettingWithCopyWarning: \n",
      "A value is trying to be set on a copy of a slice from a DataFrame\n",
      "\n",
      "See the caveats in the documentation: https://pandas.pydata.org/pandas-docs/stable/user_guide/indexing.html#returning-a-view-versus-a-copy\n",
      "  \n",
      "/opt/conda/lib/python3.7/site-packages/ipykernel_launcher.py:10: SettingWithCopyWarning: \n",
      "A value is trying to be set on a copy of a slice from a DataFrame\n",
      "\n",
      "See the caveats in the documentation: https://pandas.pydata.org/pandas-docs/stable/user_guide/indexing.html#returning-a-view-versus-a-copy\n",
      "  # Remove the CWD from sys.path while we load stuff.\n"
     ]
    }
   ],
   "source": [
    "# turn into a function: use dict (columnName:textToSearch, list(dictinput.keys())[0]:list(dictinput.values())[0])\n",
    "df = df.assign(hasEMAIL=0, hasPHONE=0, hasURL=0)\n",
    "for column in df.columns[4:8]:\n",
    "    for i in range(1,len(df[column])):\n",
    "        if df[column][i].find('#URL_')!=-1:\n",
    "            df['hasURL'][i] = 1\n",
    "        elif df[column][i].find('#PHONE_')!=-1:\n",
    "            df['hasPHONE'][i] = 1\n",
    "        elif df[column][i].find('#EMAIL_')!=-1:\n",
    "            df['hasEMAIL'][i] = 1"
   ]
  },
  {
   "cell_type": "markdown",
   "metadata": {},
   "source": [
    "Some job offers have been written in other alphabets, such as russian or greek. But because those job offers were flagged as legitimate and because we wouldn't be able to understand those offers fully (not speaking the language), we are going to remove them from our dataset:"
   ]
  },
  {
   "cell_type": "markdown",
   "metadata": {},
   "source": [
    "## Text cleaning and pre-processing"
   ]
  },
  {
   "cell_type": "code",
   "execution_count": 14,
   "metadata": {},
   "outputs": [
    {
     "data": {
      "text/plain": [
       "Index(['company_profile', 'description', 'requirements', 'benefits'], dtype='object')"
      ]
     },
     "execution_count": 14,
     "metadata": {},
     "output_type": "execute_result"
    }
   ],
   "source": [
    "df.columns[4:8]"
   ]
  },
  {
   "cell_type": "code",
   "execution_count": 15,
   "metadata": {},
   "outputs": [],
   "source": [
    "index_non_latin = []\n",
    "for column in df.columns[4:8]:\n",
    "        index_non_latin.append(df[df[column].str.find('α')!=-1].index)\n",
    "        index_non_latin.append(df[df[column].str.find('и')!=-1].index)\n",
    "        index_non_latin.append(df[df[column].str.find('แ')!=-1].index)\n",
    "        index_non_latin.append(df[df['location'].str.find('HK')!=-1].index)\n",
    "        index_non_latin.append(df[df['location'].str.find('KR')!=-1].index)"
   ]
  },
  {
   "cell_type": "code",
   "execution_count": 16,
   "metadata": {},
   "outputs": [],
   "source": [
    "for i in range(1,len(index_non_latin)):\n",
    "    index_non_latin[0] = index_non_latin[0].append(index_non_latin[i])"
   ]
  },
  {
   "cell_type": "code",
   "execution_count": 17,
   "metadata": {},
   "outputs": [],
   "source": [
    "index_non_latin = sorted(set(list(index_non_latin[0])))"
   ]
  },
  {
   "cell_type": "code",
   "execution_count": 18,
   "metadata": {},
   "outputs": [
    {
     "data": {
      "text/plain": [
       "1    167\n",
       "Name: fraudulent, dtype: int64"
      ]
     },
     "execution_count": 18,
     "metadata": {},
     "output_type": "execute_result"
    }
   ],
   "source": [
    "df[df.index.isin(index_non_latin)]['fraudulent'].value_counts()"
   ]
  },
  {
   "cell_type": "code",
   "execution_count": 19,
   "metadata": {},
   "outputs": [
    {
     "data": {
      "text/plain": [
       "17713"
      ]
     },
     "execution_count": 19,
     "metadata": {},
     "output_type": "execute_result"
    }
   ],
   "source": [
    "df = df[df.index.isin(index_non_latin)==False]\n",
    "df.reset_index(inplace=True)\n",
    "len(df)"
   ]
  },
  {
   "cell_type": "code",
   "execution_count": 21,
   "metadata": {},
   "outputs": [],
   "source": [
    "for column in df.columns[5:9]:\n",
    "    df[column].replace('([A-Z][a-z]|[A-Z] )', r' \\1', regex=True, inplace=True)\n",
    "    df[column].replace('(#URL\\w+|#PHONE\\w+|#EMAIL\\w+)', ' ', regex=True, inplace=True)\n",
    "    df[column].replace('(\\\\W|\\\\d)', ' ', regex=True, inplace=True)\n",
    "    df[column].replace('\\ +', ' ', regex=True, inplace=True)"
   ]
  },
  {
   "cell_type": "code",
   "execution_count": 49,
   "metadata": {},
   "outputs": [],
   "source": [
    "re.search('[a-zA-Z]/{1,3}', 'The lazy for is qwroijflds')"
   ]
  },
  {
   "cell_type": "code",
   "execution_count": 22,
   "metadata": {},
   "outputs": [
    {
     "data": {
      "text/html": [
       "<div>\n",
       "<style scoped>\n",
       "    .dataframe tbody tr th:only-of-type {\n",
       "        vertical-align: middle;\n",
       "    }\n",
       "\n",
       "    .dataframe tbody tr th {\n",
       "        vertical-align: top;\n",
       "    }\n",
       "\n",
       "    .dataframe thead th {\n",
       "        text-align: right;\n",
       "    }\n",
       "</style>\n",
       "<table border=\"1\" class=\"dataframe\">\n",
       "  <thead>\n",
       "    <tr style=\"text-align: right;\">\n",
       "      <th></th>\n",
       "      <th>job_id</th>\n",
       "      <th>title</th>\n",
       "      <th>location</th>\n",
       "      <th>department</th>\n",
       "      <th>salary_range</th>\n",
       "      <th>company_profile</th>\n",
       "      <th>description</th>\n",
       "      <th>requirements</th>\n",
       "      <th>benefits</th>\n",
       "      <th>telecommuting</th>\n",
       "      <th>...</th>\n",
       "      <th>has_questions</th>\n",
       "      <th>employment_type</th>\n",
       "      <th>required_experience</th>\n",
       "      <th>required_education</th>\n",
       "      <th>industry</th>\n",
       "      <th>function</th>\n",
       "      <th>fraudulent</th>\n",
       "      <th>hasEMAIL</th>\n",
       "      <th>hasPHONE</th>\n",
       "      <th>hasURL</th>\n",
       "    </tr>\n",
       "  </thead>\n",
       "  <tbody>\n",
       "    <tr>\n",
       "      <th>4773</th>\n",
       "      <td>4833</td>\n",
       "      <td>Senior Engineering Product Manager</td>\n",
       "      <td>TW, TPQ, Taipei</td>\n",
       "      <td>Engineering</td>\n",
       "      <td>NA</td>\n",
       "      <td>Aptitude Staffing Solutions has redesigned th...</td>\n",
       "      <td>Senior Engineering Product Manager Taiwan Taipei</td>\n",
       "      <td>NA</td>\n",
       "      <td>What Is Offered Very competitive base salary ...</td>\n",
       "      <td>0</td>\n",
       "      <td>...</td>\n",
       "      <td>1</td>\n",
       "      <td>Full-time</td>\n",
       "      <td>Mid-Senior level</td>\n",
       "      <td>Bachelor's Degree</td>\n",
       "      <td>Telecommunications</td>\n",
       "      <td>Engineering</td>\n",
       "      <td>0</td>\n",
       "      <td>0</td>\n",
       "      <td>1</td>\n",
       "      <td>0</td>\n",
       "    </tr>\n",
       "    <tr>\n",
       "      <th>9388</th>\n",
       "      <td>9488</td>\n",
       "      <td>Business Development Manager, Taiwan</td>\n",
       "      <td>TW, TPQ,</td>\n",
       "      <td>NA</td>\n",
       "      <td>NA</td>\n",
       "      <td>Our mission is to optimize the first screen o...</td>\n",
       "      <td>Buzzvil is looking for a Business Development...</td>\n",
       "      <td>As our Business Development Manager Taiwan yo...</td>\n",
       "      <td>NA</td>\n",
       "      <td>0</td>\n",
       "      <td>...</td>\n",
       "      <td>1</td>\n",
       "      <td>Full-time</td>\n",
       "      <td>Not Applicable</td>\n",
       "      <td>NA</td>\n",
       "      <td>Information Technology and Services</td>\n",
       "      <td>Business Development</td>\n",
       "      <td>1</td>\n",
       "      <td>0</td>\n",
       "      <td>0</td>\n",
       "      <td>0</td>\n",
       "    </tr>\n",
       "    <tr>\n",
       "      <th>11658</th>\n",
       "      <td>11770</td>\n",
       "      <td>Product Development Engineer PLC</td>\n",
       "      <td>TW, TPQ, Taipei</td>\n",
       "      <td>Engineering</td>\n",
       "      <td>120000-180000</td>\n",
       "      <td>Aptitude Staffing Solutions has redesigned th...</td>\n",
       "      <td>Product Development Engineer PL C Taiwan Work...</td>\n",
       "      <td>Skills and Requirements At least years PL C h...</td>\n",
       "      <td>What Is Offered Very competitive base salary ...</td>\n",
       "      <td>0</td>\n",
       "      <td>...</td>\n",
       "      <td>1</td>\n",
       "      <td>Full-time</td>\n",
       "      <td>Mid-Senior level</td>\n",
       "      <td>Bachelor's Degree</td>\n",
       "      <td>Computer Networking</td>\n",
       "      <td>Engineering</td>\n",
       "      <td>0</td>\n",
       "      <td>0</td>\n",
       "      <td>1</td>\n",
       "      <td>0</td>\n",
       "    </tr>\n",
       "    <tr>\n",
       "      <th>11987</th>\n",
       "      <td>12101</td>\n",
       "      <td>Operations Manager, Taiwan</td>\n",
       "      <td>TW, TPQ,</td>\n",
       "      <td>Operations</td>\n",
       "      <td>NA</td>\n",
       "      <td>Our mission is to optimize the first screen o...</td>\n",
       "      <td>Buzzvil is looking for an Operations Manager ...</td>\n",
       "      <td>As our Operations Manager Taiwan you should h...</td>\n",
       "      <td>NA</td>\n",
       "      <td>0</td>\n",
       "      <td>...</td>\n",
       "      <td>1</td>\n",
       "      <td>Full-time</td>\n",
       "      <td>Not Applicable</td>\n",
       "      <td>NA</td>\n",
       "      <td>Information Technology and Services</td>\n",
       "      <td>Marketing</td>\n",
       "      <td>1</td>\n",
       "      <td>0</td>\n",
       "      <td>0</td>\n",
       "      <td>0</td>\n",
       "    </tr>\n",
       "  </tbody>\n",
       "</table>\n",
       "<p>4 rows × 21 columns</p>\n",
       "</div>"
      ],
      "text/plain": [
       "       job_id                                 title         location  \\\n",
       "4773     4833    Senior Engineering Product Manager  TW, TPQ, Taipei   \n",
       "9388     9488  Business Development Manager, Taiwan        TW, TPQ,    \n",
       "11658   11770      Product Development Engineer PLC  TW, TPQ, Taipei   \n",
       "11987   12101            Operations Manager, Taiwan        TW, TPQ,    \n",
       "\n",
       "         department   salary_range  \\\n",
       "4773   Engineering              NA   \n",
       "9388             NA             NA   \n",
       "11658   Engineering  120000-180000   \n",
       "11987    Operations             NA   \n",
       "\n",
       "                                         company_profile  \\\n",
       "4773    Aptitude Staffing Solutions has redesigned th...   \n",
       "9388    Our mission is to optimize the first screen o...   \n",
       "11658   Aptitude Staffing Solutions has redesigned th...   \n",
       "11987   Our mission is to optimize the first screen o...   \n",
       "\n",
       "                                             description  \\\n",
       "4773    Senior Engineering Product Manager Taiwan Taipei   \n",
       "9388    Buzzvil is looking for a Business Development...   \n",
       "11658   Product Development Engineer PL C Taiwan Work...   \n",
       "11987   Buzzvil is looking for an Operations Manager ...   \n",
       "\n",
       "                                            requirements  \\\n",
       "4773                                                  NA   \n",
       "9388    As our Business Development Manager Taiwan yo...   \n",
       "11658   Skills and Requirements At least years PL C h...   \n",
       "11987   As our Operations Manager Taiwan you should h...   \n",
       "\n",
       "                                                benefits  telecommuting  ...  \\\n",
       "4773    What Is Offered Very competitive base salary ...              0  ...   \n",
       "9388                                                  NA              0  ...   \n",
       "11658   What Is Offered Very competitive base salary ...              0  ...   \n",
       "11987                                                 NA              0  ...   \n",
       "\n",
       "       has_questions  employment_type required_experience required_education  \\\n",
       "4773               1        Full-time    Mid-Senior level  Bachelor's Degree   \n",
       "9388               1        Full-time      Not Applicable                 NA   \n",
       "11658              1        Full-time    Mid-Senior level  Bachelor's Degree   \n",
       "11987              1        Full-time      Not Applicable                 NA   \n",
       "\n",
       "                                  industry              function fraudulent  \\\n",
       "4773                    Telecommunications           Engineering          0   \n",
       "9388   Information Technology and Services  Business Development          1   \n",
       "11658                  Computer Networking           Engineering          0   \n",
       "11987  Information Technology and Services             Marketing          1   \n",
       "\n",
       "       hasEMAIL  hasPHONE  hasURL  \n",
       "4773          0         1       0  \n",
       "9388          0         0       0  \n",
       "11658         0         1       0  \n",
       "11987         0         0       0  \n",
       "\n",
       "[4 rows x 21 columns]"
      ]
     },
     "execution_count": 22,
     "metadata": {},
     "output_type": "execute_result"
    }
   ],
   "source": [
    "df[df['location'].str.find('TW, TPQ,')!=-1]"
   ]
  },
  {
   "cell_type": "code",
   "execution_count": 23,
   "metadata": {},
   "outputs": [
    {
     "data": {
      "text/html": [
       "<div>\n",
       "<style scoped>\n",
       "    .dataframe tbody tr th:only-of-type {\n",
       "        vertical-align: middle;\n",
       "    }\n",
       "\n",
       "    .dataframe tbody tr th {\n",
       "        vertical-align: top;\n",
       "    }\n",
       "\n",
       "    .dataframe thead th {\n",
       "        text-align: right;\n",
       "    }\n",
       "</style>\n",
       "<table border=\"1\" class=\"dataframe\">\n",
       "  <thead>\n",
       "    <tr style=\"text-align: right;\">\n",
       "      <th></th>\n",
       "      <th>job_id</th>\n",
       "      <th>title</th>\n",
       "      <th>location</th>\n",
       "      <th>department</th>\n",
       "      <th>salary_range</th>\n",
       "      <th>company_profile</th>\n",
       "      <th>description</th>\n",
       "      <th>requirements</th>\n",
       "      <th>benefits</th>\n",
       "      <th>telecommuting</th>\n",
       "      <th>...</th>\n",
       "      <th>has_questions</th>\n",
       "      <th>employment_type</th>\n",
       "      <th>required_experience</th>\n",
       "      <th>required_education</th>\n",
       "      <th>industry</th>\n",
       "      <th>function</th>\n",
       "      <th>fraudulent</th>\n",
       "      <th>hasEMAIL</th>\n",
       "      <th>hasPHONE</th>\n",
       "      <th>hasURL</th>\n",
       "    </tr>\n",
       "  </thead>\n",
       "  <tbody>\n",
       "    <tr>\n",
       "      <th>5921</th>\n",
       "      <td>5990</td>\n",
       "      <td>Business Development Manager, Japan</td>\n",
       "      <td>JP, 13,</td>\n",
       "      <td>NA</td>\n",
       "      <td>NA</td>\n",
       "      <td>Our mission is to optimize the first screen o...</td>\n",
       "      <td>Buzzvil is looking for a sales business devel...</td>\n",
       "      <td>As our Business Development Manager Japan you...</td>\n",
       "      <td>NA</td>\n",
       "      <td>0</td>\n",
       "      <td>...</td>\n",
       "      <td>1</td>\n",
       "      <td>Full-time</td>\n",
       "      <td>Not Applicable</td>\n",
       "      <td>NA</td>\n",
       "      <td>Information Technology and Services</td>\n",
       "      <td>Business Development</td>\n",
       "      <td>1</td>\n",
       "      <td>0</td>\n",
       "      <td>0</td>\n",
       "      <td>0</td>\n",
       "    </tr>\n",
       "  </tbody>\n",
       "</table>\n",
       "<p>1 rows × 21 columns</p>\n",
       "</div>"
      ],
      "text/plain": [
       "      job_id                                title  location department  \\\n",
       "5921    5990  Business Development Manager, Japan  JP, 13,          NA   \n",
       "\n",
       "     salary_range                                    company_profile  \\\n",
       "5921           NA   Our mission is to optimize the first screen o...   \n",
       "\n",
       "                                            description  \\\n",
       "5921   Buzzvil is looking for a sales business devel...   \n",
       "\n",
       "                                           requirements benefits  \\\n",
       "5921   As our Business Development Manager Japan you...       NA   \n",
       "\n",
       "      telecommuting  ...  has_questions  employment_type required_experience  \\\n",
       "5921              0  ...              1        Full-time      Not Applicable   \n",
       "\n",
       "     required_education                             industry  \\\n",
       "5921                 NA  Information Technology and Services   \n",
       "\n",
       "                  function fraudulent  hasEMAIL  hasPHONE  hasURL  \n",
       "5921  Business Development          1         0         0       0  \n",
       "\n",
       "[1 rows x 21 columns]"
      ]
     },
     "execution_count": 23,
     "metadata": {},
     "output_type": "execute_result"
    }
   ],
   "source": [
    "df[df['job_id'] == 5990]"
   ]
  },
  {
   "cell_type": "code",
   "execution_count": 24,
   "metadata": {
    "scrolled": true
   },
   "outputs": [
    {
     "name": "stdout",
     "output_type": "stream",
     "text": [
      "<re.Match object; span=(832, 833), match='é'> 58\n",
      "<re.Match object; span=(287, 288), match='é'> 194\n",
      "<re.Match object; span=(260, 261), match='ﬂ'> 234\n",
      "<re.Match object; span=(354, 355), match='é'> 337\n",
      "<re.Match object; span=(4, 5), match='Á'> 557\n",
      "<re.Match object; span=(541, 542), match='é'> 600\n",
      "<re.Match object; span=(653, 654), match='é'> 897\n",
      "<re.Match object; span=(653, 654), match='é'> 899\n",
      "<re.Match object; span=(653, 654), match='é'> 903\n",
      "<re.Match object; span=(88, 89), match='í'> 986\n",
      "<re.Match object; span=(1419, 1422), match='ΜΗΤ'> 1017\n",
      "<re.Match object; span=(832, 833), match='é'> 1313\n",
      "<re.Match object; span=(543, 544), match='Μ'> 1632\n",
      "<re.Match object; span=(651, 652), match='é'> 1721\n",
      "<re.Match object; span=(832, 833), match='é'> 1810\n",
      "<re.Match object; span=(4, 5), match='é'> 1859\n",
      "<re.Match object; span=(832, 833), match='é'> 1986\n",
      "<re.Match object; span=(543, 544), match='Μ'> 2040\n",
      "<re.Match object; span=(714, 715), match='ö'> 2050\n",
      "<re.Match object; span=(714, 715), match='ö'> 2053\n",
      "<re.Match object; span=(51, 52), match='é'> 2100\n",
      "<re.Match object; span=(4, 5), match='é'> 2125\n",
      "<re.Match object; span=(543, 544), match='Μ'> 2208\n",
      "<re.Match object; span=(23, 24), match='ˈ'> 2240\n",
      "<re.Match object; span=(1020, 1021), match='é'> 2246\n",
      "<re.Match object; span=(832, 833), match='é'> 2299\n",
      "<re.Match object; span=(260, 261), match='ﬂ'> 2346\n",
      "<re.Match object; span=(14, 15), match='ö'> 2607\n",
      "<re.Match object; span=(543, 544), match='Μ'> 2641\n",
      "<re.Match object; span=(651, 652), match='é'> 2696\n",
      "<re.Match object; span=(4, 5), match='Á'> 2788\n",
      "<re.Match object; span=(88, 89), match='í'> 2857\n",
      "<re.Match object; span=(543, 544), match='Μ'> 2906\n",
      "<re.Match object; span=(651, 652), match='é'> 2961\n",
      "<re.Match object; span=(4, 5), match='é'> 3051\n",
      "<re.Match object; span=(4, 5), match='é'> 3099\n",
      "<re.Match object; span=(23, 24), match='ˈ'> 3141\n",
      "<re.Match object; span=(37, 38), match='ó'> 3923\n",
      "<re.Match object; span=(543, 544), match='Μ'> 3955\n",
      "<re.Match object; span=(55, 56), match='ü'> 3964\n",
      "<re.Match object; span=(543, 544), match='Μ'> 3995\n",
      "<re.Match object; span=(920, 921), match='ê'> 4095\n",
      "<re.Match object; span=(541, 542), match='é'> 4277\n",
      "<re.Match object; span=(832, 833), match='é'> 4770\n",
      "<re.Match object; span=(4, 5), match='Á'> 4825\n",
      "<re.Match object; span=(1419, 1422), match='ΜΗΤ'> 4959\n",
      "<re.Match object; span=(543, 544), match='Μ'> 4981\n",
      "<re.Match object; span=(541, 542), match='é'> 5014\n",
      "<re.Match object; span=(55, 56), match='ü'> 5149\n",
      "<re.Match object; span=(920, 921), match='ê'> 5310\n",
      "<re.Match object; span=(51, 52), match='é'> 5317\n",
      "<re.Match object; span=(543, 544), match='Μ'> 5345\n",
      "<re.Match object; span=(541, 542), match='é'> 5410\n",
      "<re.Match object; span=(354, 355), match='é'> 5423\n",
      "<re.Match object; span=(543, 544), match='Μ'> 5671\n",
      "<re.Match object; span=(251, 252), match='é'> 5924\n",
      "<re.Match object; span=(37, 38), match='ä'> 6023\n",
      "<re.Match object; span=(614, 615), match='ã'> 6026\n",
      "<re.Match object; span=(1138, 1139), match='ü'> 6038\n",
      "<re.Match object; span=(1279, 1280), match='é'> 6069\n",
      "<re.Match object; span=(1279, 1280), match='é'> 6070\n",
      "<re.Match object; span=(1138, 1139), match='ü'> 6171\n",
      "<re.Match object; span=(1138, 1139), match='ü'> 6192\n",
      "<re.Match object; span=(256, 257), match='ü'> 6467\n",
      "<re.Match object; span=(1279, 1280), match='é'> 6799\n",
      "<re.Match object; span=(4, 5), match='é'> 6866\n",
      "<re.Match object; span=(541, 542), match='é'> 6981\n",
      "<re.Match object; span=(66, 67), match='á'> 6988\n",
      "<re.Match object; span=(112, 113), match='š'> 7458\n",
      "<re.Match object; span=(1020, 1021), match='é'> 7918\n",
      "<re.Match object; span=(543, 544), match='Μ'> 8056\n",
      "<re.Match object; span=(543, 544), match='Μ'> 8308\n",
      "<re.Match object; span=(1138, 1139), match='ü'> 8366\n",
      "<re.Match object; span=(832, 833), match='é'> 8506\n",
      "<re.Match object; span=(12, 13), match='å'> 8615\n",
      "<re.Match object; span=(832, 833), match='é'> 8709\n",
      "<re.Match object; span=(51, 52), match='é'> 8957\n",
      "<re.Match object; span=(832, 833), match='é'> 9208\n",
      "<re.Match object; span=(714, 715), match='ö'> 9310\n",
      "<re.Match object; span=(543, 544), match='Μ'> 9379\n",
      "<re.Match object; span=(4, 5), match='Á'> 9393\n",
      "<re.Match object; span=(354, 355), match='é'> 9477\n",
      "<re.Match object; span=(112, 113), match='š'> 9551\n",
      "<re.Match object; span=(614, 615), match='ã'> 9619\n",
      "<re.Match object; span=(55, 56), match='ü'> 9875\n",
      "<re.Match object; span=(4, 5), match='é'> 9950\n",
      "<re.Match object; span=(448, 449), match='é'> 9977\n",
      "<re.Match object; span=(614, 615), match='ã'> 10340\n",
      "<re.Match object; span=(4, 5), match='Á'> 10497\n",
      "<re.Match object; span=(4, 5), match='Á'> 10557\n",
      "<re.Match object; span=(1020, 1021), match='é'> 10616\n",
      "<re.Match object; span=(403, 404), match='μ'> 10703\n",
      "<re.Match object; span=(354, 355), match='é'> 10719\n",
      "<re.Match object; span=(10, 11), match='è'> 11075\n",
      "<re.Match object; span=(920, 921), match='ê'> 11243\n",
      "<re.Match object; span=(112, 113), match='š'> 11375\n",
      "<re.Match object; span=(112, 113), match='š'> 11402\n",
      "<re.Match object; span=(23, 24), match='ę'> 11437\n",
      "<re.Match object; span=(920, 921), match='ê'> 11457\n",
      "<re.Match object; span=(112, 113), match='š'> 11495\n",
      "<re.Match object; span=(112, 113), match='š'> 11507\n",
      "<re.Match object; span=(112, 113), match='š'> 11519\n",
      "<re.Match object; span=(543, 544), match='Μ'> 11524\n",
      "<re.Match object; span=(112, 113), match='š'> 11525\n",
      "<re.Match object; span=(881, 882), match='¼'> 11660\n",
      "<re.Match object; span=(653, 654), match='é'> 11699\n",
      "<re.Match object; span=(614, 615), match='ã'> 11703\n",
      "<re.Match object; span=(354, 355), match='é'> 11786\n",
      "<re.Match object; span=(614, 615), match='ã'> 11848\n",
      "<re.Match object; span=(354, 355), match='é'> 11850\n",
      "<re.Match object; span=(256, 257), match='ü'> 12169\n",
      "<re.Match object; span=(543, 544), match='Μ'> 12288\n",
      "<re.Match object; span=(260, 261), match='ﬂ'> 12303\n",
      "<re.Match object; span=(51, 52), match='é'> 12362\n",
      "<re.Match object; span=(714, 715), match='ö'> 12522\n",
      "<re.Match object; span=(832, 833), match='é'> 12622\n",
      "<re.Match object; span=(832, 833), match='é'> 12641\n",
      "<re.Match object; span=(832, 833), match='é'> 12687\n",
      "<re.Match object; span=(832, 833), match='é'> 12696\n",
      "<re.Match object; span=(4, 5), match='é'> 12771\n",
      "<re.Match object; span=(51, 52), match='é'> 12792\n",
      "<re.Match object; span=(543, 544), match='Μ'> 12836\n",
      "<re.Match object; span=(832, 833), match='é'> 12943\n",
      "<re.Match object; span=(881, 882), match='¼'> 12947\n",
      "<re.Match object; span=(4, 5), match='Á'> 12973\n",
      "<re.Match object; span=(920, 921), match='ê'> 12979\n",
      "<re.Match object; span=(4, 5), match='é'> 13000\n",
      "<re.Match object; span=(273, 274), match='á'> 13212\n",
      "<re.Match object; span=(832, 833), match='é'> 13323\n",
      "<re.Match object; span=(55, 56), match='ü'> 13327\n",
      "<re.Match object; span=(614, 615), match='ã'> 13332\n",
      "<re.Match object; span=(256, 257), match='ü'> 13474\n",
      "<re.Match object; span=(4, 5), match='Á'> 13551\n",
      "<re.Match object; span=(273, 274), match='á'> 13566\n",
      "<re.Match object; span=(614, 615), match='ã'> 13625\n",
      "<re.Match object; span=(614, 615), match='ã'> 13965\n",
      "<re.Match object; span=(403, 404), match='μ'> 14012\n",
      "<re.Match object; span=(543, 544), match='Μ'> 14023\n",
      "<re.Match object; span=(4, 5), match='Á'> 14131\n",
      "<re.Match object; span=(543, 544), match='Μ'> 14207\n",
      "<re.Match object; span=(112, 113), match='š'> 14218\n",
      "<re.Match object; span=(614, 615), match='ã'> 14324\n",
      "<re.Match object; span=(354, 355), match='é'> 14445\n",
      "<re.Match object; span=(8, 9), match='ä'> 14483\n",
      "<re.Match object; span=(832, 833), match='é'> 14529\n",
      "<re.Match object; span=(55, 56), match='ü'> 14568\n",
      "<re.Match object; span=(614, 615), match='ã'> 14577\n",
      "<re.Match object; span=(112, 113), match='š'> 14585\n",
      "<re.Match object; span=(260, 261), match='ﬂ'> 14842\n",
      "<re.Match object; span=(55, 56), match='ü'> 14950\n",
      "<re.Match object; span=(543, 544), match='Μ'> 15003\n",
      "<re.Match object; span=(354, 355), match='é'> 15050\n",
      "<re.Match object; span=(881, 882), match='¼'> 15066\n",
      "<re.Match object; span=(881, 882), match='¼'> 15098\n",
      "<re.Match object; span=(8, 9), match='ä'> 15227\n",
      "<re.Match object; span=(8, 9), match='ä'> 15386\n",
      "<re.Match object; span=(920, 921), match='ê'> 15609\n",
      "<re.Match object; span=(543, 544), match='Μ'> 15623\n",
      "<re.Match object; span=(832, 833), match='é'> 15765\n",
      "<re.Match object; span=(541, 542), match='é'> 15788\n",
      "<re.Match object; span=(541, 542), match='é'> 15855\n",
      "<re.Match object; span=(8, 9), match='ä'> 15958\n",
      "<re.Match object; span=(8, 9), match='ä'> 16052\n",
      "<re.Match object; span=(8, 9), match='ä'> 16349\n",
      "<re.Match object; span=(1108, 1109), match='ó'> 16693\n",
      "<re.Match object; span=(146, 147), match='é'> 16743\n",
      "<re.Match object; span=(177, 178), match='ń'> 16792\n",
      "<re.Match object; span=(1108, 1109), match='ó'> 16826\n",
      "<re.Match object; span=(1108, 1109), match='ó'> 16827\n",
      "<re.Match object; span=(282, 283), match='É'> 16856\n",
      "<re.Match object; span=(1108, 1109), match='ó'> 17030\n",
      "<re.Match object; span=(1108, 1109), match='ó'> 17122\n",
      "<re.Match object; span=(614, 615), match='ã'> 17125\n",
      "<re.Match object; span=(1138, 1139), match='ü'> 17161\n",
      "<re.Match object; span=(51, 52), match='é'> 17191\n",
      "<re.Match object; span=(23, 24), match='ˈ'> 17225\n",
      "<re.Match object; span=(4, 5), match='é'> 17271\n",
      "<re.Match object; span=(4, 5), match='é'> 17340\n",
      "<re.Match object; span=(881, 882), match='¼'> 17355\n",
      "<re.Match object; span=(146, 147), match='é'> 17452\n",
      "<re.Match object; span=(543, 544), match='Μ'> 17459\n",
      "<re.Match object; span=(543, 544), match='Μ'> 17473\n",
      "<re.Match object; span=(279, 280), match='ä'> 122\n",
      "<re.Match object; span=(279, 280), match='ä'> 171\n",
      "<re.Match object; span=(279, 280), match='ä'> 275\n",
      "<re.Match object; span=(279, 280), match='ä'> 297\n",
      "<re.Match object; span=(351, 352), match='é'> 337\n",
      "<re.Match object; span=(1, 2), match='Α'> 453\n",
      "<re.Match object; span=(959, 960), match='é'> 478\n",
      "<re.Match object; span=(422, 423), match='ü'> 536\n",
      "<re.Match object; span=(121, 122), match='ó'> 557\n",
      "<re.Match object; span=(890, 891), match='é'> 927\n",
      "<re.Match object; span=(562, 563), match='é'> 931\n",
      "<re.Match object; span=(1436, 1437), match='é'> 1015\n",
      "<re.Match object; span=(89, 90), match='ä'> 1169\n",
      "<re.Match object; span=(3597, 3598), match='ã'> 1250\n",
      "<re.Match object; span=(219, 220), match='ﬂ'> 1549\n",
      "<re.Match object; span=(1141, 1147), match='ΣΧΕΔΙΟ'> 1649\n",
      "<re.Match object; span=(1271, 1272), match='ï'> 1679\n",
      "<re.Match object; span=(4693, 4694), match='é'> 1759\n",
      "<re.Match object; span=(1658, 1659), match='Α'> 1896\n",
      "<re.Match object; span=(156, 157), match='ό'> 1924\n",
      "<re.Match object; span=(962, 963), match='Å'> 2022\n",
      "<re.Match object; span=(3677, 3678), match='½'> 2084\n",
      "<re.Match object; span=(10, 11), match='ο'> 2124\n",
      "<re.Match object; span=(1650, 1651), match='â'> 2225\n",
      "<re.Match object; span=(695, 696), match='ʼ'> 2253\n",
      "<re.Match object; span=(86, 87), match='é'> 2269\n",
      "<re.Match object; span=(1483, 1484), match='é'> 2307\n",
      "<re.Match object; span=(10, 11), match='ο'> 2347\n",
      "<re.Match object; span=(18, 20), match='ść'> 2351\n",
      "<re.Match object; span=(247, 248), match='ï'> 2424\n",
      "<re.Match object; span=(247, 248), match='ï'> 2474\n",
      "<re.Match object; span=(391, 392), match='é'> 2489\n",
      "<re.Match object; span=(138, 139), match='ό'> 2598\n",
      "<re.Match object; span=(846, 847), match='ó'> 2933\n",
      "<re.Match object; span=(0, 1), match='Α'> 2934\n",
      "<re.Match object; span=(1742, 1743), match='é'> 2998\n",
      "<re.Match object; span=(11, 13), match='éé'> 3132\n",
      "<re.Match object; span=(310, 311), match='ß'> 3156\n",
      "<re.Match object; span=(279, 280), match='ä'> 3229\n",
      "<re.Match object; span=(1065, 1066), match='é'> 3319\n",
      "<re.Match object; span=(534, 535), match='â'> 3333\n",
      "<re.Match object; span=(255, 256), match='ί'> 3461\n",
      "<re.Match object; span=(56, 57), match='ί'> 3566\n",
      "<re.Match object; span=(1581, 1582), match='ä'> 3571\n",
      "<re.Match object; span=(1162, 1163), match='ä'> 3729\n",
      "<re.Match object; span=(122, 123), match='ό'> 3877\n",
      "<re.Match object; span=(895, 896), match='ê'> 4095\n",
      "<re.Match object; span=(745, 746), match='ü'> 4191\n",
      "<re.Match object; span=(832, 833), match='ł'> 4311\n",
      "<re.Match object; span=(19, 20), match='ł'> 4315\n",
      "<re.Match object; span=(962, 963), match='Å'> 4358\n",
      "<re.Match object; span=(476, 477), match='è'> 4408\n",
      "<re.Match object; span=(1967, 1968), match='é'> 4417\n",
      "<re.Match object; span=(846, 847), match='ó'> 4448\n",
      "<re.Match object; span=(10, 11), match='ο'> 4549\n",
      "<re.Match object; span=(55, 56), match='ó'> 4825\n",
      "<re.Match object; span=(83, 84), match='Ø'> 4923\n",
      "<re.Match object; span=(73, 74), match='ë'> 5058\n",
      "<re.Match object; span=(247, 248), match='ï'> 5198\n",
      "<re.Match object; span=(698, 699), match='é'> 5244\n",
      "<re.Match object; span=(279, 280), match='ä'> 5338\n",
      "<re.Match object; span=(1303, 1304), match='é'> 5347\n",
      "<re.Match object; span=(379, 380), match='é'> 5423\n",
      "<re.Match object; span=(24, 25), match='å'> 5637\n",
      "<re.Match object; span=(906, 907), match='ë'> 5693\n",
      "<re.Match object; span=(1650, 1651), match='â'> 5759\n",
      "<re.Match object; span=(284, 289), match='버즈빌에서'> 5990\n",
      "<re.Match object; span=(23, 24), match='ö'> 6023\n",
      "<re.Match object; span=(542, 543), match='ʻ'> 6035\n",
      "<re.Match object; span=(905, 906), match='ë'> 6096\n",
      "<re.Match object; span=(1445, 1446), match='é'> 6108\n",
      "<re.Match object; span=(997, 998), match='ß'> 6150\n",
      "<re.Match object; span=(247, 248), match='ï'> 6184\n",
      "<re.Match object; span=(1135, 1136), match='é'> 6223\n",
      "<re.Match object; span=(939, 940), match='ł'> 6405\n",
      "<re.Match object; span=(83, 84), match='ś'> 6438\n",
      "<re.Match object; span=(1373, 1374), match='É'> 6442\n",
      "<re.Match object; span=(879, 880), match='ł'> 6444\n",
      "<re.Match object; span=(16, 17), match='ą'> 6445\n",
      "<re.Match object; span=(879, 880), match='ł'> 6447\n",
      "<re.Match object; span=(4031, 4032), match='è'> 6474\n",
      "<re.Match object; span=(10, 11), match='ο'> 6477\n",
      "<re.Match object; span=(593, 594), match='Ø'> 6583\n",
      "<re.Match object; span=(36, 37), match='ã'> 6752\n",
      "<re.Match object; span=(92, 93), match='Â'> 7178\n",
      "<re.Match object; span=(32, 33), match='ά'> 7212\n",
      "<re.Match object; span=(23, 24), match='é'> 7301\n",
      "<re.Match object; span=(2398, 2399), match='è'> 7339\n",
      "<re.Match object; span=(112, 113), match='š'> 7458\n",
      "<re.Match object; span=(247, 248), match='ï'> 7549\n",
      "<re.Match object; span=(279, 280), match='ä'> 7668\n",
      "<re.Match object; span=(40, 41), match='ö'> 7679\n",
      "<re.Match object; span=(836, 837), match='è'> 7771\n",
      "<re.Match object; span=(1053, 1054), match='ł'> 7875\n",
      "<re.Match object; span=(939, 940), match='ł'> 7937\n",
      "<re.Match object; span=(35, 36), match='Î'> 7969\n",
      "<re.Match object; span=(279, 280), match='ä'> 7974\n",
      "<re.Match object; span=(414, 415), match='é'> 8039\n",
      "<re.Match object; span=(900, 901), match='ë'> 8066\n",
      "<re.Match object; span=(1004, 1005), match='ë'> 8106\n",
      "<re.Match object; span=(427, 428), match='ß'> 8214\n",
      "<re.Match object; span=(865, 866), match='ü'> 8279\n",
      "<re.Match object; span=(383, 384), match='ï'> 8355\n",
      "<re.Match object; span=(4, 5), match='ê'> 8397\n",
      "<re.Match object; span=(718, 719), match='é'> 8544\n",
      "<re.Match object; span=(667, 668), match='ë'> 8545\n",
      "<re.Match object; span=(14, 15), match='å'> 8615\n",
      "<re.Match object; span=(571, 572), match='ń'> 8652\n",
      "<re.Match object; span=(112, 113), match='é'> 8734\n",
      "<re.Match object; span=(247, 248), match='ï'> 8895\n",
      "<re.Match object; span=(1949, 1950), match='é'> 8920\n",
      "<re.Match object; span=(263, 264), match='ë'> 9216\n",
      "<re.Match object; span=(163, 164), match='ó'> 9393\n",
      "<re.Match object; span=(351, 352), match='é'> 9477\n",
      "<re.Match object; span=(131, 132), match='é'> 9545\n",
      "<re.Match object; span=(313, 314), match='ß'> 9965\n",
      "<re.Match object; span=(962, 963), match='Å'> 10113\n",
      "<re.Match object; span=(47, 48), match='ö'> 10468\n",
      "<re.Match object; span=(1195, 1196), match='ó'> 10497\n",
      "<re.Match object; span=(105, 106), match='í'> 10557\n",
      "<re.Match object; span=(1271, 1272), match='ï'> 10570\n",
      "<re.Match object; span=(351, 352), match='é'> 10719\n",
      "<re.Match object; span=(177, 178), match='ï'> 10778\n",
      "<re.Match object; span=(0, 1), match='ü'> 10869\n",
      "<re.Match object; span=(258, 259), match='é'> 10894\n",
      "<re.Match object; span=(122, 123), match='à'> 11075\n",
      "<re.Match object; span=(224, 225), match='ö'> 11077\n",
      "<re.Match object; span=(916, 917), match='ê'> 11243\n",
      "<re.Match object; span=(1271, 1272), match='ï'> 11314\n",
      "<re.Match object; span=(1269, 1270), match='ï'> 11320\n",
      "<re.Match object; span=(177, 178), match='ï'> 11328\n",
      "<re.Match object; span=(112, 113), match='š'> 11375\n",
      "<re.Match object; span=(1271, 1272), match='ï'> 11383\n",
      "<re.Match object; span=(112, 113), match='š'> 11402\n",
      "<re.Match object; span=(1269, 1270), match='ï'> 11419\n",
      "<re.Match object; span=(1269, 1270), match='ï'> 11424\n",
      "<re.Match object; span=(1271, 1272), match='ï'> 11426\n",
      "<re.Match object; span=(806, 807), match='ï'> 11446\n",
      "<re.Match object; span=(247, 248), match='ï'> 11449\n",
      "<re.Match object; span=(1271, 1272), match='ï'> 11463\n",
      "<re.Match object; span=(1271, 1272), match='ï'> 11464\n",
      "<re.Match object; span=(112, 113), match='š'> 11495\n",
      "<re.Match object; span=(299, 300), match='ł'> 11517\n",
      "<re.Match object; span=(112, 113), match='š'> 11519\n",
      "<re.Match object; span=(124, 125), match='š'> 11525\n",
      "<re.Match object; span=(2376, 2377), match='¼'> 11660\n",
      "<re.Match object; span=(1271, 1272), match='ï'> 11748\n",
      "<re.Match object; span=(351, 352), match='é'> 11786\n",
      "<re.Match object; span=(351, 352), match='é'> 11850\n",
      "<re.Match object; span=(311, 312), match='é'> 11967\n",
      "<re.Match object; span=(0, 1), match='Α'> 12066\n",
      "<re.Match object; span=(1683, 1687), match='公司簡介'> 12101\n",
      "<re.Match object; span=(210, 211), match='é'> 12115\n",
      "<re.Match object; span=(224, 225), match='Κ'> 12220\n",
      "<re.Match object; span=(260, 261), match='ﬂ'> 12303\n",
      "<re.Match object; span=(279, 280), match='ä'> 12601\n",
      "<re.Match object; span=(868, 869), match='ﬁ'> 12724\n",
      "<re.Match object; span=(482, 483), match='ï'> 12732\n",
      "<re.Match object; span=(210, 211), match='é'> 12766\n",
      "<re.Match object; span=(68, 69), match='é'> 12771\n",
      "<re.Match object; span=(2497, 2498), match='¼'> 12947\n",
      "<re.Match object; span=(36, 37), match='ó'> 12973\n",
      "<re.Match object; span=(77, 78), match='é'> 13000\n",
      "<re.Match object; span=(1271, 1272), match='ï'> 13016\n",
      "<re.Match object; span=(30, 31), match='á'> 13096\n",
      "<re.Match object; span=(279, 280), match='ä'> 13195\n",
      "<re.Match object; span=(512, 513), match='â'> 13248\n",
      "<re.Match object; span=(102, 103), match='é'> 13383\n",
      "<re.Match object; span=(687, 688), match='½'> 13428\n",
      "<re.Match object; span=(137, 138), match='ü'> 13474\n",
      "<re.Match object; span=(4, 5), match='Á'> 13551\n",
      "<re.Match object; span=(2089, 2090), match='é'> 13857\n",
      "<re.Match object; span=(596, 597), match='é'> 14028\n",
      "<re.Match object; span=(281, 282), match='é'> 14121\n",
      "<re.Match object; span=(962, 963), match='Å'> 14134\n",
      "<re.Match object; span=(2932, 2933), match='é'> 14194\n",
      "<re.Match object; span=(112, 113), match='š'> 14218\n",
      "<re.Match object; span=(379, 380), match='é'> 14445\n",
      "<re.Match object; span=(112, 113), match='š'> 14585\n",
      "<re.Match object; span=(323, 324), match='ë'> 14693\n",
      "<re.Match object; span=(279, 280), match='ä'> 14794\n",
      "<re.Match object; span=(320, 321), match='ﬂ'> 14842\n",
      "<re.Match object; span=(459, 460), match='é'> 15050\n",
      "<re.Match object; span=(2045, 2046), match='¼'> 15066\n",
      "<re.Match object; span=(2375, 2376), match='¼'> 15098\n",
      "<re.Match object; span=(279, 280), match='ä'> 15306\n",
      "<re.Match object; span=(823, 824), match='ü'> 15447\n",
      "<re.Match object; span=(279, 280), match='ä'> 15496\n",
      "<re.Match object; span=(533, 534), match='â'> 15617\n",
      "<re.Match object; span=(0, 1), match='Α'> 15620\n",
      "<re.Match object; span=(279, 280), match='ä'> 15691\n",
      "<re.Match object; span=(279, 280), match='ä'> 15712\n",
      "<re.Match object; span=(279, 280), match='ä'> 15818\n",
      "<re.Match object; span=(160, 161), match='ë'> 16028\n",
      "<re.Match object; span=(964, 965), match='Ε'> 16278\n",
      "<re.Match object; span=(1, 2), match='ę'> 16500\n",
      "<re.Match object; span=(204, 205), match='à'> 16586\n",
      "<re.Match object; span=(45, 46), match='é'> 17216\n",
      "<re.Match object; span=(81, 82), match='ό'> 17226\n",
      "<re.Match object; span=(137, 138), match='ë'> 17273\n",
      "<re.Match object; span=(3259, 3260), match='é'> 17306\n",
      "<re.Match object; span=(83, 84), match='ó'> 17340\n",
      "<re.Match object; span=(2292, 2293), match='¼'> 17355\n",
      "<re.Match object; span=(177, 178), match='ï'> 17478\n",
      "<re.Match object; span=(2491, 2492), match='É'> 17543\n",
      "<re.Match object; span=(10, 11), match='ó'> 17781\n",
      "<re.Match object; span=(30, 31), match='ü'> 444\n",
      "<re.Match object; span=(74, 75), match='í'> 557\n",
      "<re.Match object; span=(2212, 2213), match='é'> 1395\n",
      "<re.Match object; span=(135, 136), match='ﬂ'> 1549\n",
      "<re.Match object; span=(68, 69), match='è'> 1679\n",
      "<re.Match object; span=(10, 11), match='ό'> 1924\n",
      "<re.Match object; span=(28, 29), match='é'> 2424\n",
      "<re.Match object; span=(405, 406), match='è'> 2455\n",
      "<re.Match object; span=(28, 29), match='é'> 2474\n",
      "<re.Match object; span=(15, 16), match='ό'> 2598\n",
      "<re.Match object; span=(663, 664), match='ñ'> 2692\n",
      "<re.Match object; span=(29, 30), match='ó'> 2788\n",
      "<re.Match object; span=(249, 250), match='ﬁ'> 2867\n",
      "<re.Match object; span=(57, 58), match='ü'> 2975\n",
      "<re.Match object; span=(239, 240), match='é'> 3132\n",
      "<re.Match object; span=(131, 132), match='ñ'> 3354\n",
      "<re.Match object; span=(20, 21), match='ή'> 3566\n",
      "<re.Match object; span=(118, 119), match='ë'> 3702\n",
      "<re.Match object; span=(337, 338), match='ë'> 3856\n",
      "<re.Match object; span=(10, 11), match='ό'> 3877\n",
      "<re.Match object; span=(893, 894), match='ę'> 4047\n",
      "<re.Match object; span=(518, 519), match='é'> 4595\n",
      "<re.Match object; span=(1029, 1030), match='ę'> 4615\n",
      "<re.Match object; span=(46, 47), match='ó'> 4825\n",
      "<re.Match object; span=(163, 164), match='ﬁ'> 4894\n",
      "<re.Match object; span=(28, 29), match='é'> 5198\n",
      "<re.Match object; span=(297, 298), match='é'> 5693\n",
      "<re.Match object; span=(160, 161), match='ñ'> 5738\n",
      "<re.Match object; span=(412, 416), match='광고영업'> 5990\n",
      "<re.Match object; span=(365, 376), match='ισολογισμοί'> 6108\n",
      "<re.Match object; span=(28, 29), match='é'> 6184\n",
      "<re.Match object; span=(456, 457), match='ł'> 6405\n",
      "<re.Match object; span=(7, 8), match='ê'> 6752\n",
      "<re.Match object; span=(6, 7), match='ʼ'> 6953\n",
      "<re.Match object; span=(0, 1), match='Â'> 7178\n",
      "<re.Match object; span=(491, 492), match='è'> 7181\n",
      "<re.Match object; span=(48, 49), match='ή'> 7212\n",
      "<re.Match object; span=(28, 29), match='é'> 7549\n",
      "<re.Match object; span=(1206, 1207), match='ę'> 7790\n",
      "<re.Match object; span=(297, 298), match='é'> 8066\n",
      "<re.Match object; span=(193, 194), match='é'> 8106\n",
      "<re.Match object; span=(361, 362), match='ß'> 8214\n",
      "<re.Match object; span=(312, 313), match='é'> 8544\n",
      "<re.Match object; span=(296, 297), match='é'> 8791\n",
      "<re.Match object; span=(28, 29), match='é'> 8895\n",
      "<re.Match object; span=(333, 334), match='ë'> 9216\n",
      "<re.Match object; span=(2898, 2899), match='é'> 9466\n",
      "<re.Match object; span=(242, 243), match='é'> 9545\n",
      "<re.Match object; span=(136, 137), match='â'> 10097\n",
      "<re.Match object; span=(1, 2), match='ö'> 10468\n",
      "<re.Match object; span=(118, 119), match='á'> 10497\n",
      "<re.Match object; span=(100, 101), match='ó'> 10557\n",
      "<re.Match object; span=(68, 69), match='è'> 10570\n",
      "<re.Match object; span=(372, 373), match='ł'> 11113\n",
      "<re.Match object; span=(68, 69), match='è'> 11314\n",
      "<re.Match object; span=(68, 69), match='è'> 11320\n",
      "<re.Match object; span=(473, 474), match='è'> 11372\n",
      "<re.Match object; span=(68, 69), match='è'> 11383\n",
      "<re.Match object; span=(68, 69), match='è'> 11419\n",
      "<re.Match object; span=(1060, 1061), match='é'> 11420\n",
      "<re.Match object; span=(68, 69), match='è'> 11424\n",
      "<re.Match object; span=(68, 69), match='è'> 11426\n",
      "<re.Match object; span=(45, 46), match='Ø'> 11431\n",
      "<re.Match object; span=(566, 567), match='ë'> 11446\n",
      "<re.Match object; span=(28, 29), match='é'> 11449\n",
      "<re.Match object; span=(68, 69), match='è'> 11463\n",
      "<re.Match object; span=(68, 69), match='è'> 11464\n",
      "<re.Match object; span=(33, 34), match='Ε'> 11512\n",
      "<re.Match object; span=(400, 401), match='é'> 11599\n",
      "<re.Match object; span=(68, 69), match='è'> 11748\n",
      "<re.Match object; span=(3357, 3358), match='é'> 11993\n",
      "<re.Match object; span=(311, 312), match='é'> 12023\n",
      "<re.Match object; span=(952, 971), match='工作條件應有流暢的中文與有英語溝通能力'> 12101\n",
      "<re.Match object; span=(664, 665), match='è'> 12291\n",
      "<re.Match object; span=(289, 290), match='ﬁ'> 12724\n",
      "<re.Match object; span=(664, 665), match='è'> 12788\n",
      "<re.Match object; span=(42, 43), match='ó'> 12973\n",
      "<re.Match object; span=(68, 69), match='è'> 13016\n",
      "<re.Match object; span=(67, 68), match='á'> 13551\n",
      "<re.Match object; span=(1066, 1067), match='é'> 13649\n",
      "<re.Match object; span=(366, 377), match='ισολογισμοί'> 14194\n",
      "<re.Match object; span=(119, 120), match='é'> 14195\n",
      "<re.Match object; span=(1552, 1553), match='é'> 14525\n",
      "<re.Match object; span=(181, 182), match='å'> 14618\n",
      "<re.Match object; span=(193, 194), match='ﬁ'> 14947\n",
      "<re.Match object; span=(499, 500), match='é'> 14948\n",
      "<re.Match object; span=(3265, 3266), match='½'> 15379\n",
      "<re.Match object; span=(649, 650), match='é'> 15464\n",
      "<re.Match object; span=(131, 132), match='é'> 15583\n",
      "<re.Match object; span=(242, 243), match='é'> 15746\n",
      "<re.Match object; span=(467, 468), match='é'> 16257\n",
      "<re.Match object; span=(844, 845), match='é'> 16300\n",
      "<re.Match object; span=(3, 4), match='ś'> 16500\n",
      "<re.Match object; span=(366, 377), match='ισολογισμοί'> 17306\n",
      "<re.Match object; span=(655, 656), match='ﬁ'> 17406\n",
      "<re.Match object; span=(93, 99), match='Στρονγ'> 17417\n",
      "<re.Match object; span=(10, 11), match='ó'> 17781\n",
      "<re.Match object; span=(422, 423), match='é'> 4\n",
      "<re.Match object; span=(173, 174), match='ñ'> 8\n",
      "<re.Match object; span=(422, 423), match='é'> 150\n",
      "<re.Match object; span=(58, 61), match='ΙΚΑ'> 404\n",
      "<re.Match object; span=(431, 432), match='é'> 451\n",
      "<re.Match object; span=(431, 432), match='é'> 630\n",
      "<re.Match object; span=(422, 423), match='é'> 670\n",
      "<re.Match object; span=(422, 423), match='é'> 727\n",
      "<re.Match object; span=(422, 423), match='é'> 794\n",
      "<re.Match object; span=(943, 944), match='é'> 819\n",
      "<re.Match object; span=(431, 432), match='é'> 820\n",
      "<re.Match object; span=(534, 535), match='é'> 925\n",
      "<re.Match object; span=(422, 423), match='é'> 1059\n",
      "<re.Match object; span=(422, 423), match='é'> 1119\n",
      "<re.Match object; span=(422, 423), match='é'> 1212\n",
      "<re.Match object; span=(422, 423), match='é'> 1290\n",
      "<re.Match object; span=(422, 423), match='é'> 1527\n",
      "<re.Match object; span=(47, 48), match='ﬁ'> 1549\n",
      "<re.Match object; span=(703, 704), match='é'> 1721\n",
      "<re.Match object; span=(943, 944), match='é'> 1764\n",
      "<re.Match object; span=(4, 5), match='ό'> 1924\n",
      "<re.Match object; span=(648, 649), match='é'> 2246\n",
      "<re.Match object; span=(422, 423), match='é'> 2521\n",
      "<re.Match object; span=(4, 5), match='ό'> 2598\n",
      "<re.Match object; span=(283, 284), match='ł'> 2662\n",
      "<re.Match object; span=(20, 21), match='á'> 2788\n",
      "<re.Match object; span=(747, 748), match='é'> 2793\n",
      "<re.Match object; span=(421, 422), match='é'> 2830\n",
      "<re.Match object; span=(40, 41), match='ί'> 3566\n",
      "<re.Match object; span=(4, 5), match='ό'> 3877\n",
      "<re.Match object; span=(197, 198), match='½'> 3965\n",
      "<re.Match object; span=(534, 535), match='é'> 4042\n",
      "<re.Match object; span=(422, 423), match='é'> 4419\n",
      "<re.Match object; span=(422, 423), match='é'> 4464\n",
      "<re.Match object; span=(422, 423), match='é'> 4484\n",
      "<re.Match object; span=(422, 423), match='é'> 4497\n",
      "<re.Match object; span=(422, 423), match='é'> 4546\n",
      "<re.Match object; span=(422, 423), match='é'> 4563\n",
      "<re.Match object; span=(422, 423), match='é'> 4618\n",
      "<re.Match object; span=(431, 432), match='é'> 4829\n",
      "<re.Match object; span=(422, 423), match='é'> 4868\n",
      "<re.Match object; span=(422, 423), match='é'> 5087\n",
      "<re.Match object; span=(1143, 1144), match='é'> 5106\n",
      "<re.Match object; span=(422, 423), match='é'> 5113\n",
      "<re.Match object; span=(641, 642), match='ü'> 5191\n",
      "<re.Match object; span=(431, 432), match='é'> 5464\n",
      "<re.Match object; span=(422, 423), match='é'> 5534\n",
      "<re.Match object; span=(422, 423), match='é'> 5622\n",
      "<re.Match object; span=(422, 423), match='é'> 5654\n",
      "<re.Match object; span=(164, 165), match='è'> 5724\n",
      "<re.Match object; span=(422, 423), match='é'> 5813\n",
      "<re.Match object; span=(661, 662), match='½'> 5867\n",
      "<re.Match object; span=(431, 432), match='é'> 5985\n",
      "<re.Match object; span=(25, 26), match='é'> 6001\n",
      "<re.Match object; span=(92, 94), match='çã'> 6026\n",
      "<re.Match object; span=(165, 166), match='ß'> 6150\n",
      "<re.Match object; span=(173, 174), match='ñ'> 6196\n",
      "<re.Match object; span=(204, 205), match='ñ'> 6346\n",
      "<re.Match object; span=(534, 535), match='é'> 6698\n",
      "<re.Match object; span=(10, 11), match='ú'> 6752\n",
      "<re.Match object; span=(422, 423), match='é'> 6876\n",
      "<re.Match object; span=(422, 423), match='é'> 6935\n",
      "<re.Match object; span=(180, 181), match='Ø'> 7058\n",
      "<re.Match object; span=(26, 27), match='έ'> 7212\n",
      "<re.Match object; span=(173, 174), match='ñ'> 7272\n",
      "<re.Match object; span=(422, 423), match='é'> 7653\n",
      "<re.Match object; span=(55, 56), match='ü'> 7679\n",
      "<re.Match object; span=(431, 432), match='é'> 7743\n",
      "<re.Match object; span=(422, 423), match='é'> 7811\n",
      "<re.Match object; span=(422, 423), match='é'> 7815\n",
      "<re.Match object; span=(422, 423), match='é'> 7886\n",
      "<re.Match object; span=(648, 649), match='é'> 7918\n",
      "<re.Match object; span=(255, 256), match='ß'> 8214\n",
      "<re.Match object; span=(181, 182), match='æ'> 8244\n",
      "<re.Match object; span=(422, 423), match='é'> 8340\n",
      "<re.Match object; span=(5, 6), match='é'> 8397\n",
      "<re.Match object; span=(422, 423), match='é'> 8473\n",
      "<re.Match object; span=(147, 148), match='â'> 8556\n",
      "<re.Match object; span=(147, 148), match='â'> 8569\n",
      "<re.Match object; span=(422, 423), match='é'> 8774\n",
      "<re.Match object; span=(224, 225), match='é'> 8788\n",
      "<re.Match object; span=(422, 423), match='é'> 8836\n",
      "<re.Match object; span=(421, 422), match='é'> 8867\n",
      "<re.Match object; span=(422, 423), match='é'> 8927\n",
      "<re.Match object; span=(45, 46), match='ñ'> 8948\n",
      "<re.Match object; span=(431, 432), match='é'> 8961\n",
      "<re.Match object; span=(507, 508), match='ē'> 9210\n",
      "<re.Match object; span=(173, 174), match='ñ'> 9602\n",
      "<re.Match object; span=(92, 94), match='çã'> 9619\n",
      "<re.Match object; span=(613, 614), match='é'> 9771\n",
      "<re.Match object; span=(645, 646), match='é'> 9917\n",
      "<re.Match object; span=(394, 395), match='ﬁ'> 10022\n",
      "<re.Match object; span=(92, 94), match='çã'> 10340\n",
      "<re.Match object; span=(431, 432), match='é'> 10452\n",
      "<re.Match object; span=(35, 36), match='é'> 10497\n",
      "<re.Match object; span=(173, 174), match='ñ'> 10587\n",
      "<re.Match object; span=(167, 168), match='ñ'> 10591\n",
      "<re.Match object; span=(431, 432), match='é'> 10598\n",
      "<re.Match object; span=(173, 174), match='ñ'> 10898\n",
      "<re.Match object; span=(280, 281), match='à'> 11075\n",
      "<re.Match object; span=(662, 663), match='é'> 11092\n",
      "<re.Match object; span=(422, 423), match='é'> 11217\n",
      "<re.Match object; span=(135, 136), match='é'> 11326\n",
      "<re.Match object; span=(46, 47), match='ñ'> 11485\n",
      "<re.Match object; span=(568, 569), match='é'> 11647\n",
      "<re.Match object; span=(92, 94), match='çã'> 11703\n",
      "<re.Match object; span=(92, 94), match='çã'> 11848\n",
      "<re.Match object; span=(485, 486), match='å'> 11901\n",
      "<re.Match object; span=(47, 48), match='ñ'> 12026\n",
      "<re.Match object; span=(422, 423), match='é'> 12127\n",
      "<re.Match object; span=(431, 432), match='é'> 12473\n",
      "<re.Match object; span=(422, 423), match='é'> 12940\n",
      "<re.Match object; span=(236, 237), match='ä'> 12976\n",
      "<re.Match object; span=(540, 541), match='é'> 13068\n",
      "<re.Match object; span=(422, 423), match='é'> 13291\n",
      "<re.Match object; span=(943, 944), match='é'> 13324\n",
      "<re.Match object; span=(92, 94), match='çã'> 13332\n",
      "<re.Match object; span=(431, 432), match='é'> 13386\n",
      "<re.Match object; span=(422, 423), match='é'> 13540\n",
      "<re.Match object; span=(473, 474), match='é'> 13554\n",
      "<re.Match object; span=(92, 94), match='çã'> 13625\n",
      "<re.Match object; span=(246, 247), match='é'> 13674\n",
      "<re.Match object; span=(64, 65), match='ń'> 13753\n",
      "<re.Match object; span=(313, 314), match='é'> 13857\n",
      "<re.Match object; span=(92, 94), match='çã'> 13965\n",
      "<re.Match object; span=(421, 422), match='é'> 14160\n",
      "<re.Match object; span=(92, 94), match='çã'> 14577\n",
      "<re.Match object; span=(431, 432), match='é'> 14594\n",
      "<re.Match object; span=(54, 55), match='ä'> 15227\n",
      "<re.Match object; span=(235, 236), match='é'> 15562\n",
      "<re.Match object; span=(180, 181), match='Ø'> 15701\n",
      "<re.Match object; span=(181, 182), match='æ'> 15767\n",
      "<re.Match object; span=(224, 225), match='é'> 16205\n",
      "<re.Match object; span=(173, 174), match='ñ'> 16388\n",
      "<re.Match object; span=(3, 4), match='ñ'> 16398\n",
      "<re.Match object; span=(103, 104), match='ñ'> 16426\n",
      "<re.Match object; span=(173, 174), match='ñ'> 16455\n",
      "<re.Match object; span=(173, 174), match='ñ'> 16457\n",
      "<re.Match object; span=(13, 15), match='żą'> 16500\n",
      "<re.Match object; span=(68, 69), match='ł'> 16792\n",
      "<re.Match object; span=(92, 94), match='çã'> 17125\n",
      "<re.Match object; span=(534, 535), match='é'> 17147\n",
      "<re.Match object; span=(422, 423), match='é'> 17264\n",
      "<re.Match object; span=(45, 46), match='ø'> 17334\n",
      "<re.Match object; span=(421, 422), match='é'> 17336\n",
      "<re.Match object; span=(10, 11), match='ó'> 17781\n"
     ]
    }
   ],
   "source": [
    "for column in df.columns[5:9]:\n",
    "    for i in range(1, len(df[column])):\n",
    "#         df[column].str.encode('utf8')\n",
    "        if re.search(r'[^\\x00-\\x7F]+',df[column][i])!= None:\n",
    "            print(re.search(r'[^\\x00-\\x7F]+',df[column][i]), df['job_id'][i])"
   ]
  },
  {
   "cell_type": "markdown",
   "metadata": {},
   "source": [
    "Let's see if any clear pattern can already be identified:"
   ]
  },
  {
   "cell_type": "code",
   "execution_count": 25,
   "metadata": {},
   "outputs": [
    {
     "data": {
      "image/png": "[encoded data removed]",
      "text/plain": [
       "<Figure size 432x288 with 2 Axes>"
      ]
     },
     "metadata": {
      "needs_background": "light"
     },
     "output_type": "display_data"
    }
   ],
   "source": [
    "sns.heatmap(df.drop(columns=['fraudulent']).corr(), annot=True);"
   ]
  },
  {
   "cell_type": "markdown",
   "metadata": {},
   "source": [
    "No multicollinearity issues with those binary variables"
   ]
  },
  {
   "cell_type": "markdown",
   "metadata": {},
   "source": [
    "# Information loss\n",
    "\n",
    "Some information is too complex to deal with (e.g. `'title'` has 11,231 unique values over the 17,790 job offers in this dataset), or has too much missing values (`'salary_range'` has 14,925 missing values over the 17,790 in this dataset), either ways they would marginally improve the results of our analysis so we are going to remove those columns from our dataset."
   ]
  },
  {
   "cell_type": "code",
   "execution_count": 26,
   "metadata": {},
   "outputs": [],
   "source": [
    "df.drop(columns=['job_id','title', 'location', 'department', 'salary_range'], inplace=True)"
   ]
  },
  {
   "cell_type": "markdown",
   "metadata": {},
   "source": [
    "# Train Test Split"
   ]
  },
  {
   "cell_type": "code",
   "execution_count": 27,
   "metadata": {},
   "outputs": [],
   "source": [
    "labels = df['fraudulent']\n",
    "features = df.drop(columns=['fraudulent'])"
   ]
  },
  {
   "cell_type": "code",
   "execution_count": 28,
   "metadata": {},
   "outputs": [],
   "source": [
    "features_train, features_test, labels_train, labels_test = train_test_split(features,\n",
    "                                                    labels,\n",
    "                                                    random_state=666)\n",
    "\n",
    "# Initialising K-Folds\n",
    "kfold = KFold(n_splits=5,\n",
    "              random_state=666,\n",
    "              shuffle=True\n",
    "             )"
   ]
  },
  {
   "cell_type": "markdown",
   "metadata": {},
   "source": [
    "# Dataset formatting"
   ]
  },
  {
   "cell_type": "markdown",
   "metadata": {},
   "source": [
    "## Numerise the categorical data"
   ]
  },
  {
   "cell_type": "code",
   "execution_count": 29,
   "metadata": {},
   "outputs": [],
   "source": [
    "ohe = OneHotEncoder(sparse=False, handle_unknown='ignore')"
   ]
  },
  {
   "cell_type": "code",
   "execution_count": 30,
   "metadata": {},
   "outputs": [],
   "source": [
    "cat_features = ['employment_type', 'required_experience', 'required_education', 'industry', 'function']\n",
    "features_train_cat = features_train.loc[:, cat_features]\n",
    "features_test_cat = features_test.loc[:, cat_features]"
   ]
  },
  {
   "cell_type": "code",
   "execution_count": 31,
   "metadata": {},
   "outputs": [],
   "source": [
    "features_train_ohe = ohe.fit_transform(features_train_cat)\n",
    "features_test_ohe = ohe.transform(features_test_cat)"
   ]
  },
  {
   "cell_type": "code",
   "execution_count": 32,
   "metadata": {},
   "outputs": [],
   "source": [
    "cat_train_df = pd.DataFrame(features_train_ohe, columns=ohe.get_feature_names(input_features=cat_features))\n",
    "cat_test_df = pd.DataFrame(features_test_ohe, columns=ohe.get_feature_names(input_features=cat_features))"
   ]
  },
  {
   "cell_type": "markdown",
   "metadata": {},
   "source": [
    "## TF-IDF computation on the text data"
   ]
  },
  {
   "cell_type": "code",
   "execution_count": 33,
   "metadata": {},
   "outputs": [],
   "source": [
    "vect_comp = TfidfVectorizer(input='content', strip_accents='unicode', token_pattern=r'\\w+', analyzer='word', stop_words='english', max_features=5000)\n",
    "vect_desc = TfidfVectorizer(input='content', strip_accents='unicode', token_pattern=r'\\w+', analyzer='word', stop_words='english', max_features=5000)\n",
    "vect_req = TfidfVectorizer(input='content', strip_accents='unicode', token_pattern=r'\\w+', analyzer='word', stop_words='english', max_features=5000)\n",
    "vect_ben = TfidfVectorizer(input='content', strip_accents='unicode', token_pattern=r'\\w+', analyzer='word', stop_words='english', max_features=5000)"
   ]
  },
  {
   "cell_type": "code",
   "execution_count": 34,
   "metadata": {},
   "outputs": [],
   "source": [
    "text_features = ['company_profile', 'description', 'requirements', 'benefits']\n",
    "features_train_text = features_train.loc[:, text_features]\n",
    "features_test_text = features_test.loc[:, text_features]"
   ]
  },
  {
   "cell_type": "code",
   "execution_count": 35,
   "metadata": {},
   "outputs": [],
   "source": [
    "# train\n",
    "features_train_vectorized_c = vect_comp.fit_transform(features_train_text['company_profile'])\n",
    "features_train_vectorized_d = vect_desc.fit_transform(features_train_text['description'])\n",
    "features_train_vectorized_r = vect_req.fit_transform(features_train_text['requirements'])\n",
    "features_train_vectorized_b = vect_ben.fit_transform(features_train_text['benefits'])\n",
    "# test\n",
    "features_test_vectorized_c = vect_comp.transform(features_test_text['company_profile'])\n",
    "features_test_vectorized_d = vect_desc.transform(features_test_text['description'])\n",
    "features_test_vectorized_r = vect_req.transform(features_test_text['requirements'])\n",
    "features_test_vectorized_b = vect_ben.transform(features_test_text['benefits'])"
   ]
  },
  {
   "cell_type": "code",
   "execution_count": 39,
   "metadata": {},
   "outputs": [
    {
     "data": {
      "text/plain": [
       "[('ω', 4999),\n",
       " ('zoom', 4998),\n",
       " ('zones', 4997),\n",
       " ('zone', 4996),\n",
       " ('zendesk', 4995),\n",
       " ('zend', 4994),\n",
       " ('zealand', 4993),\n",
       " ('ze', 4992),\n",
       " ('z', 4991),\n",
       " ('yum', 4990),\n",
       " ('yrs', 4989),\n",
       " ('yr', 4988),\n",
       " ('youth', 4987),\n",
       " ('young', 4986),\n",
       " ('york', 4985),\n",
       " ('yo', 4984),\n",
       " ('yii', 4983),\n",
       " ('yes', 4982),\n",
       " ('years', 4981),\n",
       " ('year', 4980),\n",
       " ('yahoo', 4979),\n",
       " ('y', 4978),\n",
       " ('xslt', 4977),\n",
       " ('xsl', 4976),\n",
       " ('xp', 4975),\n",
       " ('xml', 4974),\n",
       " ('xm', 4973),\n",
       " ('xhtml', 4972),\n",
       " ('xero', 4971),\n",
       " ('xen', 4970),\n",
       " ('xcode', 4969),\n",
       " ('x', 4968),\n",
       " ('ws', 4967),\n",
       " ('written', 4966),\n",
       " ('writing', 4965),\n",
       " ('writes', 4964),\n",
       " ('writers', 4963),\n",
       " ('writer', 4962),\n",
       " ('write', 4961),\n",
       " ('wrenches', 4960),\n",
       " ('wpm', 4959),\n",
       " ('wp', 4958),\n",
       " ('wow', 4957),\n",
       " ('worth', 4956),\n",
       " ('worry', 4955),\n",
       " ('worldwide', 4954),\n",
       " ('world', 4953),\n",
       " ('workshops', 4952),\n",
       " ('workshop', 4951),\n",
       " ('works', 4950),\n",
       " ('workplace', 4949),\n",
       " ('workload', 4948),\n",
       " ('working', 4947),\n",
       " ('workforce', 4946),\n",
       " ('workflows', 4945),\n",
       " ('workflow', 4944),\n",
       " ('workers', 4943),\n",
       " ('worker', 4942),\n",
       " ('worked', 4941),\n",
       " ('work', 4940),\n",
       " ('words', 4939),\n",
       " ('wordpress', 4938),\n",
       " ('word', 4937),\n",
       " ('wor', 4936),\n",
       " ('won', 4935),\n",
       " ('wit', 4934),\n",
       " ('wishing', 4933),\n",
       " ('wish', 4932),\n",
       " ('wise', 4931),\n",
       " ('wireshark', 4930),\n",
       " ('wireless', 4929),\n",
       " ('wireframing', 4928),\n",
       " ('wireframes', 4927),\n",
       " ('wireframe', 4926),\n",
       " ('wired', 4925),\n",
       " ('wire', 4924),\n",
       " ('winterizatio', 4923),\n",
       " ('winter', 4922),\n",
       " ('winning', 4921),\n",
       " ('windows', 4920),\n",
       " ('window', 4919),\n",
       " ('win', 4918),\n",
       " ('willingness', 4917),\n",
       " ('willing', 4916),\n",
       " ('wij', 4915),\n",
       " ('widow', 4914),\n",
       " ('wider', 4913),\n",
       " ('wide', 4912),\n",
       " ('wi', 4911),\n",
       " ('whiteboard', 4910),\n",
       " ('white', 4909),\n",
       " ('whilst', 4908),\n",
       " ('west', 4907),\n",
       " ('werkervaring', 4906),\n",
       " ('went', 4905),\n",
       " ('wellness', 4904),\n",
       " ('welding', 4903),\n",
       " ('welcoming', 4902),\n",
       " ('welcome', 4901),\n",
       " ('weighting', 4900),\n",
       " ('weight', 4899),\n",
       " ('weighing', 4898),\n",
       " ('weigh', 4897),\n",
       " ('weeks', 4896),\n",
       " ('weekly', 4895),\n",
       " ('weekends', 4894),\n",
       " ('weekend', 4893),\n",
       " ('weekdays', 4892),\n",
       " ('week', 4891),\n",
       " ('websphere', 4890),\n",
       " ('websites', 4889),\n",
       " ('website', 4888),\n",
       " ('webmaster', 4887),\n",
       " ('weblogic', 4886),\n",
       " ('webinars', 4885),\n",
       " ('webinar', 4884),\n",
       " ('web', 4883),\n",
       " ('weather', 4882),\n",
       " ('wearables', 4881),\n",
       " ('wear', 4880),\n",
       " ('weaknesses', 4879),\n",
       " ('wcf', 4878),\n",
       " ('wc', 4877),\n",
       " ('ways', 4876),\n",
       " ('way', 4875),\n",
       " ('waterfall', 4874),\n",
       " ('water', 4873),\n",
       " ('watch', 4872),\n",
       " ('waste', 4871),\n",
       " ('washington', 4870),\n",
       " ('washing', 4869),\n",
       " ('warm', 4868),\n",
       " ('warehousing', 4867),\n",
       " ('warehouse', 4866),\n",
       " ('ware', 4865),\n",
       " ('wants', 4864),\n",
       " ('wanting', 4863),\n",
       " ('want', 4862),\n",
       " ('wan', 4861),\n",
       " ('walking', 4860),\n",
       " ('walk', 4859),\n",
       " ('waiting', 4858),\n",
       " ('wait', 4857),\n",
       " ('waist', 4856),\n",
       " ('wage', 4855),\n",
       " ('wa', 4854),\n",
       " ('w', 4853),\n",
       " ('vulnerability', 4852),\n",
       " ('vulnerabilities', 4851),\n",
       " ('vs', 4850),\n",
       " ('vpn', 4849),\n",
       " ('vp', 4848),\n",
       " ('vormen', 4847),\n",
       " ('voor', 4846),\n",
       " ('volumes', 4845),\n",
       " ('volume', 4844),\n",
       " ('voip', 4843),\n",
       " ('voicing', 4842),\n",
       " ('voice', 4841),\n",
       " ('voi', 4840),\n",
       " ('vocational', 4839),\n",
       " ('vocabulary', 4838),\n",
       " ('vm', 4837),\n",
       " ('vlookup', 4836),\n",
       " ('vla', 4835),\n",
       " ('vital', 4834),\n",
       " ('visually', 4833),\n",
       " ('visualizations', 4832),\n",
       " ('visualization', 4831),\n",
       " ('visualisation', 4830),\n",
       " ('visual', 4829),\n",
       " ('vista', 4828),\n",
       " ('visits', 4827),\n",
       " ('visitors', 4826),\n",
       " ('visiting', 4825),\n",
       " ('visit', 4824),\n",
       " ('vision', 4823),\n",
       " ('visio', 4822),\n",
       " ('visible', 4821),\n",
       " ('visibility', 4820),\n",
       " ('visas', 4819),\n",
       " ('visa', 4818),\n",
       " ('virtualization', 4817),\n",
       " ('virtualisation', 4816),\n",
       " ('virtual', 4815),\n",
       " ('viral', 4814),\n",
       " ('violations', 4813),\n",
       " ('views', 4812),\n",
       " ('view', 4811),\n",
       " ('videos', 4810),\n",
       " ('video', 4809),\n",
       " ('viable', 4808),\n",
       " ('veteran', 4807),\n",
       " ('verticals', 4806),\n",
       " ('vertical', 4805),\n",
       " ('versions', 4804),\n",
       " ('versioning', 4803),\n",
       " ('version', 4802),\n",
       " ('versed', 4801),\n",
       " ('versatile', 4800)]"
      ]
     },
     "execution_count": 39,
     "metadata": {},
     "output_type": "execute_result"
    }
   ],
   "source": [
    "Counter(vect_req.vocabulary_).most_common(200)"
   ]
  },
  {
   "cell_type": "code",
   "execution_count": null,
   "metadata": {},
   "outputs": [],
   "source": [
    "ftrainvc_df = pd.DataFrame(features_train_vectorized_c.todense(), columns=vect_comp.get_feature_names())\n",
    "ftrainvd_df = pd.DataFrame(features_train_vectorized_d.todense(), columns=vect_desc.get_feature_names())\n",
    "ftrainvr_df = pd.DataFrame(features_train_vectorized_r.todense(), columns=vect_req.get_feature_names())\n",
    "ftrainvb_df = pd.DataFrame(features_train_vectorized_b.todense(), columns=vect_ben.get_feature_names())\n",
    "text_train_df = pd.concat([ftrainvc_df, ftrainvd_df, ftrainvr_df, ftrainvb_df], axis=1)\n",
    "ftestvc_df = pd.DataFrame(features_test_vectorized_c.todense(), columns=vect_comp.get_feature_names())\n",
    "ftestvd_df = pd.DataFrame(features_test_vectorized_d.todense(), columns=vect_desc.get_feature_names())\n",
    "ftestvr_df = pd.DataFrame(features_test_vectorized_r.todense(), columns=vect_req.get_feature_names())\n",
    "ftestvb_df = pd.DataFrame(features_test_vectorized_b.todense(), columns=vect_ben.get_feature_names())\n",
    "text_test_df = pd.concat([ftestvc_df, ftestvd_df, ftestvr_df, ftestvb_df], axis=1)"
   ]
  },
  {
   "cell_type": "code",
   "execution_count": null,
   "metadata": {},
   "outputs": [],
   "source": [
    "del ftrainvb_df\n",
    "del ftrainvc_df\n",
    "del ftrainvd_df\n",
    "del ftrainvr_df\n",
    "del ftestvb_df\n",
    "del ftestvc_df\n",
    "del ftestvd_df\n",
    "del ftestvr_df"
   ]
  },
  {
   "cell_type": "markdown",
   "metadata": {},
   "source": [
    "## Binary data"
   ]
  },
  {
   "cell_type": "code",
   "execution_count": null,
   "metadata": {},
   "outputs": [],
   "source": [
    "binary_features = ['telecommuting', 'has_company_logo', 'has_questions', 'hasURL', 'hasPHONE', 'hasEMAIL']\n",
    "binary_train_df = features_train.loc[:, binary_features]\n",
    "binary_test_df = features_test.loc[:, binary_features]\n",
    "binary_train_df.reset_index(inplace=True)\n",
    "binary_test_df.reset_index(inplace=True)"
   ]
  },
  {
   "cell_type": "markdown",
   "metadata": {},
   "source": [
    "## Merging the dataframes"
   ]
  },
  {
   "cell_type": "code",
   "execution_count": null,
   "metadata": {},
   "outputs": [],
   "source": [
    "feat_train = pd.concat([cat_train_df, text_train_df, binary_train_df], axis=1)\n",
    "feat_test = pd.concat([cat_test_df, text_test_df, binary_test_df], axis=1)"
   ]
  },
  {
   "cell_type": "markdown",
   "metadata": {},
   "source": [
    "# Addressing the class imbalance"
   ]
  },
  {
   "cell_type": "markdown",
   "metadata": {},
   "source": [
    "As class imbalance will only matter during the training step, SMOTE will only be applied to to train dataset."
   ]
  },
  {
   "cell_type": "code",
   "execution_count": null,
   "metadata": {},
   "outputs": [],
   "source": [
    "# SMOTE doesn't work on text, it needs to be changed to TF-IDF\n",
    "sm = SMOTE(random_state=666, n_jobs=4)"
   ]
  },
  {
   "cell_type": "code",
   "execution_count": null,
   "metadata": {},
   "outputs": [],
   "source": [
    "X, y = sm.fit_resample(feat_train.values, labels_train)"
   ]
  },
  {
   "cell_type": "markdown",
   "metadata": {},
   "source": [
    "## Shape check"
   ]
  },
  {
   "cell_type": "markdown",
   "metadata": {},
   "source": [
    "# Gaussian Naive Bayes"
   ]
  },
  {
   "cell_type": "code",
   "execution_count": null,
   "metadata": {},
   "outputs": [],
   "source": [
    "gnb = GaussianNB()"
   ]
  },
  {
   "cell_type": "code",
   "execution_count": null,
   "metadata": {},
   "outputs": [],
   "source": [
    "gnb.fit(X, y)"
   ]
  },
  {
   "cell_type": "code",
   "execution_count": null,
   "metadata": {},
   "outputs": [],
   "source": [
    "labels_train_pred = gnb.predict_proba(X)"
   ]
  },
  {
   "cell_type": "code",
   "execution_count": null,
   "metadata": {},
   "outputs": [],
   "source": [
    "fpr, tpr, thresholds = roc_curve(y, labels_train_pred[:,1])\n",
    "print('AUC train dataset: {}'.format(auc(fpr, tpr)))"
   ]
  },
  {
   "cell_type": "markdown",
   "metadata": {},
   "source": [
    "# Multinomial Naive Bayes"
   ]
  },
  {
   "cell_type": "code",
   "execution_count": null,
   "metadata": {},
   "outputs": [],
   "source": [
    "mnb = MultinomialNB(alpha=0.01)"
   ]
  },
  {
   "cell_type": "code",
   "execution_count": null,
   "metadata": {},
   "outputs": [],
   "source": [
    "mnb.fit(X, y)"
   ]
  },
  {
   "cell_type": "code",
   "execution_count": null,
   "metadata": {},
   "outputs": [],
   "source": [
    "labels_train_pred = mnb.predict_proba(X)"
   ]
  },
  {
   "cell_type": "code",
   "execution_count": null,
   "metadata": {},
   "outputs": [],
   "source": [
    "fpr, tpr, thresholds = roc_curve(y, labels_train_pred[:,1])\n",
    "print('AUC train dataset: {}'.format(auc(fpr, tpr)))\n",
    "# with alpha = 1: AUC = 0.9908159833756562"
   ]
  },
  {
   "cell_type": "markdown",
   "metadata": {},
   "source": [
    "# Random Forest"
   ]
  },
  {
   "cell_type": "code",
   "execution_count": null,
   "metadata": {},
   "outputs": [],
   "source": [
    "# rfc = RandomForestClassifier(n_estimators=100, n_jobs=-1, random_state=666)"
   ]
  },
  {
   "cell_type": "code",
   "execution_count": null,
   "metadata": {},
   "outputs": [],
   "source": [
    "# rfc.fit(X, y)"
   ]
  },
  {
   "cell_type": "code",
   "execution_count": null,
   "metadata": {},
   "outputs": [],
   "source": [
    "# features = feat_train.columns\n",
    "# importances = rfc.feature_importances_\n",
    "# indices = np.argsort(importances)\n",
    "\n",
    "# plt.barh(range(len(indices)),importances[indices], align='center');\n",
    "# plt.yticks(range(len(indices)), [features[i] for i in indices]);"
   ]
  },
  {
   "cell_type": "code",
   "execution_count": null,
   "metadata": {},
   "outputs": [],
   "source": [
    "# labels_train_pred = rfc.predict(X)"
   ]
  },
  {
   "cell_type": "code",
   "execution_count": null,
   "metadata": {},
   "outputs": [],
   "source": [
    "# fpr, tpr, thresholds = roc_curve(y, labels_train_pred)\n",
    "# print('AUC train dataset: {}'.format(auc(fpr, tpr)))"
   ]
  },
  {
   "cell_type": "markdown",
   "metadata": {},
   "source": [
    "## XGBoost"
   ]
  },
  {
   "cell_type": "code",
   "execution_count": null,
   "metadata": {},
   "outputs": [],
   "source": [
    "# xgb = XGBClassifier()"
   ]
  },
  {
   "cell_type": "code",
   "execution_count": null,
   "metadata": {},
   "outputs": [],
   "source": [
    "# xgb.fit(X, y)"
   ]
  },
  {
   "cell_type": "code",
   "execution_count": null,
   "metadata": {},
   "outputs": [],
   "source": [
    "# labels_train_pred = xgb.predict(X)"
   ]
  },
  {
   "cell_type": "code",
   "execution_count": null,
   "metadata": {},
   "outputs": [],
   "source": [
    "# fpr, tpr, thresholds = roc_curve(y, labels_train_pred)\n",
    "# print('AUC train dataset: {}'.format(auc(fpr, tpr)))"
   ]
  },
  {
   "cell_type": "markdown",
   "metadata": {},
   "source": [
    "# Finalising the selected model: Multinomial Bayesian Model"
   ]
  },
  {
   "cell_type": "markdown",
   "metadata": {},
   "source": [
    "## Confusion matrix"
   ]
  },
  {
   "cell_type": "code",
   "execution_count": null,
   "metadata": {},
   "outputs": [],
   "source": [
    "labels_hat_test = mnb.predict(feat_test)\n",
    "\n",
    "cnf_matrix = confusion_matrix(labels_test, labels_hat_test)\n",
    "\n",
    "# Create the basic matrix\n",
    "plt.imshow(cnf_matrix,  cmap=plt.cm.Blues) \n",
    "\n",
    "plt.title('Confusion Matrix')\n",
    "plt.ylabel('True label')\n",
    "plt.xlabel('Predicted label')\n",
    "\n",
    "# Add appropriate axis scales\n",
    "class_names = set(labels) # Get class labels to add to matrix\n",
    "tick_marks = np.arange(len(class_names))\n",
    "plt.xticks(tick_marks, class_names)\n",
    "plt.yticks(tick_marks, class_names)\n",
    "\n",
    "# Add labels to each cell\n",
    "thresh = cnf_matrix.max() / 2. # Used for text coloring below\n",
    "# Here we iterate through the confusion matrix and append labels to our visualization \n",
    "for i, j in itertools.product(range(cnf_matrix.shape[0]), range(cnf_matrix.shape[1])):\n",
    "        plt.text(j, i, cnf_matrix[i, j],\n",
    "                 horizontalalignment='center',\n",
    "                 color='white' if cnf_matrix[i, j] > thresh else 'black')\n",
    "\n",
    "# Add a legend\n",
    "plt.colorbar()\n",
    "plt.show()"
   ]
  },
  {
   "cell_type": "code",
   "execution_count": null,
   "metadata": {},
   "outputs": [],
   "source": [
    "cm = {'TP': 0, 'TN': 0, 'FP': 0, 'FN': 0}\n",
    "def conf_matrix(self,labels_test, labels_hat_test):\n",
    "        for ind, label in enumerate(labels_test):\n",
    "            pred = labels_hat_test[ind]\n",
    "            if label == 1: \n",
    "                if label == pred:\n",
    "                    cm['TP'] += 1\n",
    "                else:\n",
    "                    cm['FN'] += 1\n",
    "            else:\n",
    "                if label == pred:\n",
    "                    cm['TN'] += 1\n",
    "                else:\n",
    "                    cm['FP'] += 1\n",
    "            self.cm_values = cm\n",
    "        return cm"
   ]
  },
  {
   "cell_type": "code",
   "execution_count": null,
   "metadata": {},
   "outputs": [],
   "source": [
    "conf_matrix(mnb,labels_test,labels_hat_test)\n",
    "# Multinomial Naybe Bayes\n",
    "# alpha=1 : {'TP': 3982, 'TN': 174, 'FP': 17, 'FN': 275}\n",
    "# alpha=0.01 : {'TP': 4129, 'TN': 154, 'FP': 37, 'FN': 128}\n",
    "# XGBoost {'TP': 4254, 'TN': 156, 'FP': 35, 'FN': 3}"
   ]
  },
  {
   "cell_type": "markdown",
   "metadata": {},
   "source": [
    "## Receiver Operating Characteristic"
   ]
  },
  {
   "cell_type": "code",
   "execution_count": null,
   "metadata": {},
   "outputs": [],
   "source": [
    "def buildROC(target_train, train_preds, target_test,test_preds):\n",
    "    fpr, tpr, threshold = roc_curve(target_test, test_preds)\n",
    "    roc_auc = auc(fpr, tpr)\n",
    "    fpr1, tpr1, threshold = roc_curve(target_train, train_preds)\n",
    "    roc_auc1 = auc(fpr1, tpr1)\n",
    "    plt.title('Receiver Operating Characteristic')\n",
    "    plt.plot(fpr1, tpr1, 'b', label = 'Train AUC = %0.2f' % roc_auc1)\n",
    "    plt.plot(fpr, tpr, 'b', label = 'Validation AUC = %0.2f' % roc_auc, color = 'g')\n",
    "    plt.legend(loc = 'lower right')\n",
    "    plt.plot([0, 1], [0, 1],'r--')\n",
    "    plt.ylabel('True Positive Rate')\n",
    "    plt.xlabel('False Positive Rate')\n",
    "#     plt.gcf().savefig('roc.png')"
   ]
  },
  {
   "cell_type": "code",
   "execution_count": null,
   "metadata": {},
   "outputs": [],
   "source": [
    "training_preds = mnb.predict_proba(feat_train.values)\n",
    "test_preds = mnb.predict_proba(feat_test.values)\n",
    "\n",
    "training_roc_auc = roc_auc_score(labels_train, training_preds[:,1])\n",
    "test_roc_auc = roc_auc_score(labels_test, test_preds[:,1])\n",
    "\n",
    "print('Training ROC_AUC: {:.4}%'.format(training_roc_auc * 100))\n",
    "print('Test ROC_AUC: {:.4}%'.format(test_roc_auc * 100))\n",
    "\n",
    "# Multinomial Bayes\n",
    "# Training ROC_AUC: 99.51%\n",
    "# Test ROC_AUC: 98.42%\n",
    "\n",
    "# XGBoost\n",
    "# Training ROC_AUC: 100.0%\n",
    "# Test ROC_AUC: 98.94%"
   ]
  },
  {
   "cell_type": "markdown",
   "metadata": {},
   "source": [
    "### ROC plot"
   ]
  },
  {
   "cell_type": "code",
   "execution_count": null,
   "metadata": {},
   "outputs": [],
   "source": [
    "def annot(fpr,tpr,thr):\n",
    "    k=0\n",
    "    for i,j in zip(fpr,tpr):\n",
    "        if k %75 == 0:\n",
    "            plt.annotate(round(thr[k],2),xy=(i,j), textcoords='data')\n",
    "        k+=1"
   ]
  },
  {
   "cell_type": "code",
   "execution_count": null,
   "metadata": {},
   "outputs": [],
   "source": [
    "plt.figure(figsize=(15,15))\n",
    "for data in [[labels_train, training_preds[:,1]],[labels_test, test_preds[:,1]]]:\n",
    "    fpr, tpr, threshold = roc_curve(data[0], data[1])\n",
    "    plt.plot(fpr, tpr)\n",
    "annot(fpr, tpr, threshold)\n",
    "plt.plot([0, 1], [0, 1], color='navy', linestyle='--')\n",
    "plt.ylabel('TPR (power)')\n",
    "plt.xlabel('FPR (alpha)')\n",
    "plt.legend(['train','test'])\n",
    "plt.show()"
   ]
  },
  {
   "cell_type": "markdown",
   "metadata": {},
   "source": [
    "### Threshold selection"
   ]
  },
  {
   "cell_type": "markdown",
   "metadata": {},
   "source": [
    "## Cost Function"
   ]
  },
  {
   "cell_type": "code",
   "execution_count": null,
   "metadata": {},
   "outputs": [],
   "source": [
    "#The cost function terms are wrong, double check those!\n",
    "\n",
    "# Focusing on a stat that improves your game\n",
    "cTP = 100\n",
    "# Not focusing on a stat that doesn't improve your game\n",
    "cTN = 1\n",
    "# Focusing on a stat that doesn't improve your game\n",
    "cFP = 100\n",
    "# Not focusing on a stat that improves your game\n",
    "cFN = 20\n",
    "\n",
    "prevalence = (cm['TP']+cm['FN']) / (cm['TP']+cm['FP']+cm['TN']+cm['FN'])\n",
    "\n",
    "# Metz coefficient\n",
    "_m = ((1-prevalence)/prevalence) * ((cFP-cTN) / (cFN-cTP))\n",
    "\n",
    "# Using the Zweig & Campbell equation:\n",
    "function_m = cm['TP'] -_m*cm['FP']\n",
    "function_m"
   ]
  },
  {
   "cell_type": "markdown",
   "metadata": {},
   "source": [
    "# Model optimisation"
   ]
  },
  {
   "cell_type": "code",
   "execution_count": null,
   "metadata": {},
   "outputs": [],
   "source": [
    "# pipeline = Pipeline(([TfidfVectorizer()),\n",
    "#                       (multinomialNB())\n",
    "# ])"
   ]
  },
  {
   "cell_type": "code",
   "execution_count": null,
   "metadata": {},
   "outputs": [],
   "source": [
    "np.arange(0.05, 0.21, 0.05)"
   ]
  },
  {
   "cell_type": "code",
   "execution_count": null,
   "metadata": {},
   "outputs": [],
   "source": [
    "param_grid = {'alpha': [x for x in np.arange(0.01, 0.21, 0.05)],\n",
    "#               'fit_prior': [True, False],\n",
    "#               'ngram_range': [(1,1), (1,2), (1,3), (1,4)]\n",
    "#               'max_features': \n",
    "             }\n",
    "\n",
    "# GSCV round 1: 'alpha': [0.1, 1, 3, 6, 10, 20, 50] // roc_auc: 0.9945829757065059\n",
    "# GCSV round 2: 'alpha': [x for x in np.arange(0.01, 0.21, 0.05)] // roc_auc: 0.9963658600529754"
   ]
  },
  {
   "cell_type": "code",
   "execution_count": null,
   "metadata": {},
   "outputs": [],
   "source": [
    "grid = GridSearchCV(estimator = mnb, \n",
    "                    param_grid = param_grid, \n",
    "                    scoring = 'roc_auc',\n",
    "                    cv = kfold,\n",
    "                    n_jobs = -1,\n",
    "                    return_train_score=True\n",
    "                   )"
   ]
  },
  {
   "cell_type": "code",
   "execution_count": null,
   "metadata": {},
   "outputs": [],
   "source": [
    "grid = grid.fit(X, y)"
   ]
  },
  {
   "cell_type": "code",
   "execution_count": null,
   "metadata": {},
   "outputs": [],
   "source": [
    "print(grid.best_score_, grid.best_params_)"
   ]
  },
  {
   "cell_type": "markdown",
   "metadata": {},
   "source": [
    "# Pipeline"
   ]
  },
  {
   "cell_type": "code",
   "execution_count": null,
   "metadata": {},
   "outputs": [],
   "source": [
    "pipe = Pipeline([('vect_comp' = TfidfVectorizer(input='content', strip_accents='unicode', token_pattern=r'\\w+', analyzer='word', stop_words='english', max_features=5000),\n",
    "                  ('vect_desc', TfidfVectorizer(input='content', strip_accents='unicode', token_pattern=r'\\w+', analyzer='word', stop_words='english', max_features=5000),\n",
    "                   ('vect_req', TfidfVectorizer(input='content', strip_accents='unicode', token_pattern=r'\\w+', analyzer='word', stop_words='english', max_features=5000),\n",
    "                    ('vect_ben', TfidfVectorizer(input='content', strip_accents='unicode', token_pattern=r'\\w+', analyzer='word', stop_words='english', max_features=5000),\n",
    "                     ('mnb', MultinomialNB(alpha=0.01))\n",
    "                     ]\n",
    "                    )"
   ]
  },
  {
   "cell_type": "code",
   "execution_count": null,
   "metadata": {},
   "outputs": [],
   "source": [
    "pipe.fit(X, y)"
   ]
  },
  {
   "cell_type": "code",
   "execution_count": null,
   "metadata": {},
   "outputs": [],
   "source": [
    "param_grid = {'mnb__alpha': [x for x in np.arange(0.01, 0.21, 0.05)],\n",
    "              'mnb__fit_prior': [True, False],\n",
    "              'ngram_range': [(1,1), (1,2), (1,3), (1,4)]\n",
    "              'max_features': [x for x in range (0, 30000, 5000)]\n",
    "             }"
   ]
  },
  {
   "cell_type": "code",
   "execution_count": null,
   "metadata": {},
   "outputs": [],
   "source": []
  },
  {
   "cell_type": "code",
   "execution_count": null,
   "metadata": {},
   "outputs": [],
   "source": []
  }
 ],
 "metadata": {
  "kernelspec": {
   "display_name": "Python 3",
   "language": "python",
   "name": "python3"
  },
  "language_info": {
   "codemirror_mode": {
    "name": "ipython",
    "version": 3
   },
   "file_extension": ".py",
   "mimetype": "text/x-python",
   "name": "python",
   "nbconvert_exporter": "python",
   "pygments_lexer": "ipython3",
   "version": "3.7.6"
  }
 },
 "nbformat": 4,
 "nbformat_minor": 4
}
