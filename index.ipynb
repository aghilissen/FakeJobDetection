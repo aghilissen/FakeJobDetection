{
 "cells": [
  {
   "cell_type": "code",
   "execution_count": 1,
   "metadata": {},
   "outputs": [],
   "source": [
    "# import library as lib\n",
    "import matplotlib.pyplot as plt\n",
    "import numpy as np\n",
    "import pandas as pd\n",
    "import pickle\n",
    "import re\n",
    "import seaborn as sns\n",
    "import warnings\n",
    "\n",
    "from imblearn.over_sampling import SMOTE\n",
    "\n",
    "from nltk.tokenize import RegexpTokenizer\n",
    "\n",
    "from sklearn.ensemble import RandomForestClassifier\n",
    "\n",
    "from sklearn.feature_extraction.text import TfidfVectorizer\n",
    "\n",
    "from sklearn.metrics import auc\n",
    "from sklearn.metrics import plot_confusion_matrix\n",
    "from sklearn.metrics import roc_auc_score\n",
    "from sklearn.metrics import roc_curve\n",
    "\n",
    "from sklearn.model_selection import GridSearchCV\n",
    "from sklearn.model_selection import KFold\n",
    "from sklearn.model_selection import train_test_split\n",
    "\n",
    "from sklearn.naive_bayes import GaussianNB\n",
    "from sklearn.naive_bayes import MultinomialNB\n",
    "\n",
    "from sklearn.preprocessing import OneHotEncoder\n",
    "\n",
    "from xgboost import XGBClassifier\n",
    "\n",
    "sns.set(style='ticks', palette='RdYlGn', font_scale=1.7, rc={'figure.figsize':(15,15)})\n",
    "# warnings.filterwarnings('ignore')\n",
    "%reload_ext autoreload\n",
    "%autoreload 2"
   ]
  },
  {
   "cell_type": "markdown",
   "metadata": {},
   "source": [
    "---\n",
    "Following our [Exploratory Data Analysis](./EDA.ipynb), let's dive in further in this analysis:\n",
    "# Setup"
   ]
  },
  {
   "cell_type": "code",
   "execution_count": 2,
   "metadata": {},
   "outputs": [],
   "source": [
    "df = pd.read_csv(\"./fake_job_postings.csv\",index_col='job_id')"
   ]
  },
  {
   "cell_type": "markdown",
   "metadata": {},
   "source": [
    "Because we've identified the False Negative to be the errors with the highest cost and because we prefer to use a ROC_AUC score (as well as the ROC curve which has the benefit to help us fine-tune the chosen final model), we've decided to swap the values in the 'fraudulent' column. This modification means the model will now predict if a job post is legitimate and it will allow us to use the ROC curve to minimise the False Positives (when an offer is flagged as legit by the model but actually is fraudulent):"
   ]
  },
  {
   "cell_type": "code",
   "execution_count": 3,
   "metadata": {},
   "outputs": [],
   "source": [
    "df['fraudulent'].replace([0,1], [1,0], inplace=True)"
   ]
  },
  {
   "cell_type": "markdown",
   "metadata": {},
   "source": [
    "## Addressing the missing information\n",
    "As identified in the EDA, there is quite a lot of missing data in this dataset. We have decided to address the missing information in the different columns by replacing the lack of information by `NA`. Instead of using the `Other` or `Unspecified` values available in several columns, this will allow us to spot when no effort was made to provide the information:\n",
    "\n",
    "01. title:               No missing data\n",
    "02. location:            NA\n",
    "03. department:          NA\n",
    "04. salary_range:        NA\n",
    "05. company_profile:     NA\n",
    "06. description:         NA\n",
    "07. requirements:        NA\n",
    "08. benefits:            NA\n",
    "09. telecommuting:       No missing data\n",
    "10. has_company_logo:    No missing data\n",
    "11. has_questions:       No missing data\n",
    "12. employment_type:     NA\n",
    "13. required_experience: NA\n",
    "14. required_education:  NA\n",
    "15. industry:            NA\n",
    "16. function:            NA\n",
    "17. fraudulent:          No missing data"
   ]
  },
  {
   "cell_type": "code",
   "execution_count": 4,
   "metadata": {},
   "outputs": [],
   "source": [
    "for column in df.columns:\n",
    "    df[column].fillna('NA', inplace=True)"
   ]
  },
  {
   "cell_type": "markdown",
   "metadata": {},
   "source": [
    " Some job offers have contact details or an external URL. Could this be linked to fraudulent activity? Could this improve our model's performance?"
   ]
  },
  {
   "cell_type": "code",
   "execution_count": 5,
   "metadata": {
    "scrolled": true
   },
   "outputs": [
    {
     "name": "stderr",
     "output_type": "stream",
     "text": [
      "<ipython-input-5-aa442dc4e235>:6: SettingWithCopyWarning: \n",
      "A value is trying to be set on a copy of a slice from a DataFrame\n",
      "\n",
      "See the caveats in the documentation: https://pandas.pydata.org/pandas-docs/stable/user_guide/indexing.html#returning-a-view-versus-a-copy\n",
      "  df['hasURL'][i] = 1\n",
      "<ipython-input-5-aa442dc4e235>:8: SettingWithCopyWarning: \n",
      "A value is trying to be set on a copy of a slice from a DataFrame\n",
      "\n",
      "See the caveats in the documentation: https://pandas.pydata.org/pandas-docs/stable/user_guide/indexing.html#returning-a-view-versus-a-copy\n",
      "  df['hasPHONE'][i] = 1\n",
      "<ipython-input-5-aa442dc4e235>:10: SettingWithCopyWarning: \n",
      "A value is trying to be set on a copy of a slice from a DataFrame\n",
      "\n",
      "See the caveats in the documentation: https://pandas.pydata.org/pandas-docs/stable/user_guide/indexing.html#returning-a-view-versus-a-copy\n",
      "  df['hasEMAIL'][i] = 1\n"
     ]
    }
   ],
   "source": [
    "# turn into a function: use dict (columnName:textToSearch, list(dictinput.keys())[0]:list(dictinput.values())[0])\n",
    "df = df.assign(hasEMAIL=0, hasPHONE=0, hasURL=0)\n",
    "for column in df.columns[4:8]:\n",
    "    for i in range(1,len(df[column])):\n",
    "        if df[column][i].find('#URL_')!=-1:\n",
    "            df['hasURL'][i] = 1\n",
    "        elif df[column][i].find('#PHONE_')!=-1:\n",
    "            df['hasPHONE'][i] = 1\n",
    "        elif df[column][i].find('#EMAIL_')!=-1:\n",
    "            df['hasEMAIL'][i] = 1"
   ]
  },
  {
   "cell_type": "markdown",
   "metadata": {},
   "source": [
    "## Text cleaning\n",
    "Some job offers have been written in other alphabets, such as Russian, Thai or Greek. But because those job offers were flagged as legitimate and because we wouldn't be able to understand those offers fully (not speaking the language), we are going to remove them from our dataset."
   ]
  },
  {
   "cell_type": "code",
   "execution_count": 6,
   "metadata": {},
   "outputs": [],
   "source": [
    "index_non_latin = []\n",
    "for column in df.columns[4:8]:\n",
    "        index_non_latin.append(df[df[column].str.find('α')!=-1].index)\n",
    "        index_non_latin.append(df[df[column].str.find('и')!=-1].index)\n",
    "        index_non_latin.append(df[df[column].str.find('แ')!=-1].index)\n",
    "        index_non_latin.append(df[df['location'].str.find('HK')!=-1].index)\n",
    "        index_non_latin.append(df[df['location'].str.find('KR')!=-1].index)"
   ]
  },
  {
   "cell_type": "code",
   "execution_count": 7,
   "metadata": {},
   "outputs": [],
   "source": [
    "for i in range(1,len(index_non_latin)):\n",
    "    index_non_latin[0] = index_non_latin[0].append(index_non_latin[i])"
   ]
  },
  {
   "cell_type": "code",
   "execution_count": 8,
   "metadata": {},
   "outputs": [],
   "source": [
    "index_non_latin = sorted(set(list(index_non_latin[0])))"
   ]
  },
  {
   "cell_type": "code",
   "execution_count": 9,
   "metadata": {},
   "outputs": [
    {
     "name": "stdout",
     "output_type": "stream",
     "text": [
      "Amount of job ads that are removed from the dataset (1 is for legitimate ads, 0 for fraudulent ones):\n"
     ]
    },
    {
     "data": {
      "text/plain": [
       "1    167\n",
       "Name: fraudulent, dtype: int64"
      ]
     },
     "execution_count": 9,
     "metadata": {},
     "output_type": "execute_result"
    }
   ],
   "source": [
    "print('Amount of job ads that are removed from the dataset (1 is for legitimate ads, 0 for fraudulent ones):')\n",
    "df[df.index.isin(index_non_latin)]['fraudulent'].value_counts()"
   ]
  },
  {
   "cell_type": "code",
   "execution_count": 10,
   "metadata": {},
   "outputs": [
    {
     "name": "stdout",
     "output_type": "stream",
     "text": [
      "After the preprocessing, we are left with 17713 job ads, 16847 of which are legitimate, 866 being fraudulent\n"
     ]
    }
   ],
   "source": [
    "df = df[df.index.isin(index_non_latin)==False]\n",
    "df.reset_index(inplace=True)\n",
    "print(f\"After the preprocessing, we are left with {len(df)} job ads, {len(df[df['fraudulent']==1])} of which are legitimate, {len(df[df['fraudulent']==0])} being fraudulent\")"
   ]
  },
  {
   "cell_type": "markdown",
   "metadata": {},
   "source": [
    "## Text pre-processing"
   ]
  },
  {
   "cell_type": "code",
   "execution_count": 11,
   "metadata": {},
   "outputs": [],
   "source": [
    "for column in df.columns[5:9]:\n",
    "    df[column].replace('([A-Z][a-z]|[A-Z] )', r' \\1', regex=True, inplace=True)\n",
    "    df[column].replace('(#URL\\w+|#PHONE\\w+|#EMAIL\\w+)', ' ', regex=True, inplace=True)\n",
    "    df[column].replace('(\\\\W|\\\\d)', ' ', regex=True, inplace=True)\n",
    "    df[column].replace(r'\\b\\w{1,3}\\b', ' ', regex=True, inplace=True)\n",
    "    df[column].replace('\\ +', ' ', regex=True, inplace=True)"
   ]
  },
  {
   "cell_type": "code",
   "execution_count": 12,
   "metadata": {
    "scrolled": true
   },
   "outputs": [],
   "source": [
    "# for column in df.columns[5:9]:\n",
    "#     for i in range(1, len(df[column])):\n",
    "#         if re.search(r'[^\\x00-\\x7F]+',df[column][i])!= None:\n",
    "#             print(re.search(r'[^\\x00-\\x7F]+',df[column][i]), df['job_id'][i])"
   ]
  },
  {
   "cell_type": "markdown",
   "metadata": {},
   "source": [
    "Let's see if any clear pattern can already be identified:"
   ]
  },
  {
   "cell_type": "code",
   "execution_count": 13,
   "metadata": {},
   "outputs": [
    {
     "data": {
      "image/png": "[encoded data removed]",
      "text/plain": [
       "<Figure size 1080x1080 with 2 Axes>"
      ]
     },
     "metadata": {},
     "output_type": "display_data"
    }
   ],
   "source": [
    "sns.heatmap(df.drop(columns=['fraudulent']).corr(), annot=True);"
   ]
  },
  {
   "cell_type": "markdown",
   "metadata": {},
   "source": [
    "No multicollinearity issues with those binary variables\n",
    "\n",
    "## Information loss\n",
    "Some information is too complex to deal with (e.g. `'title'` has 11,231 unique values over the 17,713 job offers in this dataset), or has too many missing values (`'salary_range'` has 14,925 missing values over the 17,713 in this dataset). Either way, they would marginally improve the results of our analysis so, we are going to remove those columns from our dataset."
   ]
  },
  {
   "cell_type": "code",
   "execution_count": 14,
   "metadata": {},
   "outputs": [],
   "source": [
    "df.drop(columns=['job_id','title', 'location', 'department', 'salary_range'], inplace=True)"
   ]
  },
  {
   "cell_type": "markdown",
   "metadata": {},
   "source": [
    "# Train Test Split"
   ]
  },
  {
   "cell_type": "code",
   "execution_count": 15,
   "metadata": {},
   "outputs": [],
   "source": [
    "labels = df['fraudulent']\n",
    "features = df.drop(columns=['fraudulent'])"
   ]
  },
  {
   "cell_type": "code",
   "execution_count": 16,
   "metadata": {},
   "outputs": [],
   "source": [
    "features_train, features_test, labels_train, labels_test = train_test_split(features,\n",
    "                                                    labels,\n",
    "                                                    random_state=666)\n",
    "\n",
    "# Initialising K-Folds\n",
    "kfold = KFold(n_splits=5,\n",
    "              random_state=666,\n",
    "              shuffle=True\n",
    "             )"
   ]
  },
  {
   "cell_type": "code",
   "execution_count": 17,
   "metadata": {},
   "outputs": [
    {
     "name": "stdout",
     "output_type": "stream",
     "text": [
      "13284 4429\n"
     ]
    }
   ],
   "source": [
    "print(len(features_train), len(features_test))"
   ]
  },
  {
   "cell_type": "code",
   "execution_count": 18,
   "metadata": {},
   "outputs": [
    {
     "data": {
      "text/plain": [
       "17713"
      ]
     },
     "execution_count": 18,
     "metadata": {},
     "output_type": "execute_result"
    }
   ],
   "source": [
    "len(features_train) + len(features_test)"
   ]
  },
  {
   "cell_type": "markdown",
   "metadata": {},
   "source": [
    "# Dataset formatting\n",
    "## Numerise the categorical data"
   ]
  },
  {
   "cell_type": "code",
   "execution_count": 19,
   "metadata": {},
   "outputs": [],
   "source": [
    "ohe = OneHotEncoder(sparse=False, handle_unknown='ignore')"
   ]
  },
  {
   "cell_type": "code",
   "execution_count": 20,
   "metadata": {},
   "outputs": [],
   "source": [
    "cat_features = ['employment_type', 'required_experience', 'required_education', 'industry', 'function']\n",
    "features_train_cat = features_train.loc[:, cat_features]\n",
    "features_test_cat = features_test.loc[:, cat_features]"
   ]
  },
  {
   "cell_type": "code",
   "execution_count": 21,
   "metadata": {},
   "outputs": [],
   "source": [
    "features_train_ohe = ohe.fit_transform(features_train_cat)\n",
    "features_test_ohe = ohe.transform(features_test_cat)"
   ]
  },
  {
   "cell_type": "code",
   "execution_count": 22,
   "metadata": {},
   "outputs": [],
   "source": [
    "cat_train_df = pd.DataFrame(features_train_ohe, columns=ohe.get_feature_names(input_features=cat_features))\n",
    "cat_test_df = pd.DataFrame(features_test_ohe, columns=ohe.get_feature_names(input_features=cat_features))"
   ]
  },
  {
   "cell_type": "markdown",
   "metadata": {},
   "source": [
    "## TF-IDF computation on the text data"
   ]
  },
  {
   "cell_type": "code",
   "execution_count": 23,
   "metadata": {},
   "outputs": [],
   "source": [
    "vect_comp = TfidfVectorizer(input='content', strip_accents='unicode', token_pattern=r'\\w+', analyzer='word', stop_words='english', max_features=5000)\n",
    "vect_desc = TfidfVectorizer(input='content', strip_accents='unicode', token_pattern=r'\\w+', analyzer='word', stop_words='english', max_features=5000)\n",
    "vect_req = TfidfVectorizer(input='content', strip_accents='unicode', token_pattern=r'\\w+', analyzer='word', stop_words='english', max_features=5000)\n",
    "vect_ben = TfidfVectorizer(input='content', strip_accents='unicode', token_pattern=r'\\w+', analyzer='word', stop_words='english', max_features=5000)"
   ]
  },
  {
   "cell_type": "code",
   "execution_count": 24,
   "metadata": {},
   "outputs": [],
   "source": [
    "text_features = ['company_profile', 'description', 'requirements', 'benefits']\n",
    "features_train_text = features_train.loc[:, text_features]\n",
    "features_test_text = features_test.loc[:, text_features]"
   ]
  },
  {
   "cell_type": "code",
   "execution_count": 25,
   "metadata": {},
   "outputs": [],
   "source": [
    "# train\n",
    "features_train_vectorized_c = vect_comp.fit_transform(features_train_text['company_profile'])\n",
    "features_train_vectorized_d = vect_desc.fit_transform(features_train_text['description'])\n",
    "features_train_vectorized_r = vect_req.fit_transform(features_train_text['requirements'])\n",
    "features_train_vectorized_b = vect_ben.fit_transform(features_train_text['benefits'])\n",
    "# test\n",
    "features_test_vectorized_c = vect_comp.transform(features_test_text['company_profile'])\n",
    "features_test_vectorized_d = vect_desc.transform(features_test_text['description'])\n",
    "features_test_vectorized_r = vect_req.transform(features_test_text['requirements'])\n",
    "features_test_vectorized_b = vect_ben.transform(features_test_text['benefits'])"
   ]
  },
  {
   "cell_type": "code",
   "execution_count": 26,
   "metadata": {},
   "outputs": [],
   "source": [
    "ftrainvc_df = pd.DataFrame(features_train_vectorized_c.todense(), columns=vect_comp.get_feature_names())\n",
    "ftrainvd_df = pd.DataFrame(features_train_vectorized_d.todense(), columns=vect_desc.get_feature_names())\n",
    "ftrainvr_df = pd.DataFrame(features_train_vectorized_r.todense(), columns=vect_req.get_feature_names())\n",
    "ftrainvb_df = pd.DataFrame(features_train_vectorized_b.todense(), columns=vect_ben.get_feature_names())\n",
    "text_train_df = pd.concat([ftrainvc_df, ftrainvd_df, ftrainvr_df, ftrainvb_df], axis=1)\n",
    "ftestvc_df = pd.DataFrame(features_test_vectorized_c.todense(), columns=vect_comp.get_feature_names())\n",
    "ftestvd_df = pd.DataFrame(features_test_vectorized_d.todense(), columns=vect_desc.get_feature_names())\n",
    "ftestvr_df = pd.DataFrame(features_test_vectorized_r.todense(), columns=vect_req.get_feature_names())\n",
    "ftestvb_df = pd.DataFrame(features_test_vectorized_b.todense(), columns=vect_ben.get_feature_names())\n",
    "text_test_df = pd.concat([ftestvc_df, ftestvd_df, ftestvr_df, ftestvb_df], axis=1)"
   ]
  },
  {
   "cell_type": "markdown",
   "metadata": {},
   "source": [
    "## Binary data"
   ]
  },
  {
   "cell_type": "code",
   "execution_count": 27,
   "metadata": {},
   "outputs": [],
   "source": [
    "binary_features = ['telecommuting', 'has_company_logo', 'has_questions', 'hasURL', 'hasPHONE', 'hasEMAIL']\n",
    "binary_train_df = features_train.loc[:, binary_features]\n",
    "binary_test_df = features_test.loc[:, binary_features]\n",
    "binary_train_df.reset_index(inplace=True)\n",
    "binary_test_df.reset_index(inplace=True)"
   ]
  },
  {
   "cell_type": "markdown",
   "metadata": {},
   "source": [
    "## Merging the dataframes"
   ]
  },
  {
   "cell_type": "code",
   "execution_count": 28,
   "metadata": {},
   "outputs": [],
   "source": [
    "feat_train = pd.concat([cat_train_df, text_train_df, binary_train_df], axis=1)\n",
    "feat_test = pd.concat([cat_test_df, text_test_df, binary_test_df], axis=1)"
   ]
  },
  {
   "cell_type": "code",
   "execution_count": 29,
   "metadata": {},
   "outputs": [
    {
     "name": "stdout",
     "output_type": "stream",
     "text": [
      "(13284, 20204) (4429, 20204)\n"
     ]
    }
   ],
   "source": [
    "print(feat_train.shape, feat_test.shape)"
   ]
  },
  {
   "cell_type": "markdown",
   "metadata": {},
   "source": [
    "# Addressing the class imbalance\n",
    "As class imbalance will only matter during the training step, SMOTE will only be applied to to train dataset."
   ]
  },
  {
   "cell_type": "code",
   "execution_count": 30,
   "metadata": {},
   "outputs": [],
   "source": [
    "# SMOTE doesn't work on text, it needs to be changed to TF-IDF\n",
    "sm = SMOTE(random_state=666, n_jobs=-1)"
   ]
  },
  {
   "cell_type": "code",
   "execution_count": 31,
   "metadata": {},
   "outputs": [],
   "source": [
    "X, y = sm.fit_resample(feat_train.values, labels_train)"
   ]
  },
  {
   "cell_type": "code",
   "execution_count": 32,
   "metadata": {},
   "outputs": [
    {
     "data": {
      "text/plain": [
       "(25262, 20204)"
      ]
     },
     "execution_count": 32,
     "metadata": {},
     "output_type": "execute_result"
    }
   ],
   "source": [
    "X.shape"
   ]
  },
  {
   "cell_type": "code",
   "execution_count": 33,
   "metadata": {},
   "outputs": [
    {
     "data": {
      "text/plain": [
       "(25262,)"
      ]
     },
     "execution_count": 33,
     "metadata": {},
     "output_type": "execute_result"
    }
   ],
   "source": [
    "y.shape"
   ]
  },
  {
   "cell_type": "code",
   "execution_count": 34,
   "metadata": {},
   "outputs": [],
   "source": [
    "# Exporting the train set for faster further training\n",
    "np.savetxt('X.csv', X, delimiter=',', fmt='%d')\n",
    "np.savetxt('y.csv', y, delimiter=',', fmt='%d')"
   ]
  },
  {
   "cell_type": "markdown",
   "metadata": {},
   "source": [
    "# Gaussian Naive Bayes"
   ]
  },
  {
   "cell_type": "code",
   "execution_count": 35,
   "metadata": {},
   "outputs": [],
   "source": [
    "gnb = GaussianNB()"
   ]
  },
  {
   "cell_type": "code",
   "execution_count": 36,
   "metadata": {},
   "outputs": [
    {
     "data": {
      "text/plain": [
       "GaussianNB()"
      ]
     },
     "execution_count": 36,
     "metadata": {},
     "output_type": "execute_result"
    }
   ],
   "source": [
    "gnb.fit(X, y)"
   ]
  },
  {
   "cell_type": "code",
   "execution_count": 37,
   "metadata": {},
   "outputs": [],
   "source": [
    "labels_train_pred = gnb.predict_proba(X)"
   ]
  },
  {
   "cell_type": "code",
   "execution_count": 38,
   "metadata": {
    "scrolled": true
   },
   "outputs": [
    {
     "name": "stdout",
     "output_type": "stream",
     "text": [
      "AUC train dataset: 0.9229556192359711\n"
     ]
    }
   ],
   "source": [
    "fpr, tpr, thresholds = roc_curve(y, labels_train_pred[:,1])\n",
    "print('AUC train dataset: {}'.format(auc(fpr, tpr)))"
   ]
  },
  {
   "cell_type": "code",
   "execution_count": 39,
   "metadata": {},
   "outputs": [],
   "source": [
    "pickle.dump(gnb, open('./models/gnb.pkl','wb'))"
   ]
  },
  {
   "cell_type": "markdown",
   "metadata": {},
   "source": [
    "# Multinomial Naive Bayes"
   ]
  },
  {
   "cell_type": "code",
   "execution_count": 38,
   "metadata": {},
   "outputs": [],
   "source": [
    "mnb = MultinomialNB(alpha=0.31)\n",
    "# alpha value has been determined during the last paragraph,\n",
    "# then the code has been run from here to update the results"
   ]
  },
  {
   "cell_type": "code",
   "execution_count": 39,
   "metadata": {},
   "outputs": [
    {
     "data": {
      "text/plain": [
       "MultinomialNB(alpha=0.31, class_prior=None, fit_prior=True)"
      ]
     },
     "execution_count": 39,
     "metadata": {},
     "output_type": "execute_result"
    }
   ],
   "source": [
    "mnb.fit(X, y)"
   ]
  },
  {
   "cell_type": "code",
   "execution_count": 40,
   "metadata": {},
   "outputs": [],
   "source": [
    "labels_train_pred = mnb.predict_proba(X)"
   ]
  },
  {
   "cell_type": "code",
   "execution_count": 41,
   "metadata": {},
   "outputs": [
    {
     "name": "stdout",
     "output_type": "stream",
     "text": [
      "AUC train dataset: 0.9924786527117431\n"
     ]
    }
   ],
   "source": [
    "fpr, tpr, thresholds = roc_curve(y, labels_train_pred[:,1])\n",
    "print('AUC train dataset: {}'.format(auc(fpr, tpr)))"
   ]
  },
  {
   "cell_type": "code",
   "execution_count": 42,
   "metadata": {},
   "outputs": [],
   "source": [
    "pickle.dump(mnb, open('./models/mnb.pkl','wb'))"
   ]
  },
  {
   "cell_type": "markdown",
   "metadata": {},
   "source": [
    "# Random Forest"
   ]
  },
  {
   "cell_type": "code",
   "execution_count": 43,
   "metadata": {},
   "outputs": [],
   "source": [
    "rfc = RandomForestClassifier(n_estimators=100, n_jobs=-1, random_state=666)"
   ]
  },
  {
   "cell_type": "code",
   "execution_count": 44,
   "metadata": {},
   "outputs": [
    {
     "data": {
      "text/plain": [
       "RandomForestClassifier(bootstrap=True, ccp_alpha=0.0, class_weight=None,\n",
       "                       criterion='gini', max_depth=None, max_features='auto',\n",
       "                       max_leaf_nodes=None, max_samples=None,\n",
       "                       min_impurity_decrease=0.0, min_impurity_split=None,\n",
       "                       min_samples_leaf=1, min_samples_split=2,\n",
       "                       min_weight_fraction_leaf=0.0, n_estimators=100,\n",
       "                       n_jobs=-1, oob_score=False, random_state=666, verbose=0,\n",
       "                       warm_start=False)"
      ]
     },
     "execution_count": 44,
     "metadata": {},
     "output_type": "execute_result"
    }
   ],
   "source": [
    "rfc.fit(X, y)"
   ]
  },
  {
   "cell_type": "code",
   "execution_count": 45,
   "metadata": {},
   "outputs": [],
   "source": [
    "# Graph of the RF features in order of importance\n",
    "# features = feat_train.columns\n",
    "# importances = rfc.feature_importances_\n",
    "# indices = np.argsort(importances)\n",
    "\n",
    "# plt.barh(range(len(indices)),importances[indices], align='center');\n",
    "# plt.yticks(range(len(indices)), [features[i] for i in indices]);"
   ]
  },
  {
   "cell_type": "code",
   "execution_count": 46,
   "metadata": {},
   "outputs": [],
   "source": [
    "labels_train_pred = rfc.predict(X)"
   ]
  },
  {
   "cell_type": "code",
   "execution_count": 47,
   "metadata": {},
   "outputs": [
    {
     "name": "stdout",
     "output_type": "stream",
     "text": [
      "AUC train dataset: 1.0\n"
     ]
    }
   ],
   "source": [
    "fpr, tpr, thresholds = roc_curve(y, labels_train_pred)\n",
    "print('AUC train dataset: {}'.format(auc(fpr, tpr)))"
   ]
  },
  {
   "cell_type": "code",
   "execution_count": 48,
   "metadata": {},
   "outputs": [],
   "source": [
    "pickle.dump(rfc, open('./models/rfc.pkl','wb'))"
   ]
  },
  {
   "cell_type": "markdown",
   "metadata": {},
   "source": [
    "## XGBoost"
   ]
  },
  {
   "cell_type": "code",
   "execution_count": 49,
   "metadata": {},
   "outputs": [],
   "source": [
    "xgb = XGBClassifier()"
   ]
  },
  {
   "cell_type": "code",
   "execution_count": 50,
   "metadata": {},
   "outputs": [
    {
     "data": {
      "text/plain": [
       "XGBClassifier(base_score=0.5, booster=None, colsample_bylevel=1,\n",
       "              colsample_bynode=1, colsample_bytree=1, gamma=0, gpu_id=-1,\n",
       "              importance_type='gain', interaction_constraints=None,\n",
       "              learning_rate=0.300000012, max_delta_step=0, max_depth=6,\n",
       "              min_child_weight=1, missing=nan, monotone_constraints=None,\n",
       "              n_estimators=100, n_jobs=0, num_parallel_tree=1,\n",
       "              objective='binary:logistic', random_state=0, reg_alpha=0,\n",
       "              reg_lambda=1, scale_pos_weight=1, subsample=1, tree_method=None,\n",
       "              validate_parameters=False, verbosity=None)"
      ]
     },
     "execution_count": 50,
     "metadata": {},
     "output_type": "execute_result"
    }
   ],
   "source": [
    "xgb.fit(X, y)"
   ]
  },
  {
   "cell_type": "code",
   "execution_count": 51,
   "metadata": {},
   "outputs": [],
   "source": [
    "labels_train_pred = xgb.predict(X)"
   ]
  },
  {
   "cell_type": "code",
   "execution_count": 52,
   "metadata": {},
   "outputs": [
    {
     "name": "stdout",
     "output_type": "stream",
     "text": [
      "AUC train dataset: 0.9998416594093895\n"
     ]
    }
   ],
   "source": [
    "fpr, tpr, thresholds = roc_curve(y, labels_train_pred)\n",
    "print('AUC train dataset: {}'.format(auc(fpr, tpr)))"
   ]
  },
  {
   "cell_type": "code",
   "execution_count": 53,
   "metadata": {},
   "outputs": [],
   "source": [
    "pickle.dump(xgb, open('./models/xgb.pkl','wb'))"
   ]
  },
  {
   "cell_type": "markdown",
   "metadata": {},
   "source": [
    "## Neural Network"
   ]
  },
  {
   "cell_type": "code",
   "execution_count": null,
   "metadata": {},
   "outputs": [],
   "source": [
    "X = np.genfromtxt('X.csv', delimiter=',')\n",
    "y = np.genfromtxt('y.csv', delimiter=',')"
   ]
  },
  {
   "cell_type": "code",
   "execution_count": 37,
   "metadata": {},
   "outputs": [],
   "source": [
    "from tensorflow.keras.callbacks import EarlyStopping, ModelCheckpoint\n",
    "from tensorflow.keras.layers import Dense, Embedding, GRU, LSTM, MaxPool1D, SpatialDropout1D\n",
    "from tensorflow.keras.models import load_model, Sequential\n",
    "from tensorflow.keras.preprocessing.sequence import pad_sequences\n",
    "from tensorflow.keras.preprocessing.text import Tokenizer\n",
    "from tensorflow.keras.utils import plot_model"
   ]
  },
  {
   "cell_type": "code",
   "execution_count": 42,
   "metadata": {},
   "outputs": [],
   "source": [
    "y_dum = pd.get_dummies(y).values"
   ]
  },
  {
   "cell_type": "code",
   "execution_count": 38,
   "metadata": {},
   "outputs": [],
   "source": [
    "max_words_in_post = 1000"
   ]
  },
  {
   "cell_type": "code",
   "execution_count": null,
   "metadata": {},
   "outputs": [],
   "source": [
    "# Do we need padding after smote?\n",
    "padded_X = pad_sequences(X, maxlen = max_words_in_post, padding = 'post')"
   ]
  },
  {
   "cell_type": "code",
   "execution_count": 50,
   "metadata": {},
   "outputs": [
    {
     "name": "stdout",
     "output_type": "stream",
     "text": [
      "Model: \"sequential_1\"\n",
      "_________________________________________________________________\n",
      "Layer (type)                 Output Shape              Param #   \n",
      "=================================================================\n",
      "embedding_1 (Embedding)      (None, 20204, 1000)       20205000  \n",
      "_________________________________________________________________\n",
      "spatial_dropout1d_1 (Spatial (None, 20204, 1000)       0         \n",
      "_________________________________________________________________\n",
      "lstm_1 (LSTM)                (None, 75)                322800    \n",
      "_________________________________________________________________\n",
      "dense (Dense)                (None, 2)                 152       \n",
      "=================================================================\n",
      "Total params: 20,527,952\n",
      "Trainable params: 20,527,952\n",
      "Non-trainable params: 0\n",
      "_________________________________________________________________\n"
     ]
    }
   ],
   "source": [
    "model = Sequential()\n",
    "model.add(Embedding(X.shape[1]+1, max_words_in_post, input_length=X.shape[1], mask_zero=True))\n",
    "model.add(SpatialDropout1D(0.3))\n",
    "model.add(LSTM(75, dropout=0.2))\n",
    "model.add(Dense(y.shape[1], activation='relu'))\n",
    "\n",
    "model.compile(loss='binary_crossentropy',\n",
    "              optimizer='adam', \n",
    "              metrics=['accuracy']\n",
    "             )\n",
    "model.summary()"
   ]
  },
  {
   "cell_type": "code",
   "execution_count": 52,
   "metadata": {},
   "outputs": [
    {
     "data": {
      "text/plain": [
       "(25262, 20204)"
      ]
     },
     "execution_count": 52,
     "metadata": {},
     "output_type": "execute_result"
    }
   ],
   "source": [
    "X.shape"
   ]
  },
  {
   "cell_type": "code",
   "execution_count": 53,
   "metadata": {},
   "outputs": [
    {
     "data": {
      "text/plain": [
       "(17713, 2)"
      ]
     },
     "execution_count": 53,
     "metadata": {},
     "output_type": "execute_result"
    }
   ],
   "source": [
    "y.shape"
   ]
  },
  {
   "cell_type": "code",
   "execution_count": 51,
   "metadata": {},
   "outputs": [
    {
     "ename": "ValueError",
     "evalue": "Data cardinality is ambiguous:\n  x sizes: 22735\n  y sizes: 17713\nPlease provide data which shares the same first dimension.",
     "output_type": "error",
     "traceback": [
      "\u001b[0;31m---------------------------------------------------------------------------\u001b[0m",
      "\u001b[0;31mValueError\u001b[0m                                Traceback (most recent call last)",
      "\u001b[0;32m<ipython-input-51-a484cb34a384>\u001b[0m in \u001b[0;36m<module>\u001b[0;34m\u001b[0m\n\u001b[0;32m----> 1\u001b[0;31m history = model.fit(X,\n\u001b[0m\u001b[1;32m      2\u001b[0m                     \u001b[0my\u001b[0m\u001b[0;34m,\u001b[0m\u001b[0;34m\u001b[0m\u001b[0;34m\u001b[0m\u001b[0m\n\u001b[1;32m      3\u001b[0m                     \u001b[0mepochs\u001b[0m\u001b[0;34m=\u001b[0m\u001b[0;36m20\u001b[0m\u001b[0;34m,\u001b[0m\u001b[0;34m\u001b[0m\u001b[0;34m\u001b[0m\u001b[0m\n\u001b[1;32m      4\u001b[0m                     \u001b[0mvalidation_split\u001b[0m\u001b[0;34m=\u001b[0m\u001b[0;36m0.1\u001b[0m\u001b[0;34m,\u001b[0m\u001b[0;34m\u001b[0m\u001b[0;34m\u001b[0m\u001b[0m\n\u001b[1;32m      5\u001b[0m                     callbacks=[EarlyStopping(monitor='val_loss',\n",
      "\u001b[0;32m~/.local/lib/python3.8/site-packages/tensorflow/python/keras/engine/training.py\u001b[0m in \u001b[0;36m_method_wrapper\u001b[0;34m(self, *args, **kwargs)\u001b[0m\n\u001b[1;32m    106\u001b[0m   \u001b[0;32mdef\u001b[0m \u001b[0m_method_wrapper\u001b[0m\u001b[0;34m(\u001b[0m\u001b[0mself\u001b[0m\u001b[0;34m,\u001b[0m \u001b[0;34m*\u001b[0m\u001b[0margs\u001b[0m\u001b[0;34m,\u001b[0m \u001b[0;34m**\u001b[0m\u001b[0mkwargs\u001b[0m\u001b[0;34m)\u001b[0m\u001b[0;34m:\u001b[0m\u001b[0;34m\u001b[0m\u001b[0;34m\u001b[0m\u001b[0m\n\u001b[1;32m    107\u001b[0m     \u001b[0;32mif\u001b[0m \u001b[0;32mnot\u001b[0m \u001b[0mself\u001b[0m\u001b[0;34m.\u001b[0m\u001b[0m_in_multi_worker_mode\u001b[0m\u001b[0;34m(\u001b[0m\u001b[0;34m)\u001b[0m\u001b[0;34m:\u001b[0m  \u001b[0;31m# pylint: disable=protected-access\u001b[0m\u001b[0;34m\u001b[0m\u001b[0;34m\u001b[0m\u001b[0m\n\u001b[0;32m--> 108\u001b[0;31m       \u001b[0;32mreturn\u001b[0m \u001b[0mmethod\u001b[0m\u001b[0;34m(\u001b[0m\u001b[0mself\u001b[0m\u001b[0;34m,\u001b[0m \u001b[0;34m*\u001b[0m\u001b[0margs\u001b[0m\u001b[0;34m,\u001b[0m \u001b[0;34m**\u001b[0m\u001b[0mkwargs\u001b[0m\u001b[0;34m)\u001b[0m\u001b[0;34m\u001b[0m\u001b[0;34m\u001b[0m\u001b[0m\n\u001b[0m\u001b[1;32m    109\u001b[0m \u001b[0;34m\u001b[0m\u001b[0m\n\u001b[1;32m    110\u001b[0m     \u001b[0;31m# Running inside `run_distribute_coordinator` already.\u001b[0m\u001b[0;34m\u001b[0m\u001b[0;34m\u001b[0m\u001b[0;34m\u001b[0m\u001b[0m\n",
      "\u001b[0;32m~/.local/lib/python3.8/site-packages/tensorflow/python/keras/engine/training.py\u001b[0m in \u001b[0;36mfit\u001b[0;34m(self, x, y, batch_size, epochs, verbose, callbacks, validation_split, validation_data, shuffle, class_weight, sample_weight, initial_epoch, steps_per_epoch, validation_steps, validation_batch_size, validation_freq, max_queue_size, workers, use_multiprocessing)\u001b[0m\n\u001b[1;32m   1047\u001b[0m          \u001b[0mtraining_utils\u001b[0m\u001b[0;34m.\u001b[0m\u001b[0mRespectCompiledTrainableState\u001b[0m\u001b[0;34m(\u001b[0m\u001b[0mself\u001b[0m\u001b[0;34m)\u001b[0m\u001b[0;34m:\u001b[0m\u001b[0;34m\u001b[0m\u001b[0;34m\u001b[0m\u001b[0m\n\u001b[1;32m   1048\u001b[0m       \u001b[0;31m# Creates a `tf.data.Dataset` and handles batch and epoch iteration.\u001b[0m\u001b[0;34m\u001b[0m\u001b[0;34m\u001b[0m\u001b[0;34m\u001b[0m\u001b[0m\n\u001b[0;32m-> 1049\u001b[0;31m       data_handler = data_adapter.DataHandler(\n\u001b[0m\u001b[1;32m   1050\u001b[0m           \u001b[0mx\u001b[0m\u001b[0;34m=\u001b[0m\u001b[0mx\u001b[0m\u001b[0;34m,\u001b[0m\u001b[0;34m\u001b[0m\u001b[0;34m\u001b[0m\u001b[0m\n\u001b[1;32m   1051\u001b[0m           \u001b[0my\u001b[0m\u001b[0;34m=\u001b[0m\u001b[0my\u001b[0m\u001b[0;34m,\u001b[0m\u001b[0;34m\u001b[0m\u001b[0;34m\u001b[0m\u001b[0m\n",
      "\u001b[0;32m~/.local/lib/python3.8/site-packages/tensorflow/python/keras/engine/data_adapter.py\u001b[0m in \u001b[0;36m__init__\u001b[0;34m(self, x, y, sample_weight, batch_size, steps_per_epoch, initial_epoch, epochs, shuffle, class_weight, max_queue_size, workers, use_multiprocessing, model, steps_per_execution)\u001b[0m\n\u001b[1;32m   1103\u001b[0m \u001b[0;34m\u001b[0m\u001b[0m\n\u001b[1;32m   1104\u001b[0m     \u001b[0madapter_cls\u001b[0m \u001b[0;34m=\u001b[0m \u001b[0mselect_data_adapter\u001b[0m\u001b[0;34m(\u001b[0m\u001b[0mx\u001b[0m\u001b[0;34m,\u001b[0m \u001b[0my\u001b[0m\u001b[0;34m)\u001b[0m\u001b[0;34m\u001b[0m\u001b[0;34m\u001b[0m\u001b[0m\n\u001b[0;32m-> 1105\u001b[0;31m     self._adapter = adapter_cls(\n\u001b[0m\u001b[1;32m   1106\u001b[0m         \u001b[0mx\u001b[0m\u001b[0;34m,\u001b[0m\u001b[0;34m\u001b[0m\u001b[0;34m\u001b[0m\u001b[0m\n\u001b[1;32m   1107\u001b[0m         \u001b[0my\u001b[0m\u001b[0;34m,\u001b[0m\u001b[0;34m\u001b[0m\u001b[0;34m\u001b[0m\u001b[0m\n",
      "\u001b[0;32m~/.local/lib/python3.8/site-packages/tensorflow/python/keras/engine/data_adapter.py\u001b[0m in \u001b[0;36m__init__\u001b[0;34m(self, x, y, sample_weights, sample_weight_modes, batch_size, epochs, steps, shuffle, **kwargs)\u001b[0m\n\u001b[1;32m    280\u001b[0m             label, \", \".join(str(i.shape[0]) for i in nest.flatten(data)))\n\u001b[1;32m    281\u001b[0m       \u001b[0mmsg\u001b[0m \u001b[0;34m+=\u001b[0m \u001b[0;34m\"Please provide data which shares the same first dimension.\"\u001b[0m\u001b[0;34m\u001b[0m\u001b[0;34m\u001b[0m\u001b[0m\n\u001b[0;32m--> 282\u001b[0;31m       \u001b[0;32mraise\u001b[0m \u001b[0mValueError\u001b[0m\u001b[0;34m(\u001b[0m\u001b[0mmsg\u001b[0m\u001b[0;34m)\u001b[0m\u001b[0;34m\u001b[0m\u001b[0;34m\u001b[0m\u001b[0m\n\u001b[0m\u001b[1;32m    283\u001b[0m     \u001b[0mnum_samples\u001b[0m \u001b[0;34m=\u001b[0m \u001b[0mnum_samples\u001b[0m\u001b[0;34m.\u001b[0m\u001b[0mpop\u001b[0m\u001b[0;34m(\u001b[0m\u001b[0;34m)\u001b[0m\u001b[0;34m\u001b[0m\u001b[0;34m\u001b[0m\u001b[0m\n\u001b[1;32m    284\u001b[0m \u001b[0;34m\u001b[0m\u001b[0m\n",
      "\u001b[0;31mValueError\u001b[0m: Data cardinality is ambiguous:\n  x sizes: 22735\n  y sizes: 17713\nPlease provide data which shares the same first dimension."
     ]
    }
   ],
   "source": [
    "history = model.fit(X,\n",
    "                    y,\n",
    "                    epochs=20,\n",
    "                    validation_split=0.1,\n",
    "                    callbacks=[EarlyStopping(monitor='val_loss',\n",
    "                                             min_delta=0.0001,\n",
    "                                             patience=3,\n",
    "                                             verbose=1,\n",
    "                                             mode='min',\n",
    "                                             restore_best_weights=True\n",
    "                                             ),\n",
    "                            #    ModelCheckpoint(filepath='drive/My Drive/Colab Notebooks/Model/Checkpoints/epoch-{epoch:03d}.ckpt', \n",
    "                            #                    verbose=1\n",
    "                            #                    )\n",
    "                              ]\n",
    "                   )"
   ]
  },
  {
   "cell_type": "code",
   "execution_count": null,
   "metadata": {},
   "outputs": [],
   "source": []
  },
  {
   "cell_type": "code",
   "execution_count": null,
   "metadata": {},
   "outputs": [],
   "source": []
  },
  {
   "cell_type": "markdown",
   "metadata": {},
   "source": [
    "########### WIP ###########\n",
    "\n",
    "# More metrics\n",
    "Probably create a class and export the code in a `.py` package later on."
   ]
  },
  {
   "cell_type": "code",
   "execution_count": null,
   "metadata": {},
   "outputs": [],
   "source": [
    "labels_hat(X, gnb)"
   ]
  },
  {
   "cell_type": "code",
   "execution_count": null,
   "metadata": {},
   "outputs": [],
   "source": [
    "precision(X, y, gnb)"
   ]
  },
  {
   "cell_type": "code",
   "execution_count": null,
   "metadata": {},
   "outputs": [],
   "source": [
    "def labels_hat(features, model):\n",
    "    return model.predict(features)\n",
    "\n",
    "def precision(labels, features, model):\n",
    "    label_hat = labels_hat(features, model)\n",
    "    labels_labels_hat = list(zip(labels, label_hat))\n",
    "    tp = sum([1 for i in y_yhat if i[0] == 1 and i[1] == 1])\n",
    "    fp = sum([1 for i in y_yhat if i[0] == 0 and i[1] == 1])\n",
    "    return tp / float(tp + fp)\n",
    "\n",
    "def recall(labels, features, model):\n",
    "    labels_hat = labels_hat(features, model)\n",
    "    labels_hat = list(zip(labels, labels_hat))\n",
    "    tp = sum([1 for i in labels_hat if i[0] == 1 and i[1] == 1])\n",
    "    fn = sum([1 for i in labels_hat if i[0] == 1 and i[1] == 0])\n",
    "    return tp / float(tp + fn)\n",
    "\n",
    "def f1score(labels, features, model):\n",
    "    labels_hat = labels_hat(features, model)\n",
    "    precision_score = precision(labels, labels_hat)\n",
    "    recall_score = recall(labels, labels_hat)\n",
    "    return 2 * ((precision_score * recall_score) / (precision_score + recall_score))\n",
    "\n",
    "def aucscore(labels, features, model):\n",
    "    labels_train_pred = model.predict(X)\n",
    "    fpr, tpr, thresholds = roc_curve(y, labels_train_pred)\n",
    "    return auc(fpr, tpr)\n",
    "\n",
    "# Use scikit-learn classification_report(), or\n",
    "# precision_score(), recall_score(), accuracy_score(), f1_score()?"
   ]
  },
  {
   "cell_type": "markdown",
   "metadata": {},
   "source": [
    "## Metrics summary table"
   ]
  },
  {
   "cell_type": "code",
   "execution_count": null,
   "metadata": {},
   "outputs": [],
   "source": [
    "models = [gnb, mnb, rfc, xgb]\n",
    "scores = []\n",
    "for model in models:\n",
    "    scores.append({'Precision' : precision(labels, features, model), 'Recall' : recall(labels, features, model), 'F1 score' : f1score(labels, features, model), 'AUC score' : aucscore(labels, features, model)})\n",
    "\n",
    "metrics = pd.DataFrame(scores, index = [i for i in models])"
   ]
  },
  {
   "cell_type": "markdown",
   "metadata": {},
   "source": [
    "########### WIP ###########\n",
    "\n",
    "Random Forest and XGBoost models are taking a very long time to compile. I selected the Multinomial Bayesian classifier after considering how marginal the ROC-AUC score improvement was for this classification projets. On top of this computational reason, the Multinomial Naive Bayes has the advantage to minimise the number of False Positives.\n",
    "# Finalising the selected model: Multinomial Bayesian Model\n",
    "## Confusion matrix"
   ]
  },
  {
   "cell_type": "code",
   "execution_count": 58,
   "metadata": {},
   "outputs": [
    {
     "data": {
      "image/png": "[encoded data removed]",
      "text/plain": [
       "<Figure size 1080x1080 with 2 Axes>"
      ]
     },
     "metadata": {},
     "output_type": "display_data"
    }
   ],
   "source": [
    "labels_test_preds = mnb.predict(feat_test)\n",
    "\n",
    "plot_confusion_matrix(mnb, \n",
    "                      labels_test, \n",
    "                      labels_test_preds, \n",
    "                      labels= ['Fraudulent', 'Legitimate'],  \n",
    "                      cmap=plt.cm.RdYlGn\n",
    "                     )\n",
    "plt.show()"
   ]
  },
  {
   "cell_type": "markdown",
   "metadata": {},
   "source": [
    "## Receiver Operating Characteristic"
   ]
  },
  {
   "cell_type": "code",
   "execution_count": 61,
   "metadata": {},
   "outputs": [
    {
     "name": "stdout",
     "output_type": "stream",
     "text": [
      "Training ROC_AUC: 98.99%\n",
      "Test ROC_AUC: 98.28%\n"
     ]
    }
   ],
   "source": [
    "labels_training_preds = mnb.predict_proba(feat_train.values)\n",
    "labels_test_preds = mnb.predict_proba(feat_test.values)\n",
    "\n",
    "training_roc_auc = roc_auc_score(labels_train, labels_training_preds[:,1])\n",
    "test_roc_auc = roc_auc_score(labels_test, labels_test_preds[:,1])\n",
    "\n",
    "print('Training ROC_AUC: {:.4}%'.format(training_roc_auc * 100))\n",
    "print('Test ROC_AUC: {:.4}%'.format(test_roc_auc * 100))"
   ]
  },
  {
   "cell_type": "markdown",
   "metadata": {},
   "source": [
    "### ROC plot"
   ]
  },
  {
   "cell_type": "code",
   "execution_count": 62,
   "metadata": {},
   "outputs": [
    {
     "data": {
      "image/png": "[encoded data removed]",
      "text/plain": [
       "<Figure size 1080x1080 with 1 Axes>"
      ]
     },
     "metadata": {},
     "output_type": "display_data"
    }
   ],
   "source": [
    "lib.buildROC(labels_train, labels_training_preds[:,1], labels_test, labels_test_preds[:,1])"
   ]
  },
  {
   "cell_type": "markdown",
   "metadata": {},
   "source": [
    "## Model optimisation (the dirty way)"
   ]
  },
  {
   "cell_type": "code",
   "execution_count": 65,
   "metadata": {},
   "outputs": [
    {
     "name": "stdout",
     "output_type": "stream",
     "text": [
      "alpha 0.01\n",
      "AUC train dataset: 0.970548650146465\n",
      "AUC test dataset: 0.9292873782861623\n",
      "{'TP': 4075, 'TN': 190, 'FP': 23, 'FN': 141}\n",
      "[2 1 0]\n",
      "----------\n",
      "alpha 0.06\n",
      "AUC train dataset: 0.9659567730187633\n",
      "AUC test dataset: 0.9325345653936268\n",
      "{'TP': 4043, 'TN': 193, 'FP': 20, 'FN': 173}\n",
      "[2 1 0]\n",
      "----------\n",
      "alpha 0.11\n",
      "AUC train dataset: 0.9639775156361332\n",
      "AUC test dataset: 0.9333402375034522\n",
      "{'TP': 4030, 'TN': 194, 'FP': 19, 'FN': 186}\n",
      "[2 1 0]\n",
      "----------\n",
      "alpha 0.16\n",
      "AUC train dataset: 0.9622753542870714\n",
      "AUC test dataset: 0.9317984917729019\n",
      "{'TP': 4017, 'TN': 194, 'FP': 19, 'FN': 199}\n",
      "[2 1 0]\n",
      "----------\n",
      "alpha 0.21\n",
      "AUC train dataset: 0.9614440661863668\n",
      "AUC test dataset: 0.9302567460423515\n",
      "{'TP': 4004, 'TN': 194, 'FP': 19, 'FN': 212}\n",
      "[2 1 0]\n",
      "----------\n",
      "alpha 0.26\n",
      "AUC train dataset: 0.9600981711661783\n",
      "AUC test dataset: 0.934240006770541\n",
      "{'TP': 3998, 'TN': 196, 'FP': 17, 'FN': 218}\n",
      "[2 1 0]\n",
      "----------\n",
      "alpha 0.31\n",
      "AUC train dataset: 0.9593856385084316\n",
      "AUC test dataset: 0.9350456788803664\n",
      "{'TP': 3985, 'TN': 197, 'FP': 16, 'FN': 231}\n",
      "[2 1 0]\n",
      "----------\n",
      "alpha 0.36\n",
      "AUC train dataset: 0.9582772543741588\n",
      "AUC test dataset: 0.9343341039278047\n",
      "{'TP': 3979, 'TN': 197, 'FP': 16, 'FN': 237}\n",
      "[2 1 0]\n",
      "----------\n",
      "alpha 0.41\n",
      "AUC train dataset: 0.9576438920117172\n",
      "AUC test dataset: 0.9332667414989622\n",
      "{'TP': 3970, 'TN': 197, 'FP': 16, 'FN': 246}\n",
      "[2 1 0]\n",
      "----------\n",
      "alpha 0.46\n",
      "AUC train dataset: 0.956970944501623\n",
      "AUC test dataset: 0.9324365707209735\n",
      "{'TP': 3963, 'TN': 197, 'FP': 16, 'FN': 253}\n",
      "[2 1 0]\n",
      "----------\n",
      "alpha 0.51\n",
      "AUC train dataset: 0.956258411843876\n",
      "AUC test dataset: 0.9323179748955466\n",
      "{'TP': 3962, 'TN': 197, 'FP': 16, 'FN': 254}\n",
      "[2 1 0]\n",
      "----------\n",
      "alpha 0.56\n",
      "AUC train dataset: 0.9555458791861294\n",
      "AUC test dataset: 0.9314878041175579\n",
      "{'TP': 3955, 'TN': 197, 'FP': 16, 'FN': 261}\n",
      "[2 1 0]\n",
      "----------\n",
      "alpha 0.61\n",
      "AUC train dataset: 0.9546354207901195\n",
      "AUC test dataset: 0.9307762291649962\n",
      "{'TP': 3949, 'TN': 197, 'FP': 16, 'FN': 267}\n",
      "[2 1 0]\n",
      "----------\n",
      "alpha 0.66\n",
      "AUC train dataset: 0.954002058427678\n",
      "AUC test dataset: 0.9320562845765293\n",
      "{'TP': 3940, 'TN': 198, 'FP': 15, 'FN': 276}\n",
      "[2 1 0]\n",
      "----------\n",
      "alpha 0.71\n",
      "AUC train dataset: 0.9533686960652363\n",
      "AUC test dataset: 0.9305145388459791\n",
      "{'TP': 3927, 'TN': 198, 'FP': 15, 'FN': 289}\n",
      "[2 1 0]\n",
      "----------\n",
      "alpha 0.76\n",
      "AUC train dataset: 0.952418652521574\n",
      "AUC test dataset: 0.9299215597188443\n",
      "{'TP': 3922, 'TN': 198, 'FP': 15, 'FN': 294}\n",
      "[2 1 0]\n",
      "----------\n",
      "alpha 0.81\n",
      "AUC train dataset: 0.9516269495685218\n",
      "AUC test dataset: 0.9293285805917096\n",
      "{'TP': 3917, 'TN': 198, 'FP': 15, 'FN': 299}\n",
      "[2 1 0]\n",
      "----------\n",
      "alpha 0.86\n",
      "AUC train dataset: 0.9507560763201648\n",
      "AUC test dataset: 0.928498409813721\n",
      "{'TP': 3910, 'TN': 198, 'FP': 15, 'FN': 306}\n",
      "[2 1 0]\n",
      "----------\n",
      "alpha 0.91\n",
      "AUC train dataset: 0.9502018842530283\n",
      "AUC test dataset: 0.9275496432103054\n",
      "{'TP': 3902, 'TN': 198, 'FP': 15, 'FN': 314}\n",
      "[2 1 0]\n",
      "----------\n",
      "alpha 0.96\n",
      "AUC train dataset: 0.9495289367429341\n",
      "AUC test dataset: 0.92660087660689\n",
      "{'TP': 3894, 'TN': 198, 'FP': 15, 'FN': 322}\n",
      "[2 1 0]\n",
      "----------\n"
     ]
    }
   ],
   "source": [
    "for alpha in [x for x in np.arange(0.01, 1, 0.05)]:\n",
    "    mnb = MultinomialNB(alpha=alpha)\n",
    "    mnb.fit(X, y)\n",
    "    labels_train_pred = mnb.predict(X)\n",
    "    labels_test_pred = mnb.predict(feat_test)\n",
    "    fpr, tpr, thresholds = roc_curve(y, labels_train_pred)\n",
    "    fprt, tprt, thresholdst = roc_curve(labels_test, labels_test_pred)\n",
    "    print('alpha', round(alpha,2))\n",
    "    print('AUC train dataset: {}'.format(auc(fpr, tpr)))\n",
    "    print('AUC test dataset: {}'.format(auc(fprt, tprt)))\n",
    "    cm = {'TP': 0, 'TN': 0, 'FP': 0, 'FN': 0}\n",
    "    for ind, label in enumerate(labels_test):\n",
    "        pred = labels_test_pred[ind]\n",
    "        if label == 1:\n",
    "            if label == pred:\n",
    "                cm['TP'] += 1\n",
    "            else:\n",
    "                cm['FN'] += 1\n",
    "        else:\n",
    "            if label == pred:\n",
    "                cm['TN'] += 1\n",
    "            else:\n",
    "                cm['FP'] += 1\n",
    "    print(cm)\n",
    "    print(thresholds)\n",
    "    print('-'*10)"
   ]
  },
  {
   "cell_type": "code",
   "execution_count": null,
   "metadata": {},
   "outputs": [],
   "source": []
  }
 ],
 "metadata": {
  "kernelspec": {
   "display_name": "Python 3",
   "language": "python",
   "name": "python3"
  },
  "language_info": {
   "codemirror_mode": {
    "name": "ipython",
    "version": 3
   },
   "file_extension": ".py",
   "mimetype": "text/x-python",
   "name": "python",
   "nbconvert_exporter": "python",
   "pygments_lexer": "ipython3",
   "version": "3.8.6"
  }
 },
 "nbformat": 4,
 "nbformat_minor": 4
}
