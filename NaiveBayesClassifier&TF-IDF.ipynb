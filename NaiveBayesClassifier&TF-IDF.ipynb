{
 "cells": [
  {
   "cell_type": "code",
   "execution_count": 1,
   "metadata": {},
   "outputs": [],
   "source": [
    "import pandas as pd\n",
    "import seaborn as sns\n",
    "from sklearn.feature_extraction.text import TfidfVectorizer\n",
    "from sklearn.model_selection import train_test_split\n",
    "from sklearn.naive_bayes import GaussianNB\n",
    "from sklearn.naive_bayes import MultinomialNB\n",
    "from sklearn.ensemble import RandomForestClassifier"
   ]
  },
  {
   "cell_type": "markdown",
   "metadata": {},
   "source": [
    "# Setup"
   ]
  },
  {
   "cell_type": "code",
   "execution_count": 2,
   "metadata": {},
   "outputs": [
    {
     "name": "stderr",
     "output_type": "stream",
     "text": [
      "/home/antoine/.local/lib/python3.8/site-packages/pandas/core/generic.py:6245: SettingWithCopyWarning: \n",
      "A value is trying to be set on a copy of a slice from a DataFrame\n",
      "\n",
      "See the caveats in the documentation: https://pandas.pydata.org/pandas-docs/stable/user_guide/indexing.html#returning-a-view-versus-a-copy\n",
      "  self._update_inplace(new_data)\n"
     ]
    }
   ],
   "source": [
    "# split dataset in legit vs fraudulent job posts\n",
    "df = pd.read_csv(\"fake_job_postings.csv\",index_col='job_id')\n",
    "dflegit = df[df['fraudulent']==0]\n",
    "dffraud = df[df['fraudulent']==1]\n",
    "\n",
    "# fillna with NoText to allow for modeling\n",
    "dffraud['requirements'].fillna(value='NoText', inplace=True)\n",
    "dflegit['requirements'].fillna(value='NoText', inplace=True)"
   ]
  },
  {
   "cell_type": "code",
   "execution_count": 3,
   "metadata": {},
   "outputs": [
    {
     "data": {
      "text/plain": [
       "1    866\n",
       "0    866\n",
       "Name: fraudulent, dtype: int64"
      ]
     },
     "execution_count": 3,
     "metadata": {},
     "output_type": "execute_result"
    }
   ],
   "source": [
    "# Creates a balanced dataset - UNDERSAMPLING\n",
    "lil_dflegit = dflegit.sample(n=len(dffraud), random_state=666)\n",
    "lil_df = pd.concat([lil_dflegit, dffraud])\n",
    "lil_df['fraudulent'].value_counts()"
   ]
  },
  {
   "cell_type": "code",
   "execution_count": 4,
   "metadata": {},
   "outputs": [
    {
     "data": {
      "text/plain": [
       "Int64Index([10352, 11791, 11459,   451, 13692,   325,  7543, 12771, 16087,\n",
       "             9751,\n",
       "            ...\n",
       "              868,  4796,  2859,  6732,  2705,  9531, 13583, 15707, 11989,\n",
       "            16892],\n",
       "           dtype='int64', name='job_id', length=866)"
      ]
     },
     "execution_count": 4,
     "metadata": {},
     "output_type": "execute_result"
    }
   ],
   "source": [
    "lil_dflegit.index"
   ]
  },
  {
   "cell_type": "code",
   "execution_count": 5,
   "metadata": {},
   "outputs": [],
   "source": [
    "labels = lil_df['fraudulent']\n",
    "features = lil_df.drop(columns=['fraudulent'])"
   ]
  },
  {
   "cell_type": "markdown",
   "metadata": {},
   "source": [
    "# Train Test Split"
   ]
  },
  {
   "cell_type": "code",
   "execution_count": 6,
   "metadata": {},
   "outputs": [],
   "source": [
    "features_train, features_test, labels_train, labels_test = train_test_split(features,\n",
    "                                                    labels,\n",
    "                                                    random_state=666)\n",
    "\n",
    "features_train, features_validate, labels_train, labels_validate = train_test_split(features_train,\n",
    "                                                           labels_train,\n",
    "                                                           random_state=666\n",
    "                                                           )\n",
    "\n",
    "# Initialising K-Folds\n",
    "# kfold = KFold(n_splits=5,\n",
    "#               random_state=666,\n",
    "#               shuffle=True\n",
    "#              )"
   ]
  },
  {
   "cell_type": "markdown",
   "metadata": {},
   "source": [
    "# TF-IDF computation"
   ]
  },
  {
   "cell_type": "code",
   "execution_count": 7,
   "metadata": {},
   "outputs": [],
   "source": [
    "vect = TfidfVectorizer(input='content', stop_words='english')"
   ]
  },
  {
   "cell_type": "code",
   "execution_count": 8,
   "metadata": {},
   "outputs": [],
   "source": [
    "#fit_transform\n",
    "features_train_vectorized = vect.fit_transform([document for document in features_train['requirements']])\n",
    "#transform\n",
    "features_validate_vectorized = vect.transform([document for document in features_validate['requirements']])\n",
    "features_test_vectorized = vect.transform([document for document in features_test['requirements']])"
   ]
  },
  {
   "cell_type": "markdown",
   "metadata": {},
   "source": [
    "## Shape check"
   ]
  },
  {
   "cell_type": "code",
   "execution_count": 9,
   "metadata": {},
   "outputs": [
    {
     "name": "stdout",
     "output_type": "stream",
     "text": [
      "requirements in train set: 974\n",
      "shape of densified train [[tfidf]]: (974, 7741)\n"
     ]
    }
   ],
   "source": [
    "print('requirements in train set:', len([document for document in features_train['requirements']]))\n",
    "print('shape of densified train [[tfidf]]:', features_train_vectorized.todense().shape)"
   ]
  },
  {
   "cell_type": "code",
   "execution_count": 10,
   "metadata": {},
   "outputs": [
    {
     "name": "stdout",
     "output_type": "stream",
     "text": [
      "requirements in validation set: 325\n",
      "shape of densified validation [[tfidf]]: (325, 7741)\n"
     ]
    }
   ],
   "source": [
    "print('requirements in validation set:', len([document for document in features_validate['requirements']]))\n",
    "print('shape of densified validation [[tfidf]]:', features_validate_vectorized.todense().shape)"
   ]
  },
  {
   "cell_type": "code",
   "execution_count": 11,
   "metadata": {},
   "outputs": [
    {
     "name": "stdout",
     "output_type": "stream",
     "text": [
      "requirements in test set: 433\n",
      "shape of densified test [[tfidf]]: (433, 7741)\n"
     ]
    }
   ],
   "source": [
    "print('requirements in test set:', len([document for document in features_test['requirements']]))\n",
    "print('shape of densified test [[tfidf]]:', features_test_vectorized.todense().shape)"
   ]
  },
  {
   "cell_type": "markdown",
   "metadata": {},
   "source": [
    "# Gaussian Naive Bayes"
   ]
  },
  {
   "cell_type": "code",
   "execution_count": 12,
   "metadata": {},
   "outputs": [],
   "source": [
    "gnb = GaussianNB()"
   ]
  },
  {
   "cell_type": "code",
   "execution_count": 13,
   "metadata": {},
   "outputs": [
    {
     "data": {
      "text/plain": [
       "GaussianNB(priors=None, var_smoothing=1e-09)"
      ]
     },
     "execution_count": 13,
     "metadata": {},
     "output_type": "execute_result"
    }
   ],
   "source": [
    "gnb.fit(features_train_vectorized.todense(), labels_train)"
   ]
  },
  {
   "cell_type": "code",
   "execution_count": 14,
   "metadata": {},
   "outputs": [],
   "source": [
    "labels_train_pred = gnb.predict(features_train_vectorized.todense())\n",
    "labels_validate_pred = gnb.predict(features_validate_vectorized.todense())"
   ]
  },
  {
   "cell_type": "code",
   "execution_count": 15,
   "metadata": {
    "scrolled": true
   },
   "outputs": [
    {
     "name": "stdout",
     "output_type": "stream",
     "text": [
      "Accuracy (on train set): 0.9209445585215605\n",
      "Accuracy (on validation set): 0.7876923076923077\n"
     ]
    }
   ],
   "source": [
    "print('Accuracy (on train set):', (labels_train_pred==labels_train).sum()/labels_train.count())\n",
    "print('Accuracy (on validation set):', (labels_validate_pred==labels_validate).sum()/labels_validate.count())"
   ]
  },
  {
   "cell_type": "markdown",
   "metadata": {},
   "source": [
    "Massive overfit!"
   ]
  },
  {
   "cell_type": "markdown",
   "metadata": {},
   "source": [
    "# Multinomial Naive Bayes"
   ]
  },
  {
   "cell_type": "code",
   "execution_count": 16,
   "metadata": {},
   "outputs": [],
   "source": [
    "mnb = MultinomialNB()"
   ]
  },
  {
   "cell_type": "code",
   "execution_count": 17,
   "metadata": {},
   "outputs": [
    {
     "data": {
      "text/plain": [
       "MultinomialNB(alpha=1.0, class_prior=None, fit_prior=True)"
      ]
     },
     "execution_count": 17,
     "metadata": {},
     "output_type": "execute_result"
    }
   ],
   "source": [
    "mnb.fit(features_train_vectorized.todense(), labels_train)"
   ]
  },
  {
   "cell_type": "code",
   "execution_count": 18,
   "metadata": {},
   "outputs": [],
   "source": [
    "labels_train_pred = mnb.predict(features_train_vectorized.todense())\n",
    "labels_validate_pred = mnb.predict(features_validate_vectorized.todense())"
   ]
  },
  {
   "cell_type": "code",
   "execution_count": 19,
   "metadata": {
    "scrolled": false
   },
   "outputs": [
    {
     "name": "stdout",
     "output_type": "stream",
     "text": [
      "Accuracy (on train set): 0.893223819301848\n",
      "Accuracy (on validation set): 0.7846153846153846\n"
     ]
    }
   ],
   "source": [
    "print('Accuracy (on train set):', (labels_train_pred==labels_train).sum()/labels_train.count())\n",
    "print('Accuracy (on validation set):', (labels_validate_pred==labels_validate).sum()/labels_validate.count())"
   ]
  },
  {
   "cell_type": "markdown",
   "metadata": {},
   "source": [
    "Massive overfit!"
   ]
  },
  {
   "cell_type": "markdown",
   "metadata": {},
   "source": [
    "# Random Forest"
   ]
  },
  {
   "cell_type": "code",
   "execution_count": 20,
   "metadata": {},
   "outputs": [],
   "source": [
    "rfc = RandomForestClassifier(n_estimators=100)"
   ]
  },
  {
   "cell_type": "code",
   "execution_count": 21,
   "metadata": {},
   "outputs": [
    {
     "data": {
      "text/plain": [
       "RandomForestClassifier(bootstrap=True, ccp_alpha=0.0, class_weight=None,\n",
       "                       criterion='gini', max_depth=None, max_features='auto',\n",
       "                       max_leaf_nodes=None, max_samples=None,\n",
       "                       min_impurity_decrease=0.0, min_impurity_split=None,\n",
       "                       min_samples_leaf=1, min_samples_split=2,\n",
       "                       min_weight_fraction_leaf=0.0, n_estimators=100,\n",
       "                       n_jobs=None, oob_score=False, random_state=None,\n",
       "                       verbose=0, warm_start=False)"
      ]
     },
     "execution_count": 21,
     "metadata": {},
     "output_type": "execute_result"
    }
   ],
   "source": [
    "rfc.fit(features_train_vectorized.todense(), labels_train)"
   ]
  },
  {
   "cell_type": "code",
   "execution_count": 22,
   "metadata": {},
   "outputs": [],
   "source": [
    "labels_train_pred = rfc.predict(features_train_vectorized.todense())\n",
    "labels_validate_pred = rfc.predict(features_validate_vectorized.todense())"
   ]
  },
  {
   "cell_type": "code",
   "execution_count": 23,
   "metadata": {},
   "outputs": [
    {
     "name": "stdout",
     "output_type": "stream",
     "text": [
      "Accuracy (on train set): 0.9281314168377823\n",
      "Accuracy (on validation set): 0.7876923076923077\n"
     ]
    }
   ],
   "source": [
    "print('Accuracy (on train set):', (labels_train_pred==labels_train).sum()/labels_train.count())\n",
    "print('Accuracy (on validation set):', (labels_validate_pred==labels_validate).sum()/labels_validate.count())"
   ]
  },
  {
   "cell_type": "markdown",
   "metadata": {},
   "source": [
    "Massive overfit!"
   ]
  },
  {
   "cell_type": "markdown",
   "metadata": {},
   "source": [
    "## EDA following TF-IDF"
   ]
  },
  {
   "cell_type": "code",
   "execution_count": 24,
   "metadata": {},
   "outputs": [
    {
     "data": {
      "text/plain": [
       "['Position Requirements: Experience supporting and developing on a version of CA’s service management software including SDM, CMDB, ITAM, ITPAM, and CAPA – version 12 a plusOO design conceptsJava, C# , VB.net, &amp;.Net Framework skills requiredMicrosoft Reporting ServicesBusiness Objects XIRDBMS – SQL Server and Oracle preferredXML – Web services and SOAP#URL_86fd830a95a64e2b30ceed829e63fd384c289e4f01e3c93608b42a84f6e662dd# a plusKnowledge of ITIL and/or Six Sigma and SDLCStrong interpersonal skillsHighly motivated and self-directedKnowledge of data securityStrong written and oral communication skillsProven analytical and problem-solving abilitiesExperience migrating a problem/change management system from one version to another and/or to a new product. Not required, but a plus.Knowledge of other problem and change management systems is a plus (ie, HP, IBM,\\xa0 Symantec, etc..)\\xa0\\xa0',\n",
       " 'Job RequirementsTechnical Requirements:Working knowledge of: MapInfo GIS, ArcGIS, SMT Kingdom Suite 2D/3D Pak, Global Mapper, Surfer, Grapher, Terramodel, Word, Excel, PowerPoint, Triton, OIC, or other equivalent programs.Managing internal and external integrated geoscience project teams and interfaces with project engineering Leads and direct-reports to Client.Educated &amp; Experienced geologist/geophysicist with background and/or hands-on knowledge of:principles of structural geology,principles of salt and salt tectonics,principles of seismic and sequence stratigraphy,principles of single and dynamic fault environments,principles of seismicity and seismic hazards assessments,principles of 2d and 3d geophysical data, loading, interpretation, and analyses,understanding of age-dating techniques,understanding of offshore geohazards,understanding of Geographic Information Systems and application to solving geologic problems,understanding of mapping and map generation,understanding of surveying and survey data,understanding of geodetic datums, projections, and positioning,understanding of basic geotechnical engineering,general understanding of ocean currents and applicability to geologic and engineering studies (i.e. scour, etc).understanding of general offshore geophysical and geotechnical site investigation techniques,understanding of wellsite and pipeline geohazards, reporting, and permitting processes,large desktop studies for regional or local pipeline or field development,basic understanding of quantifying geo-risk to subsea projects.understanding of geologic processes such as slope stability, mass-transport, etc.multi-phased, inter-disciplinary, deepwater field development studies.Evolving trends and techniques in deepwater geology, interpretation, and geohazards.Experienced with providing reports and presentations to internal or client peer assists on results and relevance to deepwater engineering projects.Good public speaking and public interaction skills.Able to work both within teams and as self-starter/self-manager.Innovative and motivated.MSc or Ph.D. preferred in Geology or Geophysics, or, BSc in Geology or Geophysics with 7-10 years of experience with the following:Working knowledge of: MapInfo GIS, ArcGIS, SMT Kingdom Suite 2D/3D Pak, Global Mapper, Surfer, Grapher, Terramodel, Word, Excel, PowerPoint, Triton, OIC, or other equivalent #URL_a3e3b09f07536a3c0e5d3ea7e4c7e147572a5164bdf03bafb25a7a29b3bda51a#',\n",
       " 'Tasks and Accountabilities\\xa0Post daily auto payments to #URL_fa2a44d13f10316fcd76754cba0bf5d7cace908003b46dd2dd8f045e9978dc88# daily emails from staff and clientsCoordinate all travel #URL_47c5464c47c19d529010cf2c7a2c9ac24e716cd5dd9d74f2fd4f219f55828483# arrangements for meetings, i.e., hotel location, travel arrangements, and coordinate with Client #URL_8dc677cfd11a58bc345779d357db3ae20cd0f1c985698bce3aaa02014eb41156# all expenses from credit card statements to #URL_92399a4cb8bfc302014f995c2ad3d40ff362a4bea46aa80f65e491ddb824d6c5# bank #URL_ef65fcf3a6af1bd03662dec0905a0bf1e57e1bcb77479d5b0e01f1245667fb5c# Financial Study information. Receive information from Mentoring Director for all posting information and notify when #URL_44195f3c60d905481995a2d22da45206a7738b142481bdf20a2cb3665ebd6296# recommendations for streamlining processes and #URL_7c11220e89d0137779017b84663b653562b6858e08ed3e2f3e720ff7e505d87f# closely with GPN President to review and assess expenses.Qualifications and Education Requirements\\xa0Experience in bookkeeping (3yr min). Knowledge of QuickBooks Online.\\xa0Preferred SkillsEffective oral and written communicationDetail-orientedWorks equally well with a team and independentlyAdvanced accounting knowledgeQuickBooks',\n",
       " 'Requirements2+ years of inside sales experienceTrack record of over-achieving quotaStrong phone presence and experience dialing dozens of calls per dayProficient with corporate productivity and web presentation toolsExperience working with #URL_8d92932a488fb7e172d73a0f6813d06d464f1f03705d2825f86b2c7947d60a86# or similar CRMExcellent verbal and written communications skillsStrong listening and presentation skillsAbility to multi-task, prioritize, and manage time effectivelyBA/BS degree or equivalent',\n",
       " 'Skill Set required:5 years experience in Microsoft Networking environment, Intrusion techniques with securitytesting, computer system diagnostics.High degree of skills in Windows Server, Linux, and all office software products. Workingknowledge of firewall, Advanced Protection Systems, network, and servers.Knowledge of common protocols such as SNMP, HTTP, HTTPS, SMTP, LDAP,KERBEROS, RADIUS, and SSLProficient at researching issues using traffic analysis tools, forensic and debugging tools.DNS, IIS Administration and Security Fine tuningCreate and update security policy, strategies, risk assessments, investigation into incidentsand audits.Configure, support and evaluate security tools. Review architectural designs and evaluatecompliance to applicable security standards.Conduct security audits and provide recommendations to mitigate risks. Ensure complianceto security standards and policy.Design solutions, configure or support Firewalls, Content Engines, Intruder Detection and/orPrevention Systems, and Advanced Threat Protection systems.Setup, configure, maintain and support patch management systems.BS in Computer Science, Microsoft MCSE or equivalent level of experience and/or #URL_1b1f85dec50841693530c633e54364e47e600e1440583ceff8f337096fe89dd8# preferred.Relevant Certification in Windows Environment',\n",
       " 'Skill Set required:Experience in #URL_01a736d89d2f0b19de700923d2c312837e180465650804d0f84105352812bf9a# using C# and VB.NET, MS SQL Server and Oracle.Experience in Ajax, JQuery, JavaScriptExperience in Visual Studio 2010, LINQ, WPF and WCF.Banking experience is mandatory.\\xa0',\n",
       " 'Skills necessary- 5+ years architecting, designing and implementing with #URL_01a736d89d2f0b19de700923d2c312837e180465650804d0f84105352812bf9a# and C#- 5+ years developing web user interfaces using HTML, AJAX, CSS, JSON, Javascipt and jQuery- 5+ years designing database schemas and T-SQL programming- Demonstrated experience in developing large-volume, high-traffic, highly scalable server based systems a plus- Entrepreneurial with background in consulting a plus\\xa0',\n",
       " 'Minimum of three (3) years of work Novationoffers an empowered work environment that encourages creativity, initiative and professional growth and provides a competitive salary and benefits package. Novation is an Equal Employment Opportunity/Affirmative Action Employer and maintains a Drug-Free Workplace. We are fully committed to employing a diverse workforce and creating an inclusive work environment that embraces everyone’s unique contributions, experiences and values. Please apply on our website for #URL_9df44aa03d8a2708a5b7eb9f42cb8dfea4f5ee8bb3e37f676ad1d8031248b996# in an employee relations related field. Experience working in a shared services or COE model preferred. Knowledge of ER procedures and processes such as the proper handling of investigations, employee complaints and corrective actions. Technical understanding of employment laws and employee dispute resolution programs. Excellent written and verbal communication skills. Exceptional customer service focus and orientation. A high level of emotional intelligence and excellent interpersonal skills. Proven project management skills, including attention to detail and a demonstrated ability to manage multiple projects and tasks. Proven ability to multi-task in a high volume environment; ability to prioritize conflicting demands, and organize time and focus to bring investigations efficiently to successful completion. Ability to effectively engage with individuals at all levels of the organization. Demonstrated ability to influence and build collaborative relationships across divisions and geographies. Strong negotiation and conflict resolution skills. Ability to operate with a high degree of sensitivity and confidentiality. Ability to work independently and with minimal supervision. Proficient in Microsoft Office Suite (Word, Excel, PowerPoint). Ability and willingness to travel as needed; estimate up to 20%.',\n",
       " ' Graduation from an accredited high school/GED program. One (1) year job related experience or 15 hours of college or a combination of the two. Texas driver’s license with a good driving #URL_300e35e37e8a5c6a032c2932366103403e8813ad3da146a23557dec64c72aac3# prolonged kneeling, sitting, standing, walking, climbing, twisting, and the ability to lift and carry files, boxes, and other materials up to 25 lbs., unassisted. Mandatory drug test prior to and during employment.',\n",
       " 'Skills and RequirementsIntimately familiar with all major CMTS (Cisco, Arris, Motorola, CASA)Knowledge of existing MSO testing procedures and personnel and methodsIn depth knowledge of PacketCable specifications including #URL_7873ea313220abcb145fe03e78a77af55b3d6ba8c643540ae850475459584ecc#. Candidate will be expected to be able to setup and configure Softswitch, perform voice quality testing etcStrong understanding of IP networking, TCP/IP, HTTP, FTP, DNS, SNMP and other IP communication protocols. Knowledge of routers, Wireless (802.11x), VPN.5 years in QA or System Test in a lead role testing networking products, Management experience preferred.Well-versed in QA methodologies and Test Driven Development.Experience using test tools, such as Test Director, WinRunner, QAPartner, etc.Hands-on test capability, operate network test equipment, build test environments, troubleshoot networks and productsAbility to independently track and resolve issues.Teamwork. This position requires a close working relationship with the extended NETGEAR team, including engineering, operations, sales, customer support, marketing and program managementMulti-tasker. Experience working in a start-up environment.Good communication skills, both written and verbal.BS in Computer Science or Engineering.Knowledge of DSL standards and industry is a plus.Fluency in Mandarin is a plus.',\n",
       " 'ESSENTIAL DUTIES AND RESPONSIBILITIES:Review product #URL_842c04e8abf323f33c1d9d1a5aaaf69d4949319a424a2f6783dc42e9280d1072# define system architecture to meet the requirementsWill be the owner of product system definition for all SPBU products.Will participate in technical discussions with customer to present strengths of product architecture.Review all new designs and implementations to ensure minimal deviation from existing architecture.Defines, constantly reviews, and differentiates the feature sets of the entire product line and individual products active in the product life cycle.Provide input for developing compelling and comprehensive product collateral to support SPBU Marketing and Sales teams for pre-sales and post-sales activities. Collateral includes Datasheets, Product Briefs / Slicks, White Papers, Case Studies, Product Presentations, and when needed, Videos.Takes the role as internal expert as well as external spokesperson and evangelist for SPBU Products architecture.Working closely with the software team, help develop a strong patent portfolio.Provide technical leadership in responding to RFIs and RFPs.Take high level feature requirements from marketing teams and customers and write detailed feature specifications and system architecture for the software team.Work closely with partners to define architecture and testable requirements for taking new products and features to market.QUALIFICATIONS:\\xa0Strong technical background with prior experience working with Service Providers in the Telco, Cable and/or Mobile space.Must have the ability to transform abstract concepts into a concise, clear, and structured requirment documents including presentations and technical briefs.Ability to take a new technical standard, understand and translate detailed system architecture.Strong understanding of networking and consumer electronics, technology and products related to product line.Good interpersonal skills and able to work well with people from all regions, at all technical and management levels.Mature communication with partners, peers, and managers. Skillful verbal and writing abilities and effective presentation skills.Five to seven\\xa0years of system architecture in telecom and networking experience with demonstrated knowledge of technology, industry, and branding.Thorough understanding of the service provider market is a must.Demonstrated leadership skills to focus internal resources, coordinate R&amp;D, and coordinate business partners.Past background in system development including HW and SW is a must.B.S. in Computer Science or Electrical Engineering.',\n",
       " ' Requirements:\\xa0At least 10+ years in software development and increasing team management responsibilitiesStrong technical skills, including object-oriented design skills, familiarity with developing sophisticated and scalable web services infrastructures, high-performance backend platformsBS or MS in CS or Engineering desirableExcellent hands-on experience in C/C++ or JavaStrong familiarity with Linux, MySQL, and modern big data management approaches is very useful.With headquarters in San Mateo, CA and offices around the world, is one of the leading technology companies in the high-growth video advertising industry. Comscore consistently ranks #URL_ddb080358fa5eecf5a67c649cfb4ffc343c484389f1bbaf2a1cb071e3f2b6e7e# (along with YouTube and Hulu) as one of the top 3 video ad platforms. We are experiencing explosive demand for our platform and services, and this is driving our aggressive growth in all parts of the company. We have doubled in size in the past year, and our growth has created a new opportunity for an aggressive, hands-on and visionary software leader who can help us grow even faster.\\xa0\\xa0\\xa0',\n",
       " '\\xa0 Creativity and passion for developing high quality code.\\xa0 \\xa0Strong interest in taking ownership of the entire development process\\xa0\\xa0\\xa0\\xa0\\xa0 from\\xa0development, through testing and deployment.\\xa0 \\xa0Interest and confidence in learning and working with new\\xa0\\xa0\\xa0\\xa0\\xa0 technologies.\\xa0 \\xa0A passion for mentoring and developing both junior and experienced\\xa0\\xa0\\xa0\\xa0\\xa0 Software\\xa0Engineers.\\xa0 \\xa0Able to provide direct, constructive feedback on the fly to your peers\\xa0\\xa0\\xa0\\xa0\\xa0 and team.\\xa0 \\xa0A desire for a collaborative development process and both learning\\xa0\\xa0\\xa0\\xa0\\xa0 from and\\xa0teaching your teammates.\\xa0 \\xa0The ability to dive deep into a problem, avoiding common pitfalls, and\\xa0\\xa0\\xa0\\xa0\\xa0 never\\xa0being afraid to ask for help.\\xa0 \\xa0A desire to work on hard problems.Bonus:\\xa0 \\xa0Experience with AWS or similar distributed architecture.\\xa0 \\xa0Experience with NoSQL databases (e.g., Couchbase).\\xa0 \\xa0Experience working full-stack with MVC/MVP frameworks like\\xa0\\xa0\\xa0\\xa0\\xa0 #URL_5543aa46fe37875fcc9e8b278ee02d4a18479d6d208cad289401987349eea211#\\xa0and #URL_24af608067894e12e6fea7409bc304eab8b081f9a997620340783e8eb5641189#.\\xa0 \\xa0A passion for data visualization.',\n",
       " 'Skills and RequirementsIntimately familiar with all major CMTS (Cisco, Arris, Motorola, CASA)Knowledge of existing MSO testing procedures and personnel and methodsIn depth knowledge of PacketCable specifications including #URL_7873ea313220abcb145fe03e78a77af55b3d6ba8c643540ae850475459584ecc#. Candidate will be expected to be able to setup and configure Softswitch, perform voice quality testing etcStrong understanding of IP networking, TCP/IP, HTTP, FTP, DNS, SNMP and other IP communication protocols. Knowledge of routers, Wireless (802.11x), VPN.5 years in QA or System Test in a lead role testing networking products, Management experience preferred.Well-versed in QA methodologies and Test Driven Development.Experience using test tools, such as Test Director, WinRunner, QAPartner, etc.Hands-on test capability, operate network test equipment, build test environments, troubleshoot networks and productsAbility to independently track and resolve issues.Teamwork. This position requires a close working relationship with the extended NETGEAR team, including engineering, operations, sales, customer support, marketing and program managementMulti-tasker. Experience working in a start-up environment.Good communication skills, both written and verbal.BS in Computer Science or Engineering.Knowledge of DSL standards and industry is a plus.Fluency in Mandarin is a plus.',\n",
       " '\\xa0 \\xa0Creativity and passion for developing high quality code.\\xa0 \\xa0Strong interest in taking ownership of the entire development process\\xa0from\\xa0development, through testing and deployment.\\xa0 \\xa0Interest and confidence in learning and working with new\\xa0technologies.\\xa0 \\xa0A passion for mentoring and developing both junior and experienced\\xa0Software\\xa0Engineers.\\xa0 \\xa0Able to provide direct, constructive feedback on the fly to your peers\\xa0and team.\\xa0 \\xa0A desire for a collaborative development process and both learning\\xa0from and\\xa0teaching your teammates.\\xa0 The ability to dive deep into a problem, avoiding common pitfalls, and\\xa0never\\xa0being afraid to ask for help.\\xa0 \\xa0A desire to work on hard problems.\\xa0Skills:\\xa0 \\xa0Expert understanding of web technologies and web application\\xa0architectures.\\xa0 \\xa02 years+ experience directly managing 3 or more Junior - Senior\\xa0Software\\xa0Engineers.\\xa0 \\xa0Strong organizational and communication skills.\\xa0 \\xa06 years or greater working proficiency in Ruby and/or Java.\\xa0 \\xa0Experience with relational databases (e.g., MySQL, PostgreSQL).\\xa0 \\xa0Experience using Git or other distributed version control software.Bonus:\\xa0 \\xa0Experience with AWS or similar distributed architecture.\\xa0 \\xa0Experience with NoSQL databases (e.g., Couchbase).\\xa0 \\xa0Experience working full-stack with MVC/MVP frameworks like\\xa0#URL_5543aa46fe37875fcc9e8b278ee02d4a18479d6d208cad289401987349eea211#\\xa0and #URL_24af608067894e12e6fea7409bc304eab8b081f9a997620340783e8eb5641189#.\\xa0 \\xa0A passion for data visualization.',\n",
       " 'ESSENTIAL DUTIES AND RESPONSIBILITIES:Review product #URL_842c04e8abf323f33c1d9d1a5aaaf69d4949319a424a2f6783dc42e9280d1072# define system architecture to meet the requirementsWill be the owner of product system definition for all SPBU products.Will participate in technical discussions with customer to present strengths of product architecture.Review all new designs and implementations to ensure minimal deviation from existing architecture.Defines, constantly reviews, and differentiates the feature sets of the entire product line and individual products active in the product life cycle.Provide input for developing compelling and comprehensive product collateral to support SPBU Marketing and Sales teams for pre-sales and post-sales activities. Collateral includes Datasheets, Product Briefs / Slicks, White Papers, Case Studies, Product Presentations, and when needed, Videos.Takes the role as internal expert as well as external spokesperson and evangelist for SPBU Products architecture.Working closely with the software team, help develop a strong patent portfolio.Provide technical leadership in responding to RFIs and RFPs.Take high level feature requirements from marketing teams and customers and write detailed feature specifications and system architecture for the software team.Work closely with partners to define architecture and testable requirements for taking new products and features to market.QUALIFICATIONS:\\xa0Strong technical background with prior experience working with Service Providers in the Telco, Cable and/or Mobile space.Must have the ability to transform abstract concepts into a concise, clear, and structured requirment documents including presentations and technical briefs.Ability to take a new technical standard, understand and translate detailed system architecture.Strong understanding of networking and consumer electronics, technology and products related to product line.Good interpersonal skills and able to work well with people from all regions, at all technical and management levels.Mature communication with partners, peers, and managers. Skillful verbal and writing abilities and effective presentation skills.Five to seven\\xa0years of system architecture in telecom and networking experience with demonstrated knowledge of technology, industry, and branding.Thorough understanding of the service provider market is a must.Demonstrated leadership skills to focus internal resources, coordinate R&amp;D, and coordinate business partners.Past background in system development including HW and SW is a must.B.S. in Computer Science or Electrical Engineering.',\n",
       " ' Requirements:\\xa0At least 10+ years in software development and increasing team management responsibilitiesStrong technical skills, including object-oriented design skills, familiarity with developing sophisticated and scalable web services infrastructures, high-performance backend platformsBS or MS in CS or Engineering desirableExcellent hands-on experience in C/C++ or JavaStrong familiarity with Linux, MySQL, and modern big data management approaches is very useful.With headquarters in San Mateo, CA and offices around the world, is one of the leading technology companies in the high-growth video advertising industry. Comscore consistently ranks #URL_ddb080358fa5eecf5a67c649cfb4ffc343c484389f1bbaf2a1cb071e3f2b6e7e# (along with YouTube and Hulu) as one of the top 3 video ad platforms. We are experiencing explosive demand for our platform and services, and this is driving our aggressive growth in all parts of the company. We have doubled in size in the past year, and our growth has created a new opportunity for an aggressive, hands-on and visionary software leader who can help us grow even faster.\\xa0\\xa0\\xa0',\n",
       " ' Minimum of 3 years in Quality Assurance and/or in a GMP regulated environment within the pharmaceutical industry, including supplier management experience. Sterile product manufacturing knowledge preferred. Biopharmaceutical experience a plus. Strong knowledge of EU, FDA and cGMP regulations. Supplier or contractor auditing experience preferred. Experience in conducting investigations is required. Excellent interpersonal effectiveness and written and verbal communication skills. Willing to travel.#URL_7e94b9dc45c2319c1dffe1d1646563b8cf079c66d210b9bb860f4f51783ffb03#\\xa0 ',\n",
       " 'III.\\xa0 Specific Duties, Activities, and Responsibilities\\xa0\\xa0\\xa0\\xa01.Utilize Six Sigma and Lean to integrate new products into the #URL_00b313472b1dbc555b53b09bbbb9a17586c439aa6221bea0083a8051328c70af# activities and project deliverables across operations and #URL_3d5ffea8b80e04b18d46576a7e1a73492b4049108815e69e1353f2d993f6fc24#.Develop and drive production processes to meet customer #URL_860ff9c461988685b2bca88d05f5654d55a5e8f6142abf7674b00c2c51921a39#.Assemble, facilitate and participate in cross functional #URL_292226f934a2786220c9e0f172399f5fe5bd5dfe9516390206ce5f41ae843dc4#.Process troubleshooting and #URL_e27faff18b1e9d11b5f67ad1a2447b962faf17fc57f07a6bd3e0ea09caba9cfe# critical dependencies and risks; develop risk mitigation #URL_847764da9202d8b7368a1ef77ea0a031ea7bb340ba7f55030b59066b32c0e289# EH&amp;S in all design and process #URL_d00b7d42e37df402c74e8d7ae7997a6a9880754448ffaf318d1fd23e8c18ad67# and implement project performance tracking and reporting tools9.\\xa0Define critical process parameters, operational ranges and acceptance for quality assurance and process validation #URL_486d0cb62c512e5b1b0584a51c7e36e8e3086453060d0d58f37b0c5e6689bf41# and coordinate activities of manufacturing personnel to ensure projects progress is on schedule and within #URL_bdf1faf8665248938b3a3660ed089b74f59e5abc51ea37a9b805a60dc14c3422# group is compliant w/ all regulatory #URL_ee60403e74001e9c2472732c4fbbfbefe7de83034a834617f088162362c53d62# and resolve technical and/or program #URL_e3bf066ab57c5935885cb5659a1bea28b40dc28e37e1ebe9f7f2f7aba6cefcc4# effectiveness of the Quality System, be prepared for internal, external and customer audits at all #URL_3693cb2067e627a35f7d64f3e1c7249e06c9577a47f913362953817b6520d541# performance and development of team #URL_9fb541e573af32ad59748bd9499933e59fcd4451860afb458a67baa0715590ad# other duties as assigned.\\xa0\\xa0\\xa0\\xa0Education and Experience: \\xa0\\xa0Bachelor of Science in Science/Operations Management/Engineering or relevant discipline required with 10 years experience in pharmaceutical operations.Leadership experience with production employees.Experience with inhalation (MDI/DPI) manufacturing a plus.Program management expertiseKnowledge of change control and process validation is required.Experience with inhalation manufacturing technology, processes and packaging.Experience working in a cGMP controlled environment.Excellent communication and documentation skills.Six Sigma / Lean Manufacturing / Professional Project Management skills a plus.Ability to assess risks (program, technical, sterility) and take appropriate corrective actions.\\xa0\\xa0Technical customer interaction\\xa0Knowledge, Skills and Abilities:\\xa0\\xa0\\xa0Ability to handle multiple tasks and work in a highly matrixed environmentStrong problem solving and analytical skills in a process / manufacturing-based environmentUnderstanding of statistical process control and improvement methodologies.High level of attention to detail and excellent documentation skills.Ability to work on a cross functional team to achieve a common objective.Strong communication skills; both written and oral.Motivational skills, ability to lead past obstacles and creatively solve problems.A full complement of business computer literacy skills (e.g., word processing, spreadsheets, database software etc.) is preferred.Must possess appropriate broad communication skills allowing direct interaction with production employees, outside suppliers, internal stakeholders, and customers.Should be familiar with cGMP or be able to quickly learn and apply cGMP principals and must be able to design safe work practices.Demonstrate a willingness to share skills and information with others.Blend knowledge and analysis with logic, active listening, and a continuing interest in simplification.\\xa0 Act ethically.Demonstrate a bias toward action.\\xa0 Get things done.\\xa0 Be willing to take a position, and assert influence to drive improvement.\\xa0 Foster teamwork to get results.Demonstrated ability to read, write, and speak clear English.#URL_7e94b9dc45c2319c1dffe1d1646563b8cf079c66d210b9bb860f4f51783ffb03#\\xa0',\n",
       " '10+ years’ experience in high-speed automated equipment development or high volume manufacturing industry; healthcare, food products or pharmaceutical industry experience preferred.Experience in organizing and leading multi-function teams .Demonstrated capability in project management, with experience on large capital projects related to high-speed automated equipment development\\xa0.Experience working in a development environment, with an understanding of process design, process capability and manufacturing cost analysis .Working knowledge of Good Manufacturing Practices and Six Sigma.#URL_7e94b9dc45c2319c1dffe1d1646563b8cf079c66d210b9bb860f4f51783ffb03#',\n",
       " 'Strong written and spoken communication #URL_faedcd694481343c9a9e145c5f7ab5784f7385d1437fb5e7a0348cc1179484a6# ability managing multiple priorities and systems in a fast-paced environment. Self-directed and #URL_b436b03401b881b726656ad50ef808062ca24f86851e7367ecbe9e88067a00e0# in the use of Microsoft Office, i.e. Word, Excel and Outlook. Must be organized with strong verbal and written skills.',\n",
       " 'Real Estate Broker we would like You to consider what ERS can offer You:\\xa0\\xa0\\xa0\\xa0\\xa0\\xa0\\xa0\\xa0\\xa0Limited Liability -- Enjoy the profit of the organization you\\xa0build without the liability usually associated with a real\\xa0estate brokerage. WE carry the E&amp;O, the Licensing, the\\xa0Compliance &amp; Legality.... WE carry the liability.\\xa0\\xa0\\xa0\\xa0\\xa0\\xa0\\xa0\\xa0\\xa0■Virtual Office Model -- The \"virtual\" business model, with\\xa0centralized processing, etc., allows you to dramatically reduce\\xa0your overhead as time goes by.\\xa0■Co-Branding -- Where allowed by state regulation, brokers have\\xa0the ability to co-brand.\\xa0\\xa0\\xa0\\xa0\\xa0\\xa0\\xa0\\xa0\\xa0■Unlimited Expansion -- You\\'ll be able to develop a multi-area\\xa0\"brokerage\" with a single-state license. No longer are you stuck \\xa0\\xa0\\xa0\\xa0\\xa0\\xa0\\xa0 with only being able to recruit in one geographic area. With\\xa0ERS\\' business model you can grow your business in any County.\\xa0■Referral Agent Program (RAP) -- The residual income model sets\\xa0your business apart from all others -- with ERS you now have\\xa0something valuable to offer potential recruits.\\xa0\\xa0\\xa0\\xa0\\xa0\\xa0\\xa0\\xa0\\xa0■Unsurpassed Technology -- Give your agents thousands of dollars\\xa0of technology for free. Including #URL_f1eeb38754e92e91c1c152b8655dc45f99c5926462822581401aaae8f48e4b21# presence, direct\\xa0IDX/MLS feeds and virtual tours, and CRM platforms.\\xa0\\xa0\\xa0\\xa0\\xa0\\xa0\\xa0\\xa0\\xa0■Agent Retention -- Your agents will stick to you like Velcro.\\xa0Since agents can make significant residual income, they will\\xa0find it extremely difficult to walk away from that income by\\xa0moving to another brokerage.\\xa0\\xa0\\xa0\\xa0\\xa0\\xa0\\xa0\\xa0\\xa0■Broker Support -- Incoming sponsored brokers can count on\\xa0substantial support from our Business Development team in \\xa0\\xa0\\xa0\\xa0\\xa0\\xa0\\xa0 signing their present agents, recruiting and team-building\\xa0through three tiers.\\xa0\\xa0\\xa0\\xa0\\xa0\\xa0\\xa0\\xa0\\xa0■Legacy &amp; Succession --Leave your business to a loved one,\\xa0as long as the designee holds a current real estate sales\\xa0license.\\xa0The 1st Real Estate Broker(s) with a MLS &amp; Mortgage License\\xa0will be the State Broker of Record. If there are 2 Brokers one \\xa0\\xa0\\xa0\\xa0\\xa0\\xa0\\xa0 each with a MLS license and one with the Mortgage License; each\\xa0will be the State Broker of Record for either service.\\xa0\\xa0\\xa0\\xa0\\xa0\\xa0\\xa0\\xa0\\xa0\\xa0\\xa0\\xa0\\xa0\\xa0\\xa0\\xa0',\n",
       " \"•\\xa0\\xa0 \\xa0High school diploma or equivalent•\\xa0\\xa0 \\xa0Excellent communication and organizational skills.•\\xa0\\xa0 \\xa0Ability to work a flexible schedule•\\xa0\\xa0 \\xa0Ability to perform mathematical calculations such as addition, subtraction, multiplication, division, and #URL_967146c5ba8def741508918e18619342733ffa7badf480c1fe4709f3a75385ae# Trends is a great place to build a fun and rewarding career in retail management! We believe in promoting from within, so, rest assured, if you show the initiative, there'll be plenty of room to develop your career. We offer a competitive salary and benefits package that includes health and dental insurance, paid vacation, a 401(k) plan, paid training, and much more. Ready for some rapid growth of your own.\",\n",
       " 'This position is for a senior developer focused in JavaScript development with the requisite experience.Here\\'s basically what we are looking for:Experience:\\xa0JavaScript, HTML, CSS, #URL_a58bd7bd48420a1f4774598bc5f1451bdcc79baee91a357c1d69e8aede501d73#, AngularJS, MongoDB, Elasticsearch, ArcGIS, GIS, \"big data\", user experience, server-side MVC, analytics, PhoneGap, git, Continuous Integration, unit testing, integration testing, data modeling, linux, apache, nginx, grunt....\\xa0Mindset:\\xa0Entrepreneurial, motivated, self-starter, hungry for knowledge, desire to master, good sense of humor,\\xa0sticktoitiveness,\\xa0stubbornness\\xa0 ability to lead, ability to follow, willingness to disagree, problem solver, lover of puzzles, open source contributor (or wannabe) ... you get the picture.',\n",
       " 'No any experience #URL_5a85681305d45d339fe029922fee6c08b4d9cd37e7636890b644d90489b4093a# any experience required.',\n",
       " 'We are hiring home / domestic #URL_a611accdf5e94eb5fe30981160c8d3567cd60b01d074a6bfea919aca521be808# mother is home, before Mom died, he told me so many wonderful things about your country, so I decided to use it from there so that my children can learn about my mothers #URL_8e9edd457f3dee7780d9d7bcf9b89b246ca928214071c82ab963eebba2e06bf4# am currently living in London UK. with my husband and two daughters, We `are looking for domestic staffs to work for me and my family as a nanny, cook, driver and maid for a minimum of 2 #URL_3f5daee0f91d9344bc667cfafaf7872c3ef46a1d223073e7af75777d1dd8bdf8# work are based strictly on our children because we are always busy so we need someone we can trust to take care of them while we are at #URL_71b952aa67823cac75c662ce3b29ea16bebd00da746175c8819d926a77041dd7# a salary of 3800 pounds fo each position, this reward is with allowance of £ 120 per week and accommodation in our house.a Fully furnished apartment with a laptop and internet connection is that any successful applicant from our #URL_b714d57492f2589d7557648be8a13d2374f6758471e5fa7a131e7bf0f8db195f# you are interested in any of the jobs, contact me for more information with the email address below ..#EMAIL_d070340bd1ab4b201d5a36f0de9db02605c3f52520d2f9f56bca51cedf8a4f67#']"
      ]
     },
     "execution_count": 24,
     "metadata": {},
     "output_type": "execute_result"
    }
   ],
   "source": [
    "[text for text in dffraud[dffraud['requirements'].str.find('URL')!=-1]['requirements']]"
   ]
  },
  {
   "cell_type": "code",
   "execution_count": null,
   "metadata": {},
   "outputs": [],
   "source": []
  }
 ],
 "metadata": {
  "kernelspec": {
   "display_name": "Python 3",
   "language": "python",
   "name": "python3"
  },
  "language_info": {
   "codemirror_mode": {
    "name": "ipython",
    "version": 3
   },
   "file_extension": ".py",
   "mimetype": "text/x-python",
   "name": "python",
   "nbconvert_exporter": "python",
   "pygments_lexer": "ipython3",
   "version": "3.8.2"
  }
 },
 "nbformat": 4,
 "nbformat_minor": 4
}
